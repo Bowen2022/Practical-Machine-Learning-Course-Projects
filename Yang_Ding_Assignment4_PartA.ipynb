{
 "cells": [
  {
   "cell_type": "markdown",
   "metadata": {},
   "source": [
    "# ENGR 891: Programming Assignment #4\n",
    "## Part A: \n",
    "### Pre-processing"
   ]
  },
  {
   "cell_type": "code",
   "execution_count": 1,
   "metadata": {},
   "outputs": [],
   "source": [
    "import numpy as np\n",
    "import matplotlib.pyplot as plt\n",
    "\n",
    "from sklearn.metrics import confusion_matrix, accuracy_score, classification_report\n",
    "\n",
    "import tensorflow as tf\n",
    "from tensorflow import keras"
   ]
  },
  {
   "cell_type": "markdown",
   "metadata": {},
   "source": [
    "### Load & Scale the Dataset"
   ]
  },
  {
   "cell_type": "code",
   "execution_count": 2,
   "metadata": {},
   "outputs": [
    {
     "name": "stdout",
     "output_type": "stream",
     "text": [
      "No. of Training Samples:  (55000, 28, 28)\n",
      "No. of Training Labels:  (55000,)\n",
      "\n",
      "No. of Validation Samples:  (5000, 28, 28)\n",
      "No. of Validation Labels:  (5000,)\n",
      "\n",
      "No. of Testing Samples:  (10000, 28, 28)\n",
      "No. of Testing Labels:  (10000,)\n",
      "\n",
      "X type:  float64\n",
      "y type:  uint8\n"
     ]
    }
   ],
   "source": [
    "mnist = keras.datasets.mnist\n",
    "\n",
    "# Load the full training & test data\n",
    "(X_train_full, y_train_full), (X_test, y_test) = mnist.load_data()\n",
    "\n",
    "\n",
    "# Create validation dataset as well as scale (max-min scaling) the data\n",
    "X_valid, X_train = X_train_full[:5000] / 255.0, X_train_full[5000:] / 255.0\n",
    "y_valid, y_train = y_train_full[:5000], y_train_full[5000:]\n",
    "X_test = X_test / 255.0\n",
    "\n",
    "print(\"No. of Training Samples: \", X_train.shape)\n",
    "print(\"No. of Training Labels: \", y_train.shape)\n",
    "\n",
    "print(\"\\nNo. of Validation Samples: \", X_valid.shape)\n",
    "print(\"No. of Validation Labels: \", y_valid.shape)\n",
    "\n",
    "print(\"\\nNo. of Testing Samples: \", X_test.shape)\n",
    "print(\"No. of Testing Labels: \", y_test.shape)\n",
    "\n",
    "print(\"\\nX type: \", X_train.dtype)\n",
    "print(\"y type: \", y_train.dtype)"
   ]
  },
  {
   "cell_type": "markdown",
   "metadata": {},
   "source": [
    "## Experiment 1\n",
    "\n",
    "### Build the MLP Model: kernel_initializer = zeros, activation = sigmoid"
   ]
  },
  {
   "cell_type": "code",
   "execution_count": 3,
   "metadata": {},
   "outputs": [
    {
     "name": "stdout",
     "output_type": "stream",
     "text": [
      "Model: \"MLP_Multiclass_Classifier\"\n",
      "_________________________________________________________________\n",
      "Layer (type)                 Output Shape              Param #   \n",
      "=================================================================\n",
      "flatten (Flatten)            (None, 784)               0         \n",
      "_________________________________________________________________\n",
      "dense (Dense)                (None, 300)               235500    \n",
      "_________________________________________________________________\n",
      "dense_1 (Dense)              (None, 100)               30100     \n",
      "_________________________________________________________________\n",
      "dense_2 (Dense)              (None, 10)                1010      \n",
      "=================================================================\n",
      "Total params: 266,610\n",
      "Trainable params: 266,610\n",
      "Non-trainable params: 0\n",
      "_________________________________________________________________\n",
      "Wall time: 7.11 s\n"
     ]
    }
   ],
   "source": [
    "%%time\n",
    "\n",
    "'''\n",
    "Delete the TensorFlow graph before creating a new model, otherwise memory overflow will occur.\n",
    "'''\n",
    "keras.backend.clear_session()\n",
    "\n",
    "'''\n",
    "To reproduce the same result by the model in each iteration, we use fixed seeds for random number generation. \n",
    "'''\n",
    "np.random.seed(42)\n",
    "tf.random.set_seed(42)\n",
    "\n",
    "\n",
    "'''\n",
    "Set the values for weight initializer and activation function\n",
    "'''\n",
    "kernel_initializer = 'zeros'\n",
    "activation = 'sigmoid'\n",
    "number_of_classes = 10\n",
    "\n",
    "\n",
    "'''\n",
    "Create a Sequential model composed of a single stack of layers connected sequentially. \n",
    "- Add the layers one by one.\n",
    "- Apply Dropout regularization\n",
    "'''\n",
    "model = keras.models.Sequential(name=\"MLP_Multiclass_Classifier\")\n",
    "model.add(keras.layers.Flatten(input_shape=[28, 28]))\n",
    "model.add(keras.layers.Dense(units=300, kernel_initializer=kernel_initializer, activation=activation, \n",
    "                             bias_initializer=\"zeros\"))\n",
    "# model.add(keras.layers.Dropout(rate=0.1)) # add if needed\n",
    "model.add(keras.layers.Dense(units=100, kernel_initializer=kernel_initializer, activation=activation,\n",
    "                            bias_initializer=\"zeros\"))\n",
    "# model.add(keras.layers.Dropout(rate=0.1)) # add if needed\n",
    "model.add(keras.layers.Dense(units=number_of_classes, kernel_initializer=kernel_initializer, \n",
    "                             activation=\"softmax\"))\n",
    "model.summary()"
   ]
  },
  {
   "cell_type": "markdown",
   "metadata": {},
   "source": [
    "### Train the MLP Model: SGD learning_rate = 0.1"
   ]
  },
  {
   "cell_type": "code",
   "execution_count": 4,
   "metadata": {
    "scrolled": false
   },
   "outputs": [
    {
     "name": "stdout",
     "output_type": "stream",
     "text": [
      "Epoch 1/50\n",
      "860/860 [==============================] - 4s 3ms/step - loss: 2.3105 - accuracy: 0.1006 - val_loss: 2.3120 - val_accuracy: 0.1126\n",
      "Epoch 2/50\n",
      "860/860 [==============================] - 1s 1ms/step - loss: 2.3049 - accuracy: 0.1094 - val_loss: 2.3028 - val_accuracy: 0.0958\n",
      "Epoch 3/50\n",
      "860/860 [==============================] - 1s 1ms/step - loss: 2.3035 - accuracy: 0.1106 - val_loss: 2.3007 - val_accuracy: 0.1126\n",
      "Epoch 4/50\n",
      "860/860 [==============================] - 1s 1ms/step - loss: 2.2932 - accuracy: 0.1191 - val_loss: 2.2273 - val_accuracy: 0.1898\n",
      "Epoch 5/50\n",
      "860/860 [==============================] - 1s 1ms/step - loss: 2.1628 - accuracy: 0.2236 - val_loss: 1.9880 - val_accuracy: 0.2690\n",
      "Epoch 6/50\n",
      "860/860 [==============================] - 1s 1ms/step - loss: 1.9538 - accuracy: 0.2789 - val_loss: 1.8784 - val_accuracy: 0.3018\n",
      "Epoch 7/50\n",
      "860/860 [==============================] - 1s 1ms/step - loss: 1.8569 - accuracy: 0.3032 - val_loss: 1.7947 - val_accuracy: 0.3168\n",
      "Epoch 8/50\n",
      "860/860 [==============================] - 1s 1ms/step - loss: 1.7800 - accuracy: 0.3197 - val_loss: 1.7376 - val_accuracy: 0.3340\n",
      "Epoch 9/50\n",
      "860/860 [==============================] - 1s 1ms/step - loss: 1.7337 - accuracy: 0.3313 - val_loss: 1.7016 - val_accuracy: 0.3458\n",
      "Epoch 10/50\n",
      "860/860 [==============================] - 1s 1ms/step - loss: 1.7000 - accuracy: 0.3428 - val_loss: 1.6765 - val_accuracy: 0.3436\n",
      "Epoch 11/50\n",
      "860/860 [==============================] - 1s 1ms/step - loss: 1.6772 - accuracy: 0.3452 - val_loss: 1.6584 - val_accuracy: 0.3664\n",
      "Epoch 12/50\n",
      "860/860 [==============================] - 1s 1ms/step - loss: 1.6609 - accuracy: 0.3605 - val_loss: 1.6445 - val_accuracy: 0.3670\n",
      "Epoch 13/50\n",
      "860/860 [==============================] - 1s 1ms/step - loss: 1.6475 - accuracy: 0.3579 - val_loss: 1.6363 - val_accuracy: 0.3654\n",
      "Epoch 14/50\n",
      "860/860 [==============================] - 1s 1ms/step - loss: 1.6447 - accuracy: 0.3594 - val_loss: 1.6323 - val_accuracy: 0.3544\n",
      "Epoch 15/50\n",
      "860/860 [==============================] - 1s 1ms/step - loss: 1.6302 - accuracy: 0.3621 - val_loss: 1.6193 - val_accuracy: 0.3878\n",
      "Epoch 16/50\n",
      "860/860 [==============================] - 1s 1ms/step - loss: 1.6279 - accuracy: 0.3642 - val_loss: 1.6145 - val_accuracy: 0.3754\n",
      "Epoch 17/50\n",
      "860/860 [==============================] - 1s 1ms/step - loss: 1.6191 - accuracy: 0.3653 - val_loss: 1.6097 - val_accuracy: 0.3910\n",
      "Epoch 18/50\n",
      "860/860 [==============================] - 1s 1ms/step - loss: 1.6113 - accuracy: 0.3746 - val_loss: 1.6074 - val_accuracy: 0.3910\n",
      "Epoch 19/50\n",
      "860/860 [==============================] - 1s 1ms/step - loss: 1.6104 - accuracy: 0.3743 - val_loss: 1.6018 - val_accuracy: 0.3772\n",
      "Epoch 20/50\n",
      "860/860 [==============================] - 1s 1ms/step - loss: 1.6086 - accuracy: 0.3729 - val_loss: 1.5965 - val_accuracy: 0.3714\n",
      "Epoch 21/50\n",
      "860/860 [==============================] - 1s 1ms/step - loss: 1.5997 - accuracy: 0.3738 - val_loss: 1.5939 - val_accuracy: 0.3928\n",
      "Epoch 22/50\n",
      "860/860 [==============================] - 1s 1ms/step - loss: 1.6055 - accuracy: 0.3711 - val_loss: 1.5886 - val_accuracy: 0.3800\n",
      "Epoch 23/50\n",
      "860/860 [==============================] - 1s 1ms/step - loss: 1.5959 - accuracy: 0.3771 - val_loss: 1.5848 - val_accuracy: 0.3828\n",
      "Epoch 24/50\n",
      "860/860 [==============================] - 1s 1ms/step - loss: 1.5961 - accuracy: 0.3728 - val_loss: 1.5826 - val_accuracy: 0.3846\n",
      "Epoch 25/50\n",
      "860/860 [==============================] - 1s 1ms/step - loss: 1.5950 - accuracy: 0.3762 - val_loss: 1.5895 - val_accuracy: 0.3916\n",
      "Epoch 26/50\n",
      "860/860 [==============================] - 1s 1ms/step - loss: 1.5802 - accuracy: 0.3878 - val_loss: 1.5732 - val_accuracy: 0.3870\n",
      "Epoch 27/50\n",
      "860/860 [==============================] - 1s 1ms/step - loss: 1.5804 - accuracy: 0.3818 - val_loss: 1.5717 - val_accuracy: 0.3986\n",
      "Epoch 28/50\n",
      "860/860 [==============================] - 1s 1ms/step - loss: 1.5773 - accuracy: 0.3843 - val_loss: 1.5669 - val_accuracy: 0.3820\n",
      "Epoch 29/50\n",
      "860/860 [==============================] - 1s 1ms/step - loss: 1.5659 - accuracy: 0.3843 - val_loss: 1.5644 - val_accuracy: 0.3886\n",
      "Epoch 30/50\n",
      "860/860 [==============================] - 1s 1ms/step - loss: 1.5674 - accuracy: 0.3871 - val_loss: 1.5605 - val_accuracy: 0.3996\n",
      "Epoch 31/50\n",
      "860/860 [==============================] - 1s 1ms/step - loss: 1.5619 - accuracy: 0.3888 - val_loss: 1.5624 - val_accuracy: 0.3886\n",
      "Epoch 32/50\n",
      "860/860 [==============================] - 1s 1ms/step - loss: 1.5629 - accuracy: 0.3895 - val_loss: 1.5567 - val_accuracy: 0.4134\n",
      "Epoch 33/50\n",
      "860/860 [==============================] - 1s 1ms/step - loss: 1.5676 - accuracy: 0.3912 - val_loss: 1.5559 - val_accuracy: 0.3970\n",
      "Epoch 34/50\n",
      "860/860 [==============================] - 1s 1ms/step - loss: 1.5573 - accuracy: 0.3906 - val_loss: 1.5526 - val_accuracy: 0.4086\n",
      "Epoch 35/50\n",
      "860/860 [==============================] - 1s 1ms/step - loss: 1.5585 - accuracy: 0.3884 - val_loss: 1.5505 - val_accuracy: 0.4020\n",
      "Epoch 36/50\n",
      "860/860 [==============================] - 1s 1ms/step - loss: 1.5582 - accuracy: 0.3909 - val_loss: 1.5494 - val_accuracy: 0.4044\n",
      "Epoch 37/50\n",
      "860/860 [==============================] - 1s 1ms/step - loss: 1.5563 - accuracy: 0.3934 - val_loss: 1.5515 - val_accuracy: 0.4056\n",
      "Epoch 38/50\n",
      "860/860 [==============================] - 1s 1ms/step - loss: 1.5535 - accuracy: 0.3902 - val_loss: 1.5474 - val_accuracy: 0.4116\n",
      "Epoch 39/50\n",
      "860/860 [==============================] - 1s 1ms/step - loss: 1.5535 - accuracy: 0.3908 - val_loss: 1.5447 - val_accuracy: 0.4078\n",
      "Epoch 40/50\n",
      "860/860 [==============================] - 1s 1ms/step - loss: 1.5503 - accuracy: 0.3911 - val_loss: 1.5501 - val_accuracy: 0.4156\n",
      "Epoch 41/50\n",
      "860/860 [==============================] - 1s 1ms/step - loss: 1.5447 - accuracy: 0.3938 - val_loss: 1.5452 - val_accuracy: 0.4052\n",
      "Epoch 42/50\n",
      "860/860 [==============================] - 1s 1ms/step - loss: 1.5506 - accuracy: 0.3918 - val_loss: 1.5441 - val_accuracy: 0.4050\n",
      "Epoch 43/50\n",
      "860/860 [==============================] - 1s 1ms/step - loss: 1.5506 - accuracy: 0.3918 - val_loss: 1.5464 - val_accuracy: 0.4048\n",
      "Epoch 44/50\n",
      "860/860 [==============================] - 1s 1ms/step - loss: 1.5491 - accuracy: 0.3903 - val_loss: 1.5517 - val_accuracy: 0.4132\n",
      "Epoch 45/50\n",
      "860/860 [==============================] - 1s 1ms/step - loss: 1.5536 - accuracy: 0.3904 - val_loss: 1.5399 - val_accuracy: 0.4086\n",
      "Epoch 46/50\n",
      "860/860 [==============================] - 1s 1ms/step - loss: 1.5502 - accuracy: 0.3903 - val_loss: 1.5390 - val_accuracy: 0.4166\n",
      "Epoch 47/50\n",
      "860/860 [==============================] - 1s 1ms/step - loss: 1.5482 - accuracy: 0.3920 - val_loss: 1.5417 - val_accuracy: 0.4066\n",
      "Epoch 48/50\n",
      "860/860 [==============================] - 1s 1ms/step - loss: 1.5502 - accuracy: 0.3921 - val_loss: 1.5467 - val_accuracy: 0.4028\n",
      "Epoch 49/50\n",
      "860/860 [==============================] - 1s 1ms/step - loss: 1.5474 - accuracy: 0.3899 - val_loss: 1.5393 - val_accuracy: 0.4068\n",
      "Epoch 50/50\n",
      "860/860 [==============================] - 1s 1ms/step - loss: 1.5421 - accuracy: 0.3944 - val_loss: 1.5403 - val_accuracy: 0.3976\n"
     ]
    }
   ],
   "source": [
    "'''\n",
    "Define the optimizer\n",
    "'''\n",
    "optimizer = keras.optimizers.SGD(learning_rate=0.1)\n",
    "\n",
    "\n",
    "'''\n",
    "Compile the model\n",
    "'''\n",
    "model.compile(loss=\"sparse_categorical_crossentropy\",\n",
    "              optimizer=optimizer,\n",
    "              metrics=[\"accuracy\"])\n",
    "\n",
    "\n",
    "\n",
    "'''\n",
    "Create the early stopping callback function.\n",
    "'''\n",
    "early_stopping_cb = keras.callbacks.EarlyStopping(monitor='val_loss',\n",
    "                                  min_delta=0, \n",
    "                                  patience=10, \n",
    "                                  verbose=1, \n",
    "                                  mode='auto',\n",
    "                                  restore_best_weights=False)\n",
    "\n",
    "'''\n",
    "Set the epochs and mini batch size\n",
    "'''\n",
    "no_of_epochs = 50\n",
    "size_of_mini_batch = 64\n",
    "\n",
    "\n",
    "'''\n",
    "Train the model\n",
    "'''\n",
    "history = model.fit(X_train, y_train, \n",
    "                    batch_size=size_of_mini_batch, \n",
    "                    epochs=no_of_epochs,\n",
    "                    verbose=1,\n",
    "                    validation_data=(X_valid, y_valid),\n",
    "                    callbacks=[early_stopping_cb])"
   ]
  },
  {
   "cell_type": "markdown",
   "metadata": {},
   "source": [
    "### History Object"
   ]
  },
  {
   "cell_type": "code",
   "execution_count": 5,
   "metadata": {},
   "outputs": [
    {
     "name": "stdout",
     "output_type": "stream",
     "text": [
      "Training Parameters:  {'verbose': 1, 'epochs': 50, 'steps': 860}\n",
      "\n",
      "List of Epochs:  [0, 1, 2, 3, 4, 5, 6, 7, 8, 9, 10, 11, 12, 13, 14, 15, 16, 17, 18, 19, 20, 21, 22, 23, 24, 25, 26, 27, 28, 29, 30, 31, 32, 33, 34, 35, 36, 37, 38, 39, 40, 41, 42, 43, 44, 45, 46, 47, 48, 49]\n",
      "\n",
      "Evaluation Metrics:  dict_keys(['loss', 'accuracy', 'val_loss', 'val_accuracy'])\n"
     ]
    }
   ],
   "source": [
    "print(\"Training Parameters: \", history.params)\n",
    "print(\"\\nList of Epochs: \", history.epoch)\n",
    "print(\"\\nEvaluation Metrics: \", history.history.keys())"
   ]
  },
  {
   "cell_type": "markdown",
   "metadata": {},
   "source": [
    "### Evaluate the Model"
   ]
  },
  {
   "cell_type": "code",
   "execution_count": 6,
   "metadata": {},
   "outputs": [
    {
     "name": "stdout",
     "output_type": "stream",
     "text": [
      "Epochs:  50\n",
      "\n",
      "Test Data: Loss & Accuracy:  [1.5331363677978516, 0.3880000114440918]\n",
      "\n",
      "Train Accuracy:  0.3914\n",
      "\n",
      "Test Accuracy:  0.388\n",
      "\n",
      "Test Confusion Matrix:\n",
      "[[816   0   8   3   0  22 131   0   0   0]\n",
      " [  0 984   5   3   8   2   2 131   0   0]\n",
      " [101   4 161 234  99 135 264  34   0   0]\n",
      " [ 21  10 224 344 138  89 119  65   0   0]\n",
      " [  5  26  39 193 367  15  20 317   0   0]\n",
      " [ 47   1 209 153  30 169 270  13   0   0]\n",
      " [493   0  34  32   9  62 325   3   0   0]\n",
      " [  1 118  14  42 128   7   4 714   0   0]\n",
      " [ 29   8 143 356 152  65 149  72   0   0]\n",
      " [  4  54  13  60 233   4  13 628   0   0]]\n",
      "\n",
      "Classification Report:\n",
      "              precision    recall  f1-score   support\n",
      "\n",
      "           0       0.54      0.83      0.65       980\n",
      "           1       0.82      0.87      0.84      1135\n",
      "           2       0.19      0.16      0.17      1032\n",
      "           3       0.24      0.34      0.28      1010\n",
      "           4       0.32      0.37      0.34       982\n",
      "           5       0.30      0.19      0.23       892\n",
      "           6       0.25      0.34      0.29       958\n",
      "           7       0.36      0.69      0.48      1028\n",
      "           8       0.00      0.00      0.00       974\n",
      "           9       0.00      0.00      0.00      1009\n",
      "\n",
      "    accuracy                           0.39     10000\n",
      "   macro avg       0.30      0.38      0.33     10000\n",
      "weighted avg       0.31      0.39      0.34     10000\n",
      "\n"
     ]
    },
    {
     "name": "stderr",
     "output_type": "stream",
     "text": [
      "D:\\conda\\lib\\site-packages\\sklearn\\metrics\\_classification.py:1221: UndefinedMetricWarning: Precision and F-score are ill-defined and being set to 0.0 in labels with no predicted samples. Use `zero_division` parameter to control this behavior.\n",
      "  _warn_prf(average, modifier, msg_start, len(result))\n"
     ]
    }
   ],
   "source": [
    "numOfEpochs = len(history.history['loss'])\n",
    "print(\"Epochs: \", numOfEpochs)\n",
    "\n",
    "print(\"\\nTest Data: Loss & Accuracy: \", model.evaluate(X_test, y_test, verbose=0))\n",
    "\n",
    "# model.predict() method return 10 probabilities per class for each instance (Dimension Nx10)\n",
    "y_test_predicted = model.predict(X_test)\n",
    "y_test_predicted = np.argmax(y_test_predicted, axis=1) # get the label/index of the highest probability class\n",
    "\n",
    "\n",
    "y_train_predicted = model.predict(X_train)\n",
    "y_train_predicted = np.argmax(y_train_predicted, axis=1) # get the label/index of the highest probability class\n",
    "\n",
    "train_accuracy = np.mean(y_train_predicted == y_train)\n",
    "print(\"\\nTrain Accuracy: \", train_accuracy)\n",
    "\n",
    "test_accuracy = np.mean(y_test_predicted == y_test)\n",
    "print(\"\\nTest Accuracy: \", test_accuracy)\n",
    "\n",
    "print(\"\\nTest Confusion Matrix:\")\n",
    "print(confusion_matrix(y_test, y_test_predicted))\n",
    "\n",
    "print(\"\\nClassification Report:\")\n",
    "print(classification_report(y_test, y_test_predicted))"
   ]
  },
  {
   "cell_type": "markdown",
   "metadata": {},
   "source": [
    "### Plot Learning Curve"
   ]
  },
  {
   "cell_type": "code",
   "execution_count": 7,
   "metadata": {},
   "outputs": [
    {
     "data": {
      "image/png": "[encoded data removed]",
      "text/plain": [
       "<Figure size 1296x432 with 2 Axes>"
      ]
     },
     "metadata": {
      "needs_background": "light"
     },
     "output_type": "display_data"
    }
   ],
   "source": [
    "plt.figure(figsize=(18,6))\n",
    "\n",
    "plt.subplot(121)\n",
    "plt.plot(range(1,numOfEpochs+1),history.history['val_accuracy'],label='validation')\n",
    "plt.plot(range(1,numOfEpochs+1),history.history['accuracy'],label='training')\n",
    "plt.legend(loc=0)\n",
    "plt.xlabel('Epochs')\n",
    "plt.ylabel('Accuracy')\n",
    "plt.xlim([1,numOfEpochs])\n",
    "plt.grid(True)\n",
    "plt.title(\"Model Accuracy\")\n",
    "\n",
    "plt.subplot(122)\n",
    "plt.plot(range(1,numOfEpochs+1),history.history['val_loss'],label='validation')\n",
    "plt.plot(range(1,numOfEpochs+1),history.history['loss'],label='training')\n",
    "plt.legend(loc=0)\n",
    "plt.xlabel('Epochs')\n",
    "plt.ylabel('Loss')\n",
    "plt.xlim([1,numOfEpochs])\n",
    "plt.grid(True)\n",
    "plt.title(\"Model Loss\")\n",
    "\n",
    "plt.show()"
   ]
  },
  {
   "cell_type": "markdown",
   "metadata": {},
   "source": [
    "## Experiment 2\n",
    "\n",
    "### Build the MLP Model: kernel_initializer = ones, activation = sigmoid"
   ]
  },
  {
   "cell_type": "code",
   "execution_count": 8,
   "metadata": {},
   "outputs": [
    {
     "name": "stdout",
     "output_type": "stream",
     "text": [
      "Model: \"MLP_Multiclass_Classifier\"\n",
      "_________________________________________________________________\n",
      "Layer (type)                 Output Shape              Param #   \n",
      "=================================================================\n",
      "flatten (Flatten)            (None, 784)               0         \n",
      "_________________________________________________________________\n",
      "dense (Dense)                (None, 300)               235500    \n",
      "_________________________________________________________________\n",
      "dense_1 (Dense)              (None, 100)               30100     \n",
      "_________________________________________________________________\n",
      "dense_2 (Dense)              (None, 10)                1010      \n",
      "=================================================================\n",
      "Total params: 266,610\n",
      "Trainable params: 266,610\n",
      "Non-trainable params: 0\n",
      "_________________________________________________________________\n",
      "Wall time: 42.9 ms\n"
     ]
    }
   ],
   "source": [
    "%%time\n",
    "\n",
    "'''\n",
    "Delete the TensorFlow graph before creating a new model, otherwise memory overflow will occur.\n",
    "'''\n",
    "keras.backend.clear_session()\n",
    "\n",
    "'''\n",
    "To reproduce the same result by the model in each iteration, we use fixed seeds for random number generation. \n",
    "'''\n",
    "np.random.seed(42)\n",
    "tf.random.set_seed(42)\n",
    "\n",
    "\n",
    "'''\n",
    "Set the values for weight initializer and activation function\n",
    "'''\n",
    "kernel_initializer = 'ones'\n",
    "activation = 'sigmoid'\n",
    "number_of_classes = 10\n",
    "\n",
    "\n",
    "'''\n",
    "Create a Sequential model composed of a single stack of layers connected sequentially. \n",
    "- Add the layers one by one.\n",
    "- Apply Dropout regularization\n",
    "'''\n",
    "model = keras.models.Sequential(name=\"MLP_Multiclass_Classifier\")\n",
    "model.add(keras.layers.Flatten(input_shape=[28, 28]))\n",
    "model.add(keras.layers.Dense(units=300, kernel_initializer=kernel_initializer, activation=activation, \n",
    "                             bias_initializer=\"zeros\"))\n",
    "# model.add(keras.layers.Dropout(rate=0.1)) # add if needed\n",
    "model.add(keras.layers.Dense(units=100, kernel_initializer=kernel_initializer, activation=activation,\n",
    "                            bias_initializer=\"zeros\"))\n",
    "# model.add(keras.layers.Dropout(rate=0.1)) # add if needed\n",
    "model.add(keras.layers.Dense(units=number_of_classes, kernel_initializer=kernel_initializer, \n",
    "                             activation=\"softmax\"))\n",
    "model.summary()"
   ]
  },
  {
   "cell_type": "markdown",
   "metadata": {},
   "source": [
    "### Train the MLP Model: SGD learning_rate = 0.1"
   ]
  },
  {
   "cell_type": "code",
   "execution_count": 9,
   "metadata": {},
   "outputs": [
    {
     "name": "stdout",
     "output_type": "stream",
     "text": [
      "Epoch 1/50\n",
      "860/860 [==============================] - 1s 1ms/step - loss: 2.3827 - accuracy: 0.1023 - val_loss: 2.5068 - val_accuracy: 0.1126\n",
      "Epoch 2/50\n",
      "860/860 [==============================] - 1s 1ms/step - loss: 2.3749 - accuracy: 0.1003 - val_loss: 2.4203 - val_accuracy: 0.1070\n",
      "Epoch 3/50\n",
      "860/860 [==============================] - 1s 1ms/step - loss: 2.3824 - accuracy: 0.1021 - val_loss: 2.5249 - val_accuracy: 0.1002\n",
      "Epoch 4/50\n",
      "860/860 [==============================] - 1s 1ms/step - loss: 2.3806 - accuracy: 0.1013 - val_loss: 2.5012 - val_accuracy: 0.0990\n",
      "Epoch 5/50\n",
      "860/860 [==============================] - 1s 1ms/step - loss: 2.3838 - accuracy: 0.0986 - val_loss: 2.5983 - val_accuracy: 0.0924\n",
      "Epoch 6/50\n",
      "860/860 [==============================] - 1s 1ms/step - loss: 2.3842 - accuracy: 0.1002 - val_loss: 2.5453 - val_accuracy: 0.0986\n",
      "Epoch 7/50\n",
      "860/860 [==============================] - 1s 1ms/step - loss: 2.3803 - accuracy: 0.1027 - val_loss: 2.6859 - val_accuracy: 0.1100\n",
      "Epoch 8/50\n",
      "860/860 [==============================] - 1s 1ms/step - loss: 2.3852 - accuracy: 0.1005 - val_loss: 2.4579 - val_accuracy: 0.1126\n",
      "Epoch 9/50\n",
      "860/860 [==============================] - 1s 1ms/step - loss: 2.3828 - accuracy: 0.1024 - val_loss: 2.9158 - val_accuracy: 0.1002\n",
      "Epoch 10/50\n",
      "860/860 [==============================] - 1s 1ms/step - loss: 2.3780 - accuracy: 0.1039 - val_loss: 2.6203 - val_accuracy: 0.0986\n",
      "Epoch 11/50\n",
      "860/860 [==============================] - 1s 1ms/step - loss: 2.3908 - accuracy: 0.0996 - val_loss: 2.5214 - val_accuracy: 0.1126\n",
      "Epoch 12/50\n",
      "860/860 [==============================] - 1s 1ms/step - loss: 2.3878 - accuracy: 0.0994 - val_loss: 2.5320 - val_accuracy: 0.0990\n",
      "Epoch 00012: early stopping\n"
     ]
    }
   ],
   "source": [
    "'''\n",
    "Define the optimizer\n",
    "'''\n",
    "optimizer = keras.optimizers.SGD(learning_rate=0.1)\n",
    "\n",
    "\n",
    "'''\n",
    "Compile the model\n",
    "'''\n",
    "model.compile(loss=\"sparse_categorical_crossentropy\",\n",
    "              optimizer=optimizer,\n",
    "              metrics=[\"accuracy\"])\n",
    "\n",
    "\n",
    "\n",
    "'''\n",
    "Create the early stopping callback function.\n",
    "'''\n",
    "early_stopping_cb = keras.callbacks.EarlyStopping(monitor='val_loss',\n",
    "                                  min_delta=0, \n",
    "                                  patience=10, \n",
    "                                  verbose=1, \n",
    "                                  mode='auto',\n",
    "                                  restore_best_weights=False)\n",
    "\n",
    "'''\n",
    "Set the epochs and mini batch size\n",
    "'''\n",
    "no_of_epochs = 50\n",
    "size_of_mini_batch = 64\n",
    "\n",
    "\n",
    "'''\n",
    "Train the model\n",
    "'''\n",
    "history = model.fit(X_train, y_train, \n",
    "                    batch_size=size_of_mini_batch, \n",
    "                    epochs=no_of_epochs,\n",
    "                    verbose=1,\n",
    "                    validation_data=(X_valid, y_valid),\n",
    "                    callbacks=[early_stopping_cb])"
   ]
  },
  {
   "cell_type": "markdown",
   "metadata": {},
   "source": [
    "### History Object"
   ]
  },
  {
   "cell_type": "code",
   "execution_count": 10,
   "metadata": {},
   "outputs": [
    {
     "name": "stdout",
     "output_type": "stream",
     "text": [
      "Training Parameters:  {'verbose': 1, 'epochs': 50, 'steps': 860}\n",
      "\n",
      "List of Epochs:  [0, 1, 2, 3, 4, 5, 6, 7, 8, 9, 10, 11]\n",
      "\n",
      "Evaluation Metrics:  dict_keys(['loss', 'accuracy', 'val_loss', 'val_accuracy'])\n"
     ]
    }
   ],
   "source": [
    "print(\"Training Parameters: \", history.params)\n",
    "print(\"\\nList of Epochs: \", history.epoch)\n",
    "print(\"\\nEvaluation Metrics: \", history.history.keys())"
   ]
  },
  {
   "cell_type": "markdown",
   "metadata": {},
   "source": [
    "### Evaluate the Model"
   ]
  },
  {
   "cell_type": "code",
   "execution_count": 11,
   "metadata": {},
   "outputs": [
    {
     "name": "stdout",
     "output_type": "stream",
     "text": [
      "Epochs:  12\n",
      "\n",
      "Test Data: Loss & Accuracy:  [2.5448715686798096, 0.10090000182390213]\n",
      "\n",
      "Train Accuracy:  0.09916363636363637\n",
      "\n",
      "Test Accuracy:  0.1009\n",
      "\n",
      "Test Confusion Matrix:\n",
      "[[   0    0    0    0    0    0    0    0    0  980]\n",
      " [   0    0    0    0    0    0    0    0    0 1135]\n",
      " [   0    0    0    0    0    0    0    0    0 1032]\n",
      " [   0    0    0    0    0    0    0    0    0 1010]\n",
      " [   0    0    0    0    0    0    0    0    0  982]\n",
      " [   0    0    0    0    0    0    0    0    0  892]\n",
      " [   0    0    0    0    0    0    0    0    0  958]\n",
      " [   0    0    0    0    0    0    0    0    0 1028]\n",
      " [   0    0    0    0    0    0    0    0    0  974]\n",
      " [   0    0    0    0    0    0    0    0    0 1009]]\n",
      "\n",
      "Classification Report:\n",
      "              precision    recall  f1-score   support\n",
      "\n",
      "           0       0.00      0.00      0.00       980\n",
      "           1       0.00      0.00      0.00      1135\n",
      "           2       0.00      0.00      0.00      1032\n",
      "           3       0.00      0.00      0.00      1010\n",
      "           4       0.00      0.00      0.00       982\n",
      "           5       0.00      0.00      0.00       892\n",
      "           6       0.00      0.00      0.00       958\n",
      "           7       0.00      0.00      0.00      1028\n",
      "           8       0.00      0.00      0.00       974\n",
      "           9       0.10      1.00      0.18      1009\n",
      "\n",
      "    accuracy                           0.10     10000\n",
      "   macro avg       0.01      0.10      0.02     10000\n",
      "weighted avg       0.01      0.10      0.02     10000\n",
      "\n"
     ]
    }
   ],
   "source": [
    "numOfEpochs = len(history.history['loss'])\n",
    "print(\"Epochs: \", numOfEpochs)\n",
    "\n",
    "print(\"\\nTest Data: Loss & Accuracy: \", model.evaluate(X_test, y_test, verbose=0))\n",
    "\n",
    "# model.predict() method return 10 probabilities per class for each instance (Dimension Nx10)\n",
    "y_test_predicted = model.predict(X_test)\n",
    "y_test_predicted = np.argmax(y_test_predicted, axis=1) # get the label/index of the highest probability class\n",
    "\n",
    "\n",
    "y_train_predicted = model.predict(X_train)\n",
    "y_train_predicted = np.argmax(y_train_predicted, axis=1) # get the label/index of the highest probability class\n",
    "\n",
    "train_accuracy = np.mean(y_train_predicted == y_train)\n",
    "print(\"\\nTrain Accuracy: \", train_accuracy)\n",
    "\n",
    "test_accuracy = np.mean(y_test_predicted == y_test)\n",
    "print(\"\\nTest Accuracy: \", test_accuracy)\n",
    "\n",
    "print(\"\\nTest Confusion Matrix:\")\n",
    "print(confusion_matrix(y_test, y_test_predicted))\n",
    "\n",
    "print(\"\\nClassification Report:\")\n",
    "print(classification_report(y_test, y_test_predicted))"
   ]
  },
  {
   "cell_type": "markdown",
   "metadata": {},
   "source": [
    "### Plot Learning Curve"
   ]
  },
  {
   "cell_type": "code",
   "execution_count": 12,
   "metadata": {},
   "outputs": [
    {
     "data": {
      "image/png": "[encoded data removed]",
      "text/plain": [
       "<Figure size 1296x432 with 2 Axes>"
      ]
     },
     "metadata": {
      "needs_background": "light"
     },
     "output_type": "display_data"
    }
   ],
   "source": [
    "plt.figure(figsize=(18,6))\n",
    "\n",
    "plt.subplot(121)\n",
    "plt.plot(range(1,numOfEpochs+1),history.history['val_accuracy'],label='validation')\n",
    "plt.plot(range(1,numOfEpochs+1),history.history['accuracy'],label='training')\n",
    "plt.legend(loc=0)\n",
    "plt.xlabel('Epochs')\n",
    "plt.ylabel('Accuracy')\n",
    "plt.xlim([1,numOfEpochs])\n",
    "plt.grid(True)\n",
    "plt.title(\"Model Accuracy\")\n",
    "\n",
    "plt.subplot(122)\n",
    "plt.plot(range(1,numOfEpochs+1),history.history['val_loss'],label='validation')\n",
    "plt.plot(range(1,numOfEpochs+1),history.history['loss'],label='training')\n",
    "plt.legend(loc=0)\n",
    "plt.xlabel('Epochs')\n",
    "plt.ylabel('Loss')\n",
    "plt.xlim([1,numOfEpochs])\n",
    "plt.grid(True)\n",
    "plt.title(\"Model Loss\")\n",
    "\n",
    "plt.show()"
   ]
  },
  {
   "cell_type": "markdown",
   "metadata": {},
   "source": [
    "## Experiment 3\n",
    "\n",
    "### Build the MLP Model: kernel_initializer = random_normal, activation = sigmoid"
   ]
  },
  {
   "cell_type": "code",
   "execution_count": 13,
   "metadata": {},
   "outputs": [
    {
     "name": "stdout",
     "output_type": "stream",
     "text": [
      "Model: \"MLP_Multiclass_Classifier\"\n",
      "_________________________________________________________________\n",
      "Layer (type)                 Output Shape              Param #   \n",
      "=================================================================\n",
      "flatten (Flatten)            (None, 784)               0         \n",
      "_________________________________________________________________\n",
      "dense (Dense)                (None, 300)               235500    \n",
      "_________________________________________________________________\n",
      "dense_1 (Dense)              (None, 100)               30100     \n",
      "_________________________________________________________________\n",
      "dense_2 (Dense)              (None, 10)                1010      \n",
      "=================================================================\n",
      "Total params: 266,610\n",
      "Trainable params: 266,610\n",
      "Non-trainable params: 0\n",
      "_________________________________________________________________\n",
      "Wall time: 115 ms\n"
     ]
    }
   ],
   "source": [
    "%%time\n",
    "\n",
    "'''\n",
    "Delete the TensorFlow graph before creating a new model, otherwise memory overflow will occur.\n",
    "'''\n",
    "keras.backend.clear_session()\n",
    "\n",
    "'''\n",
    "To reproduce the same result by the model in each iteration, we use fixed seeds for random number generation. \n",
    "'''\n",
    "np.random.seed(42)\n",
    "tf.random.set_seed(42)\n",
    "\n",
    "\n",
    "'''\n",
    "Set the values for weight initializer and activation function\n",
    "'''\n",
    "kernel_initializer = 'random_normal'\n",
    "activation = 'sigmoid'\n",
    "number_of_classes = 10\n",
    "\n",
    "\n",
    "'''\n",
    "Create a Sequential model composed of a single stack of layers connected sequentially. \n",
    "- Add the layers one by one.\n",
    "- Apply Dropout regularization\n",
    "'''\n",
    "model = keras.models.Sequential(name=\"MLP_Multiclass_Classifier\")\n",
    "model.add(keras.layers.Flatten(input_shape=[28, 28]))\n",
    "model.add(keras.layers.Dense(units=300, kernel_initializer=kernel_initializer, activation=activation, \n",
    "                             bias_initializer=\"zeros\"))\n",
    "# model.add(keras.layers.Dropout(rate=0.1)) # add if needed\n",
    "model.add(keras.layers.Dense(units=100, kernel_initializer=kernel_initializer, activation=activation,\n",
    "                            bias_initializer=\"zeros\"))\n",
    "# model.add(keras.layers.Dropout(rate=0.1)) # add if needed\n",
    "model.add(keras.layers.Dense(units=number_of_classes, kernel_initializer=kernel_initializer, \n",
    "                             activation=\"softmax\"))\n",
    "model.summary()"
   ]
  },
  {
   "cell_type": "markdown",
   "metadata": {},
   "source": [
    "### Train the MLP Model: SGD learning_rate = 0.1"
   ]
  },
  {
   "cell_type": "code",
   "execution_count": 14,
   "metadata": {
    "scrolled": false
   },
   "outputs": [
    {
     "name": "stdout",
     "output_type": "stream",
     "text": [
      "Epoch 1/50\n",
      "860/860 [==============================] - 1s 1ms/step - loss: 2.1119 - accuracy: 0.2591 - val_loss: 0.8378 - val_accuracy: 0.7512\n",
      "Epoch 2/50\n",
      "860/860 [==============================] - 1s 1ms/step - loss: 0.7115 - accuracy: 0.7970 - val_loss: 0.4401 - val_accuracy: 0.8812\n",
      "Epoch 3/50\n",
      "860/860 [==============================] - 1s 1ms/step - loss: 0.4383 - accuracy: 0.8760 - val_loss: 0.3549 - val_accuracy: 0.8994\n",
      "Epoch 4/50\n",
      "860/860 [==============================] - 1s 1ms/step - loss: 0.3631 - accuracy: 0.8965 - val_loss: 0.3192 - val_accuracy: 0.9090\n",
      "Epoch 5/50\n",
      "860/860 [==============================] - 1s 1ms/step - loss: 0.3331 - accuracy: 0.9037 - val_loss: 0.2967 - val_accuracy: 0.9154\n",
      "Epoch 6/50\n",
      "860/860 [==============================] - 1s 1ms/step - loss: 0.3123 - accuracy: 0.9089 - val_loss: 0.2846 - val_accuracy: 0.9196\n",
      "Epoch 7/50\n",
      "860/860 [==============================] - 1s 1ms/step - loss: 0.2912 - accuracy: 0.9170 - val_loss: 0.2601 - val_accuracy: 0.9240\n",
      "Epoch 8/50\n",
      "860/860 [==============================] - 1s 1ms/step - loss: 0.2749 - accuracy: 0.9187 - val_loss: 0.2678 - val_accuracy: 0.9218\n",
      "Epoch 9/50\n",
      "860/860 [==============================] - 1s 1ms/step - loss: 0.2602 - accuracy: 0.9255 - val_loss: 0.2364 - val_accuracy: 0.9310\n",
      "Epoch 10/50\n",
      "860/860 [==============================] - 1s 1ms/step - loss: 0.2450 - accuracy: 0.9265 - val_loss: 0.2256 - val_accuracy: 0.9336\n",
      "Epoch 11/50\n",
      "860/860 [==============================] - 1s 1ms/step - loss: 0.2314 - accuracy: 0.9317 - val_loss: 0.2200 - val_accuracy: 0.9352\n",
      "Epoch 12/50\n",
      "860/860 [==============================] - 1s 1ms/step - loss: 0.2155 - accuracy: 0.9374 - val_loss: 0.2064 - val_accuracy: 0.9352\n",
      "Epoch 13/50\n",
      "860/860 [==============================] - 1s 1ms/step - loss: 0.2010 - accuracy: 0.9411 - val_loss: 0.1935 - val_accuracy: 0.9426\n",
      "Epoch 14/50\n",
      "860/860 [==============================] - 1s 1ms/step - loss: 0.1983 - accuracy: 0.9417 - val_loss: 0.1881 - val_accuracy: 0.9462\n",
      "Epoch 15/50\n",
      "860/860 [==============================] - 1s 1ms/step - loss: 0.1841 - accuracy: 0.9470 - val_loss: 0.1760 - val_accuracy: 0.9492\n",
      "Epoch 16/50\n",
      "860/860 [==============================] - 1s 1ms/step - loss: 0.1797 - accuracy: 0.9484 - val_loss: 0.1690 - val_accuracy: 0.9526\n",
      "Epoch 17/50\n",
      "860/860 [==============================] - 1s 1ms/step - loss: 0.1724 - accuracy: 0.9506 - val_loss: 0.1650 - val_accuracy: 0.9534\n",
      "Epoch 18/50\n",
      "860/860 [==============================] - 1s 1ms/step - loss: 0.1577 - accuracy: 0.9536 - val_loss: 0.1575 - val_accuracy: 0.9564\n",
      "Epoch 19/50\n",
      "860/860 [==============================] - 1s 1ms/step - loss: 0.1546 - accuracy: 0.9547 - val_loss: 0.1484 - val_accuracy: 0.9566\n",
      "Epoch 20/50\n",
      "860/860 [==============================] - 1s 1ms/step - loss: 0.1482 - accuracy: 0.9560 - val_loss: 0.1532 - val_accuracy: 0.9568\n",
      "Epoch 21/50\n",
      "860/860 [==============================] - 1s 1ms/step - loss: 0.1405 - accuracy: 0.9591 - val_loss: 0.1389 - val_accuracy: 0.9606\n",
      "Epoch 22/50\n",
      "860/860 [==============================] - 1s 1ms/step - loss: 0.1393 - accuracy: 0.9607 - val_loss: 0.1332 - val_accuracy: 0.9612\n",
      "Epoch 23/50\n",
      "860/860 [==============================] - 1s 1ms/step - loss: 0.1348 - accuracy: 0.9615 - val_loss: 0.1319 - val_accuracy: 0.9626\n",
      "Epoch 24/50\n",
      "860/860 [==============================] - 1s 1ms/step - loss: 0.1262 - accuracy: 0.9639 - val_loss: 0.1261 - val_accuracy: 0.9638\n",
      "Epoch 25/50\n",
      "860/860 [==============================] - 1s 1ms/step - loss: 0.1226 - accuracy: 0.9644 - val_loss: 0.1214 - val_accuracy: 0.9658\n",
      "Epoch 26/50\n",
      "860/860 [==============================] - 1s 1ms/step - loss: 0.1145 - accuracy: 0.9678 - val_loss: 0.1200 - val_accuracy: 0.9666\n",
      "Epoch 27/50\n",
      "860/860 [==============================] - 1s 1ms/step - loss: 0.1085 - accuracy: 0.9686 - val_loss: 0.1157 - val_accuracy: 0.9680\n",
      "Epoch 28/50\n",
      "860/860 [==============================] - 1s 1ms/step - loss: 0.1089 - accuracy: 0.9685 - val_loss: 0.1122 - val_accuracy: 0.9688\n",
      "Epoch 29/50\n",
      "860/860 [==============================] - 1s 1ms/step - loss: 0.1037 - accuracy: 0.9698 - val_loss: 0.1104 - val_accuracy: 0.9698\n",
      "Epoch 30/50\n",
      "860/860 [==============================] - 1s 1ms/step - loss: 0.1002 - accuracy: 0.9716 - val_loss: 0.1092 - val_accuracy: 0.9696\n",
      "Epoch 31/50\n",
      "860/860 [==============================] - 1s 1ms/step - loss: 0.0922 - accuracy: 0.9736 - val_loss: 0.1042 - val_accuracy: 0.9710\n",
      "Epoch 32/50\n",
      "860/860 [==============================] - 1s 1ms/step - loss: 0.0956 - accuracy: 0.9723 - val_loss: 0.1132 - val_accuracy: 0.9666\n",
      "Epoch 33/50\n",
      "860/860 [==============================] - 1s 1ms/step - loss: 0.0919 - accuracy: 0.9742 - val_loss: 0.0997 - val_accuracy: 0.9712\n",
      "Epoch 34/50\n",
      "860/860 [==============================] - 1s 1ms/step - loss: 0.0876 - accuracy: 0.9750 - val_loss: 0.1000 - val_accuracy: 0.9722\n",
      "Epoch 35/50\n",
      "860/860 [==============================] - 1s 1ms/step - loss: 0.0814 - accuracy: 0.9767 - val_loss: 0.0980 - val_accuracy: 0.9716\n",
      "Epoch 36/50\n",
      "860/860 [==============================] - 1s 1ms/step - loss: 0.0816 - accuracy: 0.9767 - val_loss: 0.0982 - val_accuracy: 0.9722\n",
      "Epoch 37/50\n",
      "860/860 [==============================] - 1s 1ms/step - loss: 0.0812 - accuracy: 0.9768 - val_loss: 0.0910 - val_accuracy: 0.9746\n",
      "Epoch 38/50\n",
      "860/860 [==============================] - 1s 1ms/step - loss: 0.0754 - accuracy: 0.9785 - val_loss: 0.0921 - val_accuracy: 0.9724\n",
      "Epoch 39/50\n",
      "860/860 [==============================] - 1s 1ms/step - loss: 0.0749 - accuracy: 0.9788 - val_loss: 0.0922 - val_accuracy: 0.9754\n",
      "Epoch 40/50\n",
      "860/860 [==============================] - 1s 1ms/step - loss: 0.0729 - accuracy: 0.9787 - val_loss: 0.0929 - val_accuracy: 0.9728\n",
      "Epoch 41/50\n",
      "860/860 [==============================] - 1s 1ms/step - loss: 0.0692 - accuracy: 0.9797 - val_loss: 0.0852 - val_accuracy: 0.9756\n",
      "Epoch 42/50\n",
      "860/860 [==============================] - 1s 1ms/step - loss: 0.0660 - accuracy: 0.9820 - val_loss: 0.0888 - val_accuracy: 0.9752\n",
      "Epoch 43/50\n",
      "860/860 [==============================] - 1s 1ms/step - loss: 0.0652 - accuracy: 0.9818 - val_loss: 0.0871 - val_accuracy: 0.9750\n",
      "Epoch 44/50\n",
      "860/860 [==============================] - 1s 1ms/step - loss: 0.0639 - accuracy: 0.9823 - val_loss: 0.0815 - val_accuracy: 0.9756\n",
      "Epoch 45/50\n",
      "860/860 [==============================] - 1s 1ms/step - loss: 0.0615 - accuracy: 0.9827 - val_loss: 0.0869 - val_accuracy: 0.9750\n",
      "Epoch 46/50\n",
      "860/860 [==============================] - 1s 1ms/step - loss: 0.0604 - accuracy: 0.9835 - val_loss: 0.0871 - val_accuracy: 0.9752\n",
      "Epoch 47/50\n",
      "860/860 [==============================] - 1s 1ms/step - loss: 0.0593 - accuracy: 0.9829 - val_loss: 0.0796 - val_accuracy: 0.9766\n",
      "Epoch 48/50\n",
      "860/860 [==============================] - 1s 1ms/step - loss: 0.0568 - accuracy: 0.9843 - val_loss: 0.0843 - val_accuracy: 0.9740\n",
      "Epoch 49/50\n",
      "860/860 [==============================] - 1s 1ms/step - loss: 0.0550 - accuracy: 0.9849 - val_loss: 0.0762 - val_accuracy: 0.9786\n",
      "Epoch 50/50\n",
      "860/860 [==============================] - 1s 1ms/step - loss: 0.0520 - accuracy: 0.9861 - val_loss: 0.0815 - val_accuracy: 0.9756\n"
     ]
    }
   ],
   "source": [
    "'''\n",
    "Define the optimizer\n",
    "'''\n",
    "optimizer = keras.optimizers.SGD(learning_rate=0.1)\n",
    "\n",
    "\n",
    "'''\n",
    "Compile the model\n",
    "'''\n",
    "model.compile(loss=\"sparse_categorical_crossentropy\",\n",
    "              optimizer=optimizer,\n",
    "              metrics=[\"accuracy\"])\n",
    "\n",
    "\n",
    "\n",
    "'''\n",
    "Create the early stopping callback function.\n",
    "'''\n",
    "early_stopping_cb = keras.callbacks.EarlyStopping(monitor='val_loss',\n",
    "                                  min_delta=0, \n",
    "                                  patience=10, \n",
    "                                  verbose=1, \n",
    "                                  mode='auto',\n",
    "                                  restore_best_weights=False)\n",
    "\n",
    "'''\n",
    "Set the epochs and mini batch size\n",
    "'''\n",
    "no_of_epochs = 50\n",
    "size_of_mini_batch = 64\n",
    "\n",
    "\n",
    "'''\n",
    "Train the model\n",
    "'''\n",
    "history = model.fit(X_train, y_train, \n",
    "                    batch_size=size_of_mini_batch, \n",
    "                    epochs=no_of_epochs,\n",
    "                    verbose=1,\n",
    "                    validation_data=(X_valid, y_valid),\n",
    "                    callbacks=[early_stopping_cb])"
   ]
  },
  {
   "cell_type": "markdown",
   "metadata": {},
   "source": [
    "### History Object"
   ]
  },
  {
   "cell_type": "code",
   "execution_count": 15,
   "metadata": {},
   "outputs": [
    {
     "name": "stdout",
     "output_type": "stream",
     "text": [
      "Training Parameters:  {'verbose': 1, 'epochs': 50, 'steps': 860}\n",
      "\n",
      "List of Epochs:  [0, 1, 2, 3, 4, 5, 6, 7, 8, 9, 10, 11, 12, 13, 14, 15, 16, 17, 18, 19, 20, 21, 22, 23, 24, 25, 26, 27, 28, 29, 30, 31, 32, 33, 34, 35, 36, 37, 38, 39, 40, 41, 42, 43, 44, 45, 46, 47, 48, 49]\n",
      "\n",
      "Evaluation Metrics:  dict_keys(['loss', 'accuracy', 'val_loss', 'val_accuracy'])\n"
     ]
    }
   ],
   "source": [
    "print(\"Training Parameters: \", history.params)\n",
    "print(\"\\nList of Epochs: \", history.epoch)\n",
    "print(\"\\nEvaluation Metrics: \", history.history.keys())"
   ]
  },
  {
   "cell_type": "markdown",
   "metadata": {},
   "source": [
    "### Evaluate the Model"
   ]
  },
  {
   "cell_type": "code",
   "execution_count": 16,
   "metadata": {},
   "outputs": [
    {
     "name": "stdout",
     "output_type": "stream",
     "text": [
      "Epochs:  50\n",
      "\n",
      "Test Data: Loss & Accuracy:  [0.08313348889350891, 0.9745000004768372]\n",
      "\n",
      "Train Accuracy:  0.9854181818181819\n",
      "\n",
      "Test Accuracy:  0.9745\n",
      "\n",
      "Test Confusion Matrix:\n",
      "[[ 962    0    2    2    1    4    4    3    1    1]\n",
      " [   0 1125    2    1    0    1    2    2    2    0]\n",
      " [   1    2 1007    7    2    0    2    8    3    0]\n",
      " [   0    0    4  994    0    2    0    7    2    1]\n",
      " [   0    0    2    0  957    1    5    2    0   15]\n",
      " [   5    1    0   15    3  857    3    1    4    3]\n",
      " [   5    3    0    1    4    3  939    0    3    0]\n",
      " [   1    3    8    3    1    0    0 1001    1   10]\n",
      " [   2    0    4   17    3    5    5    6  928    4]\n",
      " [   3    3    0    8   10    1    1    8    0  975]]\n",
      "\n",
      "Classification Report:\n",
      "              precision    recall  f1-score   support\n",
      "\n",
      "           0       0.98      0.98      0.98       980\n",
      "           1       0.99      0.99      0.99      1135\n",
      "           2       0.98      0.98      0.98      1032\n",
      "           3       0.95      0.98      0.97      1010\n",
      "           4       0.98      0.97      0.98       982\n",
      "           5       0.98      0.96      0.97       892\n",
      "           6       0.98      0.98      0.98       958\n",
      "           7       0.96      0.97      0.97      1028\n",
      "           8       0.98      0.95      0.97       974\n",
      "           9       0.97      0.97      0.97      1009\n",
      "\n",
      "    accuracy                           0.97     10000\n",
      "   macro avg       0.97      0.97      0.97     10000\n",
      "weighted avg       0.97      0.97      0.97     10000\n",
      "\n"
     ]
    }
   ],
   "source": [
    "numOfEpochs = len(history.history['loss'])\n",
    "print(\"Epochs: \", numOfEpochs)\n",
    "\n",
    "print(\"\\nTest Data: Loss & Accuracy: \", model.evaluate(X_test, y_test, verbose=0))\n",
    "\n",
    "# model.predict() method return 10 probabilities per class for each instance (Dimension Nx10)\n",
    "y_test_predicted = model.predict(X_test)\n",
    "y_test_predicted = np.argmax(y_test_predicted, axis=1) # get the label/index of the highest probability class\n",
    "\n",
    "\n",
    "y_train_predicted = model.predict(X_train)\n",
    "y_train_predicted = np.argmax(y_train_predicted, axis=1) # get the label/index of the highest probability class\n",
    "\n",
    "train_accuracy = np.mean(y_train_predicted == y_train)\n",
    "print(\"\\nTrain Accuracy: \", train_accuracy)\n",
    "\n",
    "test_accuracy = np.mean(y_test_predicted == y_test)\n",
    "print(\"\\nTest Accuracy: \", test_accuracy)\n",
    "\n",
    "print(\"\\nTest Confusion Matrix:\")\n",
    "print(confusion_matrix(y_test, y_test_predicted))\n",
    "\n",
    "print(\"\\nClassification Report:\")\n",
    "print(classification_report(y_test, y_test_predicted))"
   ]
  },
  {
   "cell_type": "markdown",
   "metadata": {},
   "source": [
    "### Plot Learning Curve"
   ]
  },
  {
   "cell_type": "code",
   "execution_count": 17,
   "metadata": {},
   "outputs": [
    {
     "data": {
      "image/png": "[encoded data removed]",
      "text/plain": [
       "<Figure size 1296x432 with 2 Axes>"
      ]
     },
     "metadata": {
      "needs_background": "light"
     },
     "output_type": "display_data"
    }
   ],
   "source": [
    "plt.figure(figsize=(18,6))\n",
    "\n",
    "plt.subplot(121)\n",
    "plt.plot(range(1,numOfEpochs+1),history.history['val_accuracy'],label='validation')\n",
    "plt.plot(range(1,numOfEpochs+1),history.history['accuracy'],label='training')\n",
    "plt.legend(loc=0)\n",
    "plt.xlabel('Epochs')\n",
    "plt.ylabel('Accuracy')\n",
    "plt.xlim([1,numOfEpochs])\n",
    "plt.grid(True)\n",
    "plt.title(\"Model Accuracy\")\n",
    "\n",
    "plt.subplot(122)\n",
    "plt.plot(range(1,numOfEpochs+1),history.history['val_loss'],label='validation')\n",
    "plt.plot(range(1,numOfEpochs+1),history.history['loss'],label='training')\n",
    "plt.legend(loc=0)\n",
    "plt.xlabel('Epochs')\n",
    "plt.ylabel('Loss')\n",
    "plt.xlim([1,numOfEpochs])\n",
    "plt.grid(True)\n",
    "plt.title(\"Model Loss\")\n",
    "\n",
    "plt.show()"
   ]
  },
  {
   "cell_type": "markdown",
   "metadata": {},
   "source": [
    "## Experiment 4\n",
    "\n",
    "### Build the MLP Model: kernel_initializer = random_normal, activation = tanh"
   ]
  },
  {
   "cell_type": "code",
   "execution_count": 18,
   "metadata": {},
   "outputs": [
    {
     "name": "stdout",
     "output_type": "stream",
     "text": [
      "Model: \"MLP_Multiclass_Classifier\"\n",
      "_________________________________________________________________\n",
      "Layer (type)                 Output Shape              Param #   \n",
      "=================================================================\n",
      "flatten (Flatten)            (None, 784)               0         \n",
      "_________________________________________________________________\n",
      "dense (Dense)                (None, 300)               235500    \n",
      "_________________________________________________________________\n",
      "dense_1 (Dense)              (None, 100)               30100     \n",
      "_________________________________________________________________\n",
      "dense_2 (Dense)              (None, 10)                1010      \n",
      "=================================================================\n",
      "Total params: 266,610\n",
      "Trainable params: 266,610\n",
      "Non-trainable params: 0\n",
      "_________________________________________________________________\n",
      "Wall time: 31.9 ms\n"
     ]
    }
   ],
   "source": [
    "%%time\n",
    "\n",
    "'''\n",
    "Delete the TensorFlow graph before creating a new model, otherwise memory overflow will occur.\n",
    "'''\n",
    "keras.backend.clear_session()\n",
    "\n",
    "'''\n",
    "To reproduce the same result by the model in each iteration, we use fixed seeds for random number generation. \n",
    "'''\n",
    "np.random.seed(42)\n",
    "tf.random.set_seed(42)\n",
    "\n",
    "\n",
    "'''\n",
    "Set the values for weight initializer and activation function\n",
    "'''\n",
    "kernel_initializer = 'random_normal'\n",
    "activation = 'tanh'\n",
    "number_of_classes = 10\n",
    "\n",
    "\n",
    "'''\n",
    "Create a Sequential model composed of a single stack of layers connected sequentially. \n",
    "- Add the layers one by one.\n",
    "- Apply Dropout regularization\n",
    "'''\n",
    "model = keras.models.Sequential(name=\"MLP_Multiclass_Classifier\")\n",
    "model.add(keras.layers.Flatten(input_shape=[28, 28]))\n",
    "model.add(keras.layers.Dense(units=300, kernel_initializer=kernel_initializer, activation=activation, \n",
    "                             bias_initializer=\"zeros\"))\n",
    "# model.add(keras.layers.Dropout(rate=0.1)) # add if needed\n",
    "model.add(keras.layers.Dense(units=100, kernel_initializer=kernel_initializer, activation=activation,\n",
    "                            bias_initializer=\"zeros\"))\n",
    "# model.add(keras.layers.Dropout(rate=0.1)) # add if needed\n",
    "model.add(keras.layers.Dense(units=number_of_classes, kernel_initializer=kernel_initializer, \n",
    "                             activation=\"softmax\"))\n",
    "model.summary()"
   ]
  },
  {
   "cell_type": "markdown",
   "metadata": {},
   "source": [
    "### Train the MLP Model: SGD learning_rate = 0.1"
   ]
  },
  {
   "cell_type": "code",
   "execution_count": 19,
   "metadata": {
    "scrolled": false
   },
   "outputs": [
    {
     "name": "stdout",
     "output_type": "stream",
     "text": [
      "Epoch 1/50\n",
      "860/860 [==============================] - 2s 1ms/step - loss: 0.6970 - accuracy: 0.8181 - val_loss: 0.2366 - val_accuracy: 0.9330\n",
      "Epoch 2/50\n",
      "860/860 [==============================] - 1s 1ms/step - loss: 0.2329 - accuracy: 0.9327 - val_loss: 0.1767 - val_accuracy: 0.9492\n",
      "Epoch 3/50\n",
      "860/860 [==============================] - 1s 1ms/step - loss: 0.1749 - accuracy: 0.9474 - val_loss: 0.1369 - val_accuracy: 0.9626\n",
      "Epoch 4/50\n",
      "860/860 [==============================] - 1s 1ms/step - loss: 0.1353 - accuracy: 0.9604 - val_loss: 0.1203 - val_accuracy: 0.9666\n",
      "Epoch 5/50\n",
      "860/860 [==============================] - 1s 1ms/step - loss: 0.1120 - accuracy: 0.9680 - val_loss: 0.1097 - val_accuracy: 0.9688\n",
      "Epoch 6/50\n",
      "860/860 [==============================] - 1s 1ms/step - loss: 0.0947 - accuracy: 0.9722 - val_loss: 0.0985 - val_accuracy: 0.9712\n",
      "Epoch 7/50\n",
      "860/860 [==============================] - 1s 1ms/step - loss: 0.0816 - accuracy: 0.9768 - val_loss: 0.0930 - val_accuracy: 0.9734\n",
      "Epoch 8/50\n",
      "860/860 [==============================] - 1s 1ms/step - loss: 0.0695 - accuracy: 0.9805 - val_loss: 0.0959 - val_accuracy: 0.9702\n",
      "Epoch 9/50\n",
      "860/860 [==============================] - 1s 1ms/step - loss: 0.0624 - accuracy: 0.9832 - val_loss: 0.0784 - val_accuracy: 0.9772\n",
      "Epoch 10/50\n",
      "860/860 [==============================] - 1s 1ms/step - loss: 0.0525 - accuracy: 0.9852 - val_loss: 0.0726 - val_accuracy: 0.9792\n",
      "Epoch 11/50\n",
      "860/860 [==============================] - 1s 1ms/step - loss: 0.0476 - accuracy: 0.9866 - val_loss: 0.0745 - val_accuracy: 0.9782\n",
      "Epoch 12/50\n",
      "860/860 [==============================] - 1s 1ms/step - loss: 0.0400 - accuracy: 0.9893 - val_loss: 0.0781 - val_accuracy: 0.9758\n",
      "Epoch 13/50\n",
      "860/860 [==============================] - 1s 1ms/step - loss: 0.0341 - accuracy: 0.9903 - val_loss: 0.0703 - val_accuracy: 0.9796\n",
      "Epoch 14/50\n",
      "860/860 [==============================] - 1s 1ms/step - loss: 0.0331 - accuracy: 0.9915 - val_loss: 0.0677 - val_accuracy: 0.9810\n",
      "Epoch 15/50\n",
      "860/860 [==============================] - 1s 1ms/step - loss: 0.0272 - accuracy: 0.9929 - val_loss: 0.0670 - val_accuracy: 0.9800\n",
      "Epoch 16/50\n",
      "860/860 [==============================] - 1s 1ms/step - loss: 0.0253 - accuracy: 0.9946 - val_loss: 0.0662 - val_accuracy: 0.9804\n",
      "Epoch 17/50\n",
      "860/860 [==============================] - 1s 1ms/step - loss: 0.0211 - accuracy: 0.9958 - val_loss: 0.0651 - val_accuracy: 0.9804\n",
      "Epoch 18/50\n",
      "860/860 [==============================] - 1s 1ms/step - loss: 0.0184 - accuracy: 0.9967 - val_loss: 0.0629 - val_accuracy: 0.9808\n",
      "Epoch 19/50\n",
      "860/860 [==============================] - 1s 1ms/step - loss: 0.0166 - accuracy: 0.9970 - val_loss: 0.0612 - val_accuracy: 0.9818\n",
      "Epoch 20/50\n",
      "860/860 [==============================] - 1s 1ms/step - loss: 0.0152 - accuracy: 0.9977 - val_loss: 0.0631 - val_accuracy: 0.9822\n",
      "Epoch 21/50\n",
      "860/860 [==============================] - 1s 1ms/step - loss: 0.0132 - accuracy: 0.9981 - val_loss: 0.0622 - val_accuracy: 0.9816\n",
      "Epoch 22/50\n",
      "860/860 [==============================] - 1s 1ms/step - loss: 0.0117 - accuracy: 0.9987 - val_loss: 0.0674 - val_accuracy: 0.9792\n",
      "Epoch 23/50\n",
      "860/860 [==============================] - 1s 1ms/step - loss: 0.0113 - accuracy: 0.9986 - val_loss: 0.0635 - val_accuracy: 0.9826\n",
      "Epoch 24/50\n",
      "860/860 [==============================] - 1s 1ms/step - loss: 0.0096 - accuracy: 0.9992 - val_loss: 0.0624 - val_accuracy: 0.9818\n",
      "Epoch 25/50\n",
      "860/860 [==============================] - 1s 1ms/step - loss: 0.0081 - accuracy: 0.9992 - val_loss: 0.0598 - val_accuracy: 0.9828\n",
      "Epoch 26/50\n",
      "860/860 [==============================] - 1s 1ms/step - loss: 0.0075 - accuracy: 0.9994 - val_loss: 0.0648 - val_accuracy: 0.9820\n",
      "Epoch 27/50\n",
      "860/860 [==============================] - 1s 1ms/step - loss: 0.0062 - accuracy: 0.9996 - val_loss: 0.0592 - val_accuracy: 0.9832\n",
      "Epoch 28/50\n",
      "860/860 [==============================] - 1s 1ms/step - loss: 0.0063 - accuracy: 0.9996 - val_loss: 0.0621 - val_accuracy: 0.9826\n",
      "Epoch 29/50\n",
      "860/860 [==============================] - 1s 1ms/step - loss: 0.0052 - accuracy: 0.9998 - val_loss: 0.0614 - val_accuracy: 0.9828\n",
      "Epoch 30/50\n",
      "860/860 [==============================] - 1s 1ms/step - loss: 0.0049 - accuracy: 0.9998 - val_loss: 0.0608 - val_accuracy: 0.9840\n",
      "Epoch 31/50\n",
      "860/860 [==============================] - 1s 1ms/step - loss: 0.0041 - accuracy: 0.9998 - val_loss: 0.0614 - val_accuracy: 0.9822\n",
      "Epoch 32/50\n",
      "860/860 [==============================] - 1s 1ms/step - loss: 0.0043 - accuracy: 0.9999 - val_loss: 0.0594 - val_accuracy: 0.9830\n",
      "Epoch 33/50\n",
      "860/860 [==============================] - 1s 1ms/step - loss: 0.0038 - accuracy: 0.9999 - val_loss: 0.0604 - val_accuracy: 0.9834\n",
      "Epoch 34/50\n",
      "860/860 [==============================] - 1s 1ms/step - loss: 0.0036 - accuracy: 0.9999 - val_loss: 0.0609 - val_accuracy: 0.9828\n",
      "Epoch 35/50\n",
      "860/860 [==============================] - 1s 1ms/step - loss: 0.0033 - accuracy: 0.9999 - val_loss: 0.0604 - val_accuracy: 0.9836\n",
      "Epoch 36/50\n",
      "860/860 [==============================] - 1s 1ms/step - loss: 0.0031 - accuracy: 0.9998 - val_loss: 0.0616 - val_accuracy: 0.9820\n",
      "Epoch 37/50\n",
      "860/860 [==============================] - 1s 1ms/step - loss: 0.0031 - accuracy: 0.9999 - val_loss: 0.0609 - val_accuracy: 0.9832\n",
      "Epoch 00037: early stopping\n"
     ]
    }
   ],
   "source": [
    "'''\n",
    "Define the optimizer\n",
    "'''\n",
    "optimizer = keras.optimizers.SGD(learning_rate=0.1)\n",
    "\n",
    "\n",
    "'''\n",
    "Compile the model\n",
    "'''\n",
    "model.compile(loss=\"sparse_categorical_crossentropy\",\n",
    "              optimizer=optimizer,\n",
    "              metrics=[\"accuracy\"])\n",
    "\n",
    "\n",
    "\n",
    "'''\n",
    "Create the early stopping callback function.\n",
    "'''\n",
    "early_stopping_cb = keras.callbacks.EarlyStopping(monitor='val_loss',\n",
    "                                  min_delta=0, \n",
    "                                  patience=10, \n",
    "                                  verbose=1, \n",
    "                                  mode='auto',\n",
    "                                  restore_best_weights=False)\n",
    "\n",
    "'''\n",
    "Set the epochs and mini batch size\n",
    "'''\n",
    "no_of_epochs = 50\n",
    "size_of_mini_batch = 64\n",
    "\n",
    "\n",
    "'''\n",
    "Train the model\n",
    "'''\n",
    "history = model.fit(X_train, y_train, \n",
    "                    batch_size=size_of_mini_batch, \n",
    "                    epochs=no_of_epochs,\n",
    "                    verbose=1,\n",
    "                    validation_data=(X_valid, y_valid),\n",
    "                    callbacks=[early_stopping_cb])"
   ]
  },
  {
   "cell_type": "markdown",
   "metadata": {},
   "source": [
    "### History Object"
   ]
  },
  {
   "cell_type": "code",
   "execution_count": 20,
   "metadata": {},
   "outputs": [
    {
     "name": "stdout",
     "output_type": "stream",
     "text": [
      "Training Parameters:  {'verbose': 1, 'epochs': 50, 'steps': 860}\n",
      "\n",
      "List of Epochs:  [0, 1, 2, 3, 4, 5, 6, 7, 8, 9, 10, 11, 12, 13, 14, 15, 16, 17, 18, 19, 20, 21, 22, 23, 24, 25, 26, 27, 28, 29, 30, 31, 32, 33, 34, 35, 36]\n",
      "\n",
      "Evaluation Metrics:  dict_keys(['loss', 'accuracy', 'val_loss', 'val_accuracy'])\n"
     ]
    }
   ],
   "source": [
    "print(\"Training Parameters: \", history.params)\n",
    "print(\"\\nList of Epochs: \", history.epoch)\n",
    "print(\"\\nEvaluation Metrics: \", history.history.keys())"
   ]
  },
  {
   "cell_type": "markdown",
   "metadata": {},
   "source": [
    "### Evaluate the Model"
   ]
  },
  {
   "cell_type": "code",
   "execution_count": 21,
   "metadata": {},
   "outputs": [
    {
     "name": "stdout",
     "output_type": "stream",
     "text": [
      "Epochs:  37\n",
      "\n",
      "Test Data: Loss & Accuracy:  [0.06661780923604965, 0.982200026512146]\n",
      "\n",
      "Train Accuracy:  0.9999818181818182\n",
      "\n",
      "Test Accuracy:  0.9822\n",
      "\n",
      "Test Confusion Matrix:\n",
      "[[ 974    0    1    0    0    0    1    1    2    1]\n",
      " [   1 1126    1    1    0    1    2    1    2    0]\n",
      " [   4    0 1013    2    1    0    1    4    7    0]\n",
      " [   0    0    5  993    0    1    0    3    2    6]\n",
      " [   1    0    1    0  960    1    6    2    0   11]\n",
      " [   4    0    0   10    2  865    5    1    3    2]\n",
      " [   5    2    0    1    4    5  939    0    2    0]\n",
      " [   2    1    5    2    0    0    0 1011    2    5]\n",
      " [   2    0    2    4    3    3    1    2  954    3]\n",
      " [   1    2    0    5    6    0    0    6    2  987]]\n",
      "\n",
      "Classification Report:\n",
      "              precision    recall  f1-score   support\n",
      "\n",
      "           0       0.98      0.99      0.99       980\n",
      "           1       1.00      0.99      0.99      1135\n",
      "           2       0.99      0.98      0.98      1032\n",
      "           3       0.98      0.98      0.98      1010\n",
      "           4       0.98      0.98      0.98       982\n",
      "           5       0.99      0.97      0.98       892\n",
      "           6       0.98      0.98      0.98       958\n",
      "           7       0.98      0.98      0.98      1028\n",
      "           8       0.98      0.98      0.98       974\n",
      "           9       0.97      0.98      0.98      1009\n",
      "\n",
      "    accuracy                           0.98     10000\n",
      "   macro avg       0.98      0.98      0.98     10000\n",
      "weighted avg       0.98      0.98      0.98     10000\n",
      "\n"
     ]
    }
   ],
   "source": [
    "numOfEpochs = len(history.history['loss'])\n",
    "print(\"Epochs: \", numOfEpochs)\n",
    "\n",
    "print(\"\\nTest Data: Loss & Accuracy: \", model.evaluate(X_test, y_test, verbose=0))\n",
    "\n",
    "# model.predict() method return 10 probabilities per class for each instance (Dimension Nx10)\n",
    "y_test_predicted = model.predict(X_test)\n",
    "y_test_predicted = np.argmax(y_test_predicted, axis=1) # get the label/index of the highest probability class\n",
    "\n",
    "\n",
    "y_train_predicted = model.predict(X_train)\n",
    "y_train_predicted = np.argmax(y_train_predicted, axis=1) # get the label/index of the highest probability class\n",
    "\n",
    "train_accuracy = np.mean(y_train_predicted == y_train)\n",
    "print(\"\\nTrain Accuracy: \", train_accuracy)\n",
    "\n",
    "test_accuracy = np.mean(y_test_predicted == y_test)\n",
    "print(\"\\nTest Accuracy: \", test_accuracy)\n",
    "\n",
    "print(\"\\nTest Confusion Matrix:\")\n",
    "print(confusion_matrix(y_test, y_test_predicted))\n",
    "\n",
    "print(\"\\nClassification Report:\")\n",
    "print(classification_report(y_test, y_test_predicted))"
   ]
  },
  {
   "cell_type": "markdown",
   "metadata": {},
   "source": [
    "### Plot Learning Curve"
   ]
  },
  {
   "cell_type": "code",
   "execution_count": 22,
   "metadata": {},
   "outputs": [
    {
     "data": {
      "image/png": "[encoded data removed]",
      "text/plain": [
       "<Figure size 1296x432 with 2 Axes>"
      ]
     },
     "metadata": {
      "needs_background": "light"
     },
     "output_type": "display_data"
    }
   ],
   "source": [
    "plt.figure(figsize=(18,6))\n",
    "\n",
    "plt.subplot(121)\n",
    "plt.plot(range(1,numOfEpochs+1),history.history['val_accuracy'],label='validation')\n",
    "plt.plot(range(1,numOfEpochs+1),history.history['accuracy'],label='training')\n",
    "plt.legend(loc=0)\n",
    "plt.xlabel('Epochs')\n",
    "plt.ylabel('Accuracy')\n",
    "plt.xlim([1,numOfEpochs])\n",
    "plt.grid(True)\n",
    "plt.title(\"Model Accuracy\")\n",
    "\n",
    "plt.subplot(122)\n",
    "plt.plot(range(1,numOfEpochs+1),history.history['val_loss'],label='validation')\n",
    "plt.plot(range(1,numOfEpochs+1),history.history['loss'],label='training')\n",
    "plt.legend(loc=0)\n",
    "plt.xlabel('Epochs')\n",
    "plt.ylabel('Loss')\n",
    "plt.xlim([1,numOfEpochs])\n",
    "plt.grid(True)\n",
    "plt.title(\"Model Loss\")\n",
    "\n",
    "plt.show()"
   ]
  },
  {
   "cell_type": "markdown",
   "metadata": {},
   "source": [
    "## Experiment 5\n",
    "\n",
    "### Build the MLP Model: kernel_initializer = random_normal, activation = relu"
   ]
  },
  {
   "cell_type": "code",
   "execution_count": 23,
   "metadata": {},
   "outputs": [
    {
     "name": "stdout",
     "output_type": "stream",
     "text": [
      "Model: \"MLP_Multiclass_Classifier\"\n",
      "_________________________________________________________________\n",
      "Layer (type)                 Output Shape              Param #   \n",
      "=================================================================\n",
      "flatten (Flatten)            (None, 784)               0         \n",
      "_________________________________________________________________\n",
      "dense (Dense)                (None, 300)               235500    \n",
      "_________________________________________________________________\n",
      "dense_1 (Dense)              (None, 100)               30100     \n",
      "_________________________________________________________________\n",
      "dense_2 (Dense)              (None, 10)                1010      \n",
      "=================================================================\n",
      "Total params: 266,610\n",
      "Trainable params: 266,610\n",
      "Non-trainable params: 0\n",
      "_________________________________________________________________\n",
      "Wall time: 30.9 ms\n"
     ]
    }
   ],
   "source": [
    "%%time\n",
    "\n",
    "'''\n",
    "Delete the TensorFlow graph before creating a new model, otherwise memory overflow will occur.\n",
    "'''\n",
    "keras.backend.clear_session()\n",
    "\n",
    "'''\n",
    "To reproduce the same result by the model in each iteration, we use fixed seeds for random number generation. \n",
    "'''\n",
    "np.random.seed(42)\n",
    "tf.random.set_seed(42)\n",
    "\n",
    "\n",
    "'''\n",
    "Set the values for weight initializer and activation function\n",
    "'''\n",
    "kernel_initializer = 'random_normal'\n",
    "activation = 'relu'\n",
    "number_of_classes = 10\n",
    "\n",
    "\n",
    "'''\n",
    "Create a Sequential model composed of a single stack of layers connected sequentially. \n",
    "- Add the layers one by one.\n",
    "- Apply Dropout regularization\n",
    "'''\n",
    "model = keras.models.Sequential(name=\"MLP_Multiclass_Classifier\")\n",
    "model.add(keras.layers.Flatten(input_shape=[28, 28]))\n",
    "model.add(keras.layers.Dense(units=300, kernel_initializer=kernel_initializer, activation=activation, \n",
    "                             bias_initializer=\"zeros\"))\n",
    "# model.add(keras.layers.Dropout(rate=0.1)) # add if needed\n",
    "model.add(keras.layers.Dense(units=100, kernel_initializer=kernel_initializer, activation=activation,\n",
    "                            bias_initializer=\"zeros\"))\n",
    "# model.add(keras.layers.Dropout(rate=0.1)) # add if needed\n",
    "model.add(keras.layers.Dense(units=number_of_classes, kernel_initializer=kernel_initializer, \n",
    "                             activation=\"softmax\"))\n",
    "model.summary()"
   ]
  },
  {
   "cell_type": "markdown",
   "metadata": {},
   "source": [
    "### Train the MLP Model: SGD learning_rate = 0.1"
   ]
  },
  {
   "cell_type": "code",
   "execution_count": 24,
   "metadata": {},
   "outputs": [
    {
     "name": "stdout",
     "output_type": "stream",
     "text": [
      "Epoch 1/50\n",
      "860/860 [==============================] - 2s 2ms/step - loss: 0.7941 - accuracy: 0.7732 - val_loss: 0.1957 - val_accuracy: 0.9450\n",
      "Epoch 2/50\n",
      "860/860 [==============================] - 1s 1ms/step - loss: 0.1896 - accuracy: 0.9444 - val_loss: 0.1430 - val_accuracy: 0.9594\n",
      "Epoch 3/50\n",
      "860/860 [==============================] - 1s 1ms/step - loss: 0.1281 - accuracy: 0.9617 - val_loss: 0.1021 - val_accuracy: 0.9718\n",
      "Epoch 4/50\n",
      "860/860 [==============================] - 1s 1ms/step - loss: 0.0911 - accuracy: 0.9735 - val_loss: 0.0898 - val_accuracy: 0.9750\n",
      "Epoch 5/50\n",
      "860/860 [==============================] - 1s 1ms/step - loss: 0.0713 - accuracy: 0.9798 - val_loss: 0.0864 - val_accuracy: 0.9742\n",
      "Epoch 6/50\n",
      "860/860 [==============================] - 1s 1ms/step - loss: 0.0558 - accuracy: 0.9838 - val_loss: 0.0738 - val_accuracy: 0.9774\n",
      "Epoch 7/50\n",
      "860/860 [==============================] - 1s 1ms/step - loss: 0.0464 - accuracy: 0.9864 - val_loss: 0.0741 - val_accuracy: 0.9792\n",
      "Epoch 8/50\n",
      "860/860 [==============================] - 1s 1ms/step - loss: 0.0352 - accuracy: 0.9898 - val_loss: 0.0829 - val_accuracy: 0.9746\n",
      "Epoch 9/50\n",
      "860/860 [==============================] - 1s 1ms/step - loss: 0.0319 - accuracy: 0.9915 - val_loss: 0.0667 - val_accuracy: 0.9818\n",
      "Epoch 10/50\n",
      "860/860 [==============================] - 1s 1ms/step - loss: 0.0237 - accuracy: 0.9938 - val_loss: 0.0623 - val_accuracy: 0.9830\n",
      "Epoch 11/50\n",
      "860/860 [==============================] - 1s 1ms/step - loss: 0.0194 - accuracy: 0.9949 - val_loss: 0.0683 - val_accuracy: 0.9794\n",
      "Epoch 12/50\n",
      "860/860 [==============================] - 1s 1ms/step - loss: 0.0149 - accuracy: 0.9966 - val_loss: 0.0722 - val_accuracy: 0.9804\n",
      "Epoch 13/50\n",
      "860/860 [==============================] - 1s 1ms/step - loss: 0.0109 - accuracy: 0.9980 - val_loss: 0.0850 - val_accuracy: 0.9786\n",
      "Epoch 14/50\n",
      "860/860 [==============================] - 1s 1ms/step - loss: 0.0111 - accuracy: 0.9981 - val_loss: 0.0657 - val_accuracy: 0.9834\n",
      "Epoch 15/50\n",
      "860/860 [==============================] - 1s 1ms/step - loss: 0.0072 - accuracy: 0.9991 - val_loss: 0.0738 - val_accuracy: 0.9790\n",
      "Epoch 16/50\n",
      "860/860 [==============================] - 1s 1ms/step - loss: 0.0073 - accuracy: 0.9992 - val_loss: 0.0699 - val_accuracy: 0.9816\n",
      "Epoch 17/50\n",
      "860/860 [==============================] - 1s 1ms/step - loss: 0.0050 - accuracy: 0.9996 - val_loss: 0.0700 - val_accuracy: 0.9828\n",
      "Epoch 18/50\n",
      "860/860 [==============================] - 1s 1ms/step - loss: 0.0040 - accuracy: 0.9997 - val_loss: 0.0699 - val_accuracy: 0.9832\n",
      "Epoch 19/50\n",
      "860/860 [==============================] - 1s 1ms/step - loss: 0.0033 - accuracy: 0.9999 - val_loss: 0.0703 - val_accuracy: 0.9838\n",
      "Epoch 20/50\n",
      "860/860 [==============================] - 1s 1ms/step - loss: 0.0031 - accuracy: 0.9999 - val_loss: 0.0732 - val_accuracy: 0.9824\n",
      "Epoch 00020: early stopping\n"
     ]
    }
   ],
   "source": [
    "'''\n",
    "Define the optimizer\n",
    "'''\n",
    "optimizer = keras.optimizers.SGD(learning_rate=0.1)\n",
    "\n",
    "\n",
    "'''\n",
    "Compile the model\n",
    "'''\n",
    "model.compile(loss=\"sparse_categorical_crossentropy\",\n",
    "              optimizer=optimizer,\n",
    "              metrics=[\"accuracy\"])\n",
    "\n",
    "\n",
    "\n",
    "'''\n",
    "Create the early stopping callback function.\n",
    "'''\n",
    "early_stopping_cb = keras.callbacks.EarlyStopping(monitor='val_loss',\n",
    "                                  min_delta=0, \n",
    "                                  patience=10, \n",
    "                                  verbose=1, \n",
    "                                  mode='auto',\n",
    "                                  restore_best_weights=False)\n",
    "\n",
    "'''\n",
    "Set the epochs and mini batch size\n",
    "'''\n",
    "no_of_epochs = 50\n",
    "size_of_mini_batch = 64\n",
    "\n",
    "\n",
    "'''\n",
    "Train the model\n",
    "'''\n",
    "history = model.fit(X_train, y_train, \n",
    "                    batch_size=size_of_mini_batch, \n",
    "                    epochs=no_of_epochs,\n",
    "                    verbose=1,\n",
    "                    validation_data=(X_valid, y_valid),\n",
    "                    callbacks=[early_stopping_cb])"
   ]
  },
  {
   "cell_type": "markdown",
   "metadata": {},
   "source": [
    "### History Object"
   ]
  },
  {
   "cell_type": "code",
   "execution_count": 25,
   "metadata": {},
   "outputs": [
    {
     "name": "stdout",
     "output_type": "stream",
     "text": [
      "Training Parameters:  {'verbose': 1, 'epochs': 50, 'steps': 860}\n",
      "\n",
      "List of Epochs:  [0, 1, 2, 3, 4, 5, 6, 7, 8, 9, 10, 11, 12, 13, 14, 15, 16, 17, 18, 19]\n",
      "\n",
      "Evaluation Metrics:  dict_keys(['loss', 'accuracy', 'val_loss', 'val_accuracy'])\n"
     ]
    }
   ],
   "source": [
    "print(\"Training Parameters: \", history.params)\n",
    "print(\"\\nList of Epochs: \", history.epoch)\n",
    "print(\"\\nEvaluation Metrics: \", history.history.keys())"
   ]
  },
  {
   "cell_type": "markdown",
   "metadata": {},
   "source": [
    "### Evaluate the Model"
   ]
  },
  {
   "cell_type": "code",
   "execution_count": 26,
   "metadata": {},
   "outputs": [
    {
     "name": "stdout",
     "output_type": "stream",
     "text": [
      "Epochs:  20\n",
      "\n",
      "Test Data: Loss & Accuracy:  [0.06563017517328262, 0.9807999730110168]\n",
      "\n",
      "Train Accuracy:  0.9999454545454546\n",
      "\n",
      "Test Accuracy:  0.9808\n",
      "\n",
      "Test Confusion Matrix:\n",
      "[[ 967    0    1    0    1    1    2    3    4    1]\n",
      " [   0 1126    1    1    0    0    2    1    4    0]\n",
      " [   4    2 1006    0    4    0    2    7    7    0]\n",
      " [   0    0    3  996    0    2    0    2    3    4]\n",
      " [   2    0    3    0  966    0    3    1    0    7]\n",
      " [   2    0    0    8    1  870    3    1    5    2]\n",
      " [   4    3    1    1    5    3  939    0    2    0]\n",
      " [   2    4    6    2    1    0    0 1003    5    5]\n",
      " [   4    0    3    3    1    1    3    2  955    2]\n",
      " [   2    2    0    6    7    3    1    4    4  980]]\n",
      "\n",
      "Classification Report:\n",
      "              precision    recall  f1-score   support\n",
      "\n",
      "           0       0.98      0.99      0.98       980\n",
      "           1       0.99      0.99      0.99      1135\n",
      "           2       0.98      0.97      0.98      1032\n",
      "           3       0.98      0.99      0.98      1010\n",
      "           4       0.98      0.98      0.98       982\n",
      "           5       0.99      0.98      0.98       892\n",
      "           6       0.98      0.98      0.98       958\n",
      "           7       0.98      0.98      0.98      1028\n",
      "           8       0.97      0.98      0.97       974\n",
      "           9       0.98      0.97      0.98      1009\n",
      "\n",
      "    accuracy                           0.98     10000\n",
      "   macro avg       0.98      0.98      0.98     10000\n",
      "weighted avg       0.98      0.98      0.98     10000\n",
      "\n"
     ]
    }
   ],
   "source": [
    "numOfEpochs = len(history.history['loss'])\n",
    "print(\"Epochs: \", numOfEpochs)\n",
    "\n",
    "print(\"\\nTest Data: Loss & Accuracy: \", model.evaluate(X_test, y_test, verbose=0))\n",
    "\n",
    "# model.predict() method return 10 probabilities per class for each instance (Dimension Nx10)\n",
    "y_test_predicted = model.predict(X_test)\n",
    "y_test_predicted = np.argmax(y_test_predicted, axis=1) # get the label/index of the highest probability class\n",
    "\n",
    "\n",
    "y_train_predicted = model.predict(X_train)\n",
    "y_train_predicted = np.argmax(y_train_predicted, axis=1) # get the label/index of the highest probability class\n",
    "\n",
    "train_accuracy = np.mean(y_train_predicted == y_train)\n",
    "print(\"\\nTrain Accuracy: \", train_accuracy)\n",
    "\n",
    "test_accuracy = np.mean(y_test_predicted == y_test)\n",
    "print(\"\\nTest Accuracy: \", test_accuracy)\n",
    "\n",
    "print(\"\\nTest Confusion Matrix:\")\n",
    "print(confusion_matrix(y_test, y_test_predicted))\n",
    "\n",
    "print(\"\\nClassification Report:\")\n",
    "print(classification_report(y_test, y_test_predicted))"
   ]
  },
  {
   "cell_type": "markdown",
   "metadata": {},
   "source": [
    "### Plot Learning Curve"
   ]
  },
  {
   "cell_type": "code",
   "execution_count": 27,
   "metadata": {},
   "outputs": [
    {
     "data": {
      "image/png": "[encoded data removed]",
      "text/plain": [
       "<Figure size 1296x432 with 2 Axes>"
      ]
     },
     "metadata": {
      "needs_background": "light"
     },
     "output_type": "display_data"
    }
   ],
   "source": [
    "plt.figure(figsize=(18,6))\n",
    "\n",
    "plt.subplot(121)\n",
    "plt.plot(range(1,numOfEpochs+1),history.history['val_accuracy'],label='validation')\n",
    "plt.plot(range(1,numOfEpochs+1),history.history['accuracy'],label='training')\n",
    "plt.legend(loc=0)\n",
    "plt.xlabel('Epochs')\n",
    "plt.ylabel('Accuracy')\n",
    "plt.xlim([1,numOfEpochs])\n",
    "plt.grid(True)\n",
    "plt.title(\"Model Accuracy\")\n",
    "\n",
    "plt.subplot(122)\n",
    "plt.plot(range(1,numOfEpochs+1),history.history['val_loss'],label='validation')\n",
    "plt.plot(range(1,numOfEpochs+1),history.history['loss'],label='training')\n",
    "plt.legend(loc=0)\n",
    "plt.xlabel('Epochs')\n",
    "plt.ylabel('Loss')\n",
    "plt.xlim([1,numOfEpochs])\n",
    "plt.grid(True)\n",
    "plt.title(\"Model Loss\")\n",
    "\n",
    "plt.show()"
   ]
  },
  {
   "cell_type": "markdown",
   "metadata": {},
   "source": [
    "## Experiment 6\n",
    "\n",
    "### Build the MLP Model: kernel_initializer = random_normal, activation = relu, Hidden layer 1: rate=0.1, Hidden layer 2: rate=0.1"
   ]
  },
  {
   "cell_type": "code",
   "execution_count": 28,
   "metadata": {},
   "outputs": [
    {
     "name": "stdout",
     "output_type": "stream",
     "text": [
      "Model: \"MLP_Multiclass_Classifier\"\n",
      "_________________________________________________________________\n",
      "Layer (type)                 Output Shape              Param #   \n",
      "=================================================================\n",
      "flatten (Flatten)            (None, 784)               0         \n",
      "_________________________________________________________________\n",
      "dense (Dense)                (None, 300)               235500    \n",
      "_________________________________________________________________\n",
      "dropout (Dropout)            (None, 300)               0         \n",
      "_________________________________________________________________\n",
      "dense_1 (Dense)              (None, 100)               30100     \n",
      "_________________________________________________________________\n",
      "dropout_1 (Dropout)          (None, 100)               0         \n",
      "_________________________________________________________________\n",
      "dense_2 (Dense)              (None, 10)                1010      \n",
      "=================================================================\n",
      "Total params: 266,610\n",
      "Trainable params: 266,610\n",
      "Non-trainable params: 0\n",
      "_________________________________________________________________\n",
      "Wall time: 34.9 ms\n"
     ]
    }
   ],
   "source": [
    "%%time\n",
    "\n",
    "'''\n",
    "Delete the TensorFlow graph before creating a new model, otherwise memory overflow will occur.\n",
    "'''\n",
    "keras.backend.clear_session()\n",
    "\n",
    "'''\n",
    "To reproduce the same result by the model in each iteration, we use fixed seeds for random number generation. \n",
    "'''\n",
    "np.random.seed(42)\n",
    "tf.random.set_seed(42)\n",
    "\n",
    "\n",
    "'''\n",
    "Set the values for weight initializer and activation function\n",
    "'''\n",
    "kernel_initializer = 'random_normal'\n",
    "activation = 'relu'\n",
    "number_of_classes = 10\n",
    "\n",
    "\n",
    "'''\n",
    "Create a Sequential model composed of a single stack of layers connected sequentially. \n",
    "- Add the layers one by one.\n",
    "- Apply Dropout regularization\n",
    "'''\n",
    "model = keras.models.Sequential(name=\"MLP_Multiclass_Classifier\")\n",
    "model.add(keras.layers.Flatten(input_shape=[28, 28]))\n",
    "model.add(keras.layers.Dense(units=300, kernel_initializer=kernel_initializer, activation=activation, \n",
    "                             bias_initializer=\"zeros\"))\n",
    "model.add(keras.layers.Dropout(rate=0.1)) # add if needed\n",
    "model.add(keras.layers.Dense(units=100, kernel_initializer=kernel_initializer, activation=activation,\n",
    "                            bias_initializer=\"zeros\"))\n",
    "model.add(keras.layers.Dropout(rate=0.1)) # add if needed\n",
    "model.add(keras.layers.Dense(units=number_of_classes, kernel_initializer=kernel_initializer, \n",
    "                             activation=\"softmax\"))\n",
    "model.summary()"
   ]
  },
  {
   "cell_type": "markdown",
   "metadata": {},
   "source": [
    "### Train the MLP Model: SGD learning_rate = 0.1"
   ]
  },
  {
   "cell_type": "code",
   "execution_count": 29,
   "metadata": {},
   "outputs": [
    {
     "name": "stdout",
     "output_type": "stream",
     "text": [
      "Epoch 1/50\n",
      "860/860 [==============================] - 2s 2ms/step - loss: 0.8369 - accuracy: 0.7511 - val_loss: 0.1950 - val_accuracy: 0.9454\n",
      "Epoch 2/50\n",
      "860/860 [==============================] - 1s 2ms/step - loss: 0.2102 - accuracy: 0.9366 - val_loss: 0.1402 - val_accuracy: 0.9580\n",
      "Epoch 3/50\n",
      "860/860 [==============================] - 1s 2ms/step - loss: 0.1493 - accuracy: 0.9553 - val_loss: 0.1000 - val_accuracy: 0.9698\n",
      "Epoch 4/50\n",
      "860/860 [==============================] - 1s 2ms/step - loss: 0.1114 - accuracy: 0.9677 - val_loss: 0.0919 - val_accuracy: 0.9732\n",
      "Epoch 5/50\n",
      "860/860 [==============================] - 1s 2ms/step - loss: 0.0892 - accuracy: 0.9726 - val_loss: 0.0920 - val_accuracy: 0.9708\n",
      "Epoch 6/50\n",
      "860/860 [==============================] - 1s 2ms/step - loss: 0.0754 - accuracy: 0.9772 - val_loss: 0.0761 - val_accuracy: 0.9778\n",
      "Epoch 7/50\n",
      "860/860 [==============================] - 1s 2ms/step - loss: 0.0649 - accuracy: 0.9807 - val_loss: 0.0740 - val_accuracy: 0.9794\n",
      "Epoch 8/50\n",
      "860/860 [==============================] - 1s 2ms/step - loss: 0.0558 - accuracy: 0.9830 - val_loss: 0.0774 - val_accuracy: 0.9762\n",
      "Epoch 9/50\n",
      "860/860 [==============================] - 1s 2ms/step - loss: 0.0501 - accuracy: 0.9852 - val_loss: 0.0645 - val_accuracy: 0.9800\n",
      "Epoch 10/50\n",
      "860/860 [==============================] - 1s 2ms/step - loss: 0.0425 - accuracy: 0.9871 - val_loss: 0.0595 - val_accuracy: 0.9822\n",
      "Epoch 11/50\n",
      "860/860 [==============================] - 1s 2ms/step - loss: 0.0370 - accuracy: 0.9883 - val_loss: 0.0594 - val_accuracy: 0.9834\n",
      "Epoch 12/50\n",
      "860/860 [==============================] - 1s 2ms/step - loss: 0.0356 - accuracy: 0.9893 - val_loss: 0.0797 - val_accuracy: 0.9764\n",
      "Epoch 13/50\n",
      "860/860 [==============================] - 1s 2ms/step - loss: 0.0306 - accuracy: 0.9906 - val_loss: 0.0590 - val_accuracy: 0.9836\n",
      "Epoch 14/50\n",
      "860/860 [==============================] - 1s 2ms/step - loss: 0.0281 - accuracy: 0.9914 - val_loss: 0.0589 - val_accuracy: 0.9832\n",
      "Epoch 15/50\n",
      "860/860 [==============================] - 1s 2ms/step - loss: 0.0236 - accuracy: 0.9927 - val_loss: 0.0603 - val_accuracy: 0.9824\n",
      "Epoch 16/50\n",
      "860/860 [==============================] - 1s 2ms/step - loss: 0.0238 - accuracy: 0.9930 - val_loss: 0.0578 - val_accuracy: 0.9836\n",
      "Epoch 17/50\n",
      "860/860 [==============================] - 1s 2ms/step - loss: 0.0206 - accuracy: 0.9941 - val_loss: 0.0661 - val_accuracy: 0.9810\n",
      "Epoch 18/50\n",
      "860/860 [==============================] - 1s 2ms/step - loss: 0.0200 - accuracy: 0.9940 - val_loss: 0.0610 - val_accuracy: 0.9824\n",
      "Epoch 19/50\n",
      "860/860 [==============================] - 1s 2ms/step - loss: 0.0172 - accuracy: 0.9951 - val_loss: 0.0598 - val_accuracy: 0.9834\n",
      "Epoch 20/50\n",
      "860/860 [==============================] - 1s 2ms/step - loss: 0.0168 - accuracy: 0.9947 - val_loss: 0.0653 - val_accuracy: 0.9832\n",
      "Epoch 21/50\n",
      "860/860 [==============================] - 1s 2ms/step - loss: 0.0155 - accuracy: 0.9956 - val_loss: 0.0634 - val_accuracy: 0.9836\n",
      "Epoch 22/50\n",
      "860/860 [==============================] - 1s 2ms/step - loss: 0.0139 - accuracy: 0.9965 - val_loss: 0.0685 - val_accuracy: 0.9838\n",
      "Epoch 23/50\n",
      "860/860 [==============================] - 1s 2ms/step - loss: 0.0140 - accuracy: 0.9961 - val_loss: 0.0629 - val_accuracy: 0.9838\n",
      "Epoch 24/50\n",
      "860/860 [==============================] - 1s 2ms/step - loss: 0.0139 - accuracy: 0.9955 - val_loss: 0.0622 - val_accuracy: 0.9838\n",
      "Epoch 25/50\n",
      "860/860 [==============================] - 1s 2ms/step - loss: 0.0112 - accuracy: 0.9969 - val_loss: 0.0652 - val_accuracy: 0.9828\n",
      "Epoch 26/50\n",
      "860/860 [==============================] - 1s 2ms/step - loss: 0.0118 - accuracy: 0.9961 - val_loss: 0.0784 - val_accuracy: 0.9804\n",
      "Epoch 00026: early stopping\n"
     ]
    }
   ],
   "source": [
    "'''\n",
    "Define the optimizer\n",
    "'''\n",
    "optimizer = keras.optimizers.SGD(learning_rate=0.1)\n",
    "\n",
    "\n",
    "'''\n",
    "Compile the model\n",
    "'''\n",
    "model.compile(loss=\"sparse_categorical_crossentropy\",\n",
    "              optimizer=optimizer,\n",
    "              metrics=[\"accuracy\"])\n",
    "\n",
    "\n",
    "\n",
    "'''\n",
    "Create the early stopping callback function.\n",
    "'''\n",
    "early_stopping_cb = keras.callbacks.EarlyStopping(monitor='val_loss',\n",
    "                                  min_delta=0, \n",
    "                                  patience=10, \n",
    "                                  verbose=1, \n",
    "                                  mode='auto',\n",
    "                                  restore_best_weights=False)\n",
    "\n",
    "'''\n",
    "Set the epochs and mini batch size\n",
    "'''\n",
    "no_of_epochs = 50\n",
    "size_of_mini_batch = 64\n",
    "\n",
    "\n",
    "'''\n",
    "Train the model\n",
    "'''\n",
    "history = model.fit(X_train, y_train, \n",
    "                    batch_size=size_of_mini_batch, \n",
    "                    epochs=no_of_epochs,\n",
    "                    verbose=1,\n",
    "                    validation_data=(X_valid, y_valid),\n",
    "                    callbacks=[early_stopping_cb])"
   ]
  },
  {
   "cell_type": "markdown",
   "metadata": {},
   "source": [
    "### History Object"
   ]
  },
  {
   "cell_type": "code",
   "execution_count": 30,
   "metadata": {},
   "outputs": [
    {
     "name": "stdout",
     "output_type": "stream",
     "text": [
      "Training Parameters:  {'verbose': 1, 'epochs': 50, 'steps': 860}\n",
      "\n",
      "List of Epochs:  [0, 1, 2, 3, 4, 5, 6, 7, 8, 9, 10, 11, 12, 13, 14, 15, 16, 17, 18, 19, 20, 21, 22, 23, 24, 25]\n",
      "\n",
      "Evaluation Metrics:  dict_keys(['loss', 'accuracy', 'val_loss', 'val_accuracy'])\n"
     ]
    }
   ],
   "source": [
    "print(\"Training Parameters: \", history.params)\n",
    "print(\"\\nList of Epochs: \", history.epoch)\n",
    "print(\"\\nEvaluation Metrics: \", history.history.keys())"
   ]
  },
  {
   "cell_type": "markdown",
   "metadata": {},
   "source": [
    "### Evaluate the Model"
   ]
  },
  {
   "cell_type": "code",
   "execution_count": 31,
   "metadata": {},
   "outputs": [
    {
     "name": "stdout",
     "output_type": "stream",
     "text": [
      "Epochs:  26\n",
      "\n",
      "Test Data: Loss & Accuracy:  [0.07191652059555054, 0.9818999767303467]\n",
      "\n",
      "Train Accuracy:  0.9978363636363636\n",
      "\n",
      "Test Accuracy:  0.9819\n",
      "\n",
      "Test Confusion Matrix:\n",
      "[[ 972    1    1    1    0    0    1    2    1    1]\n",
      " [   0 1127    3    0    0    0    2    1    2    0]\n",
      " [   1    0 1020    1    2    0    0    4    4    0]\n",
      " [   1    0    8  991    0    2    0    4    2    2]\n",
      " [   0    0    6    0  969    0    2    2    1    2]\n",
      " [   2    0    0   12    1  869    3    1    3    1]\n",
      " [   4    3    2    1    2    2  943    0    1    0]\n",
      " [   1    2    6    0    0    0    0 1018    1    0]\n",
      " [   4    0    4    4    3    1    3    6  949    0]\n",
      " [   2    3    0    8   11    0    1   18    5  961]]\n",
      "\n",
      "Classification Report:\n",
      "              precision    recall  f1-score   support\n",
      "\n",
      "           0       0.98      0.99      0.99       980\n",
      "           1       0.99      0.99      0.99      1135\n",
      "           2       0.97      0.99      0.98      1032\n",
      "           3       0.97      0.98      0.98      1010\n",
      "           4       0.98      0.99      0.98       982\n",
      "           5       0.99      0.97      0.98       892\n",
      "           6       0.99      0.98      0.99       958\n",
      "           7       0.96      0.99      0.98      1028\n",
      "           8       0.98      0.97      0.98       974\n",
      "           9       0.99      0.95      0.97      1009\n",
      "\n",
      "    accuracy                           0.98     10000\n",
      "   macro avg       0.98      0.98      0.98     10000\n",
      "weighted avg       0.98      0.98      0.98     10000\n",
      "\n"
     ]
    }
   ],
   "source": [
    "numOfEpochs = len(history.history['loss'])\n",
    "print(\"Epochs: \", numOfEpochs)\n",
    "\n",
    "print(\"\\nTest Data: Loss & Accuracy: \", model.evaluate(X_test, y_test, verbose=0))\n",
    "\n",
    "# model.predict() method return 10 probabilities per class for each instance (Dimension Nx10)\n",
    "y_test_predicted = model.predict(X_test)\n",
    "y_test_predicted = np.argmax(y_test_predicted, axis=1) # get the label/index of the highest probability class\n",
    "\n",
    "\n",
    "y_train_predicted = model.predict(X_train)\n",
    "y_train_predicted = np.argmax(y_train_predicted, axis=1) # get the label/index of the highest probability class\n",
    "\n",
    "train_accuracy = np.mean(y_train_predicted == y_train)\n",
    "print(\"\\nTrain Accuracy: \", train_accuracy)\n",
    "\n",
    "test_accuracy = np.mean(y_test_predicted == y_test)\n",
    "print(\"\\nTest Accuracy: \", test_accuracy)\n",
    "\n",
    "print(\"\\nTest Confusion Matrix:\")\n",
    "print(confusion_matrix(y_test, y_test_predicted))\n",
    "\n",
    "print(\"\\nClassification Report:\")\n",
    "print(classification_report(y_test, y_test_predicted))"
   ]
  },
  {
   "cell_type": "markdown",
   "metadata": {},
   "source": [
    "### Plot Learning Curve"
   ]
  },
  {
   "cell_type": "code",
   "execution_count": 32,
   "metadata": {},
   "outputs": [
    {
     "data": {
      "image/png": "[encoded data removed]",
      "text/plain": [
       "<Figure size 1296x432 with 2 Axes>"
      ]
     },
     "metadata": {
      "needs_background": "light"
     },
     "output_type": "display_data"
    }
   ],
   "source": [
    "plt.figure(figsize=(18,6))\n",
    "\n",
    "plt.subplot(121)\n",
    "plt.plot(range(1,numOfEpochs+1),history.history['val_accuracy'],label='validation')\n",
    "plt.plot(range(1,numOfEpochs+1),history.history['accuracy'],label='training')\n",
    "plt.legend(loc=0)\n",
    "plt.xlabel('Epochs')\n",
    "plt.ylabel('Accuracy')\n",
    "plt.xlim([1,numOfEpochs])\n",
    "plt.grid(True)\n",
    "plt.title(\"Model Accuracy\")\n",
    "\n",
    "plt.subplot(122)\n",
    "plt.plot(range(1,numOfEpochs+1),history.history['val_loss'],label='validation')\n",
    "plt.plot(range(1,numOfEpochs+1),history.history['loss'],label='training')\n",
    "plt.legend(loc=0)\n",
    "plt.xlabel('Epochs')\n",
    "plt.ylabel('Loss')\n",
    "plt.xlim([1,numOfEpochs])\n",
    "plt.grid(True)\n",
    "plt.title(\"Model Loss\")\n",
    "\n",
    "plt.show()"
   ]
  },
  {
   "cell_type": "markdown",
   "metadata": {},
   "source": [
    "## Experiment 7\n",
    "\n",
    "### Build the MLP Model: kernel_initializer = random_normal, activation = relu, Hidden layer 1: rate=0.5, Hidden layer 2: rate=0.1"
   ]
  },
  {
   "cell_type": "code",
   "execution_count": 33,
   "metadata": {},
   "outputs": [
    {
     "name": "stdout",
     "output_type": "stream",
     "text": [
      "Model: \"MLP_Multiclass_Classifier\"\n",
      "_________________________________________________________________\n",
      "Layer (type)                 Output Shape              Param #   \n",
      "=================================================================\n",
      "flatten (Flatten)            (None, 784)               0         \n",
      "_________________________________________________________________\n",
      "dense (Dense)                (None, 300)               235500    \n",
      "_________________________________________________________________\n",
      "dropout (Dropout)            (None, 300)               0         \n",
      "_________________________________________________________________\n",
      "dense_1 (Dense)              (None, 100)               30100     \n",
      "_________________________________________________________________\n",
      "dropout_1 (Dropout)          (None, 100)               0         \n",
      "_________________________________________________________________\n",
      "dense_2 (Dense)              (None, 10)                1010      \n",
      "=================================================================\n",
      "Total params: 266,610\n",
      "Trainable params: 266,610\n",
      "Non-trainable params: 0\n",
      "_________________________________________________________________\n",
      "Wall time: 38.9 ms\n"
     ]
    }
   ],
   "source": [
    "%%time\n",
    "\n",
    "'''\n",
    "Delete the TensorFlow graph before creating a new model, otherwise memory overflow will occur.\n",
    "'''\n",
    "keras.backend.clear_session()\n",
    "\n",
    "'''\n",
    "To reproduce the same result by the model in each iteration, we use fixed seeds for random number generation. \n",
    "'''\n",
    "np.random.seed(42)\n",
    "tf.random.set_seed(42)\n",
    "\n",
    "\n",
    "'''\n",
    "Set the values for weight initializer and activation function\n",
    "'''\n",
    "kernel_initializer = 'random_normal'\n",
    "activation = 'relu'\n",
    "number_of_classes = 10\n",
    "\n",
    "\n",
    "'''\n",
    "Create a Sequential model composed of a single stack of layers connected sequentially. \n",
    "- Add the layers one by one.\n",
    "- Apply Dropout regularization\n",
    "'''\n",
    "model = keras.models.Sequential(name=\"MLP_Multiclass_Classifier\")\n",
    "model.add(keras.layers.Flatten(input_shape=[28, 28]))\n",
    "model.add(keras.layers.Dense(units=300, kernel_initializer=kernel_initializer, activation=activation, \n",
    "                             bias_initializer=\"zeros\"))\n",
    "model.add(keras.layers.Dropout(rate=0.5)) # add if needed\n",
    "model.add(keras.layers.Dense(units=100, kernel_initializer=kernel_initializer, activation=activation,\n",
    "                            bias_initializer=\"zeros\"))\n",
    "model.add(keras.layers.Dropout(rate=0.1)) # add if needed\n",
    "model.add(keras.layers.Dense(units=number_of_classes, kernel_initializer=kernel_initializer, \n",
    "                             activation=\"softmax\"))\n",
    "model.summary()"
   ]
  },
  {
   "cell_type": "markdown",
   "metadata": {},
   "source": [
    "### Train the MLP Model: SGD learning_rate = 0.1"
   ]
  },
  {
   "cell_type": "code",
   "execution_count": 34,
   "metadata": {
    "scrolled": false
   },
   "outputs": [
    {
     "name": "stdout",
     "output_type": "stream",
     "text": [
      "Epoch 1/50\n",
      "860/860 [==============================] - 2s 2ms/step - loss: 0.9443 - accuracy: 0.7029 - val_loss: 0.2043 - val_accuracy: 0.9406\n",
      "Epoch 2/50\n",
      "860/860 [==============================] - 1s 2ms/step - loss: 0.2704 - accuracy: 0.9166 - val_loss: 0.1451 - val_accuracy: 0.9606\n",
      "Epoch 3/50\n",
      "860/860 [==============================] - 1s 2ms/step - loss: 0.2022 - accuracy: 0.9384 - val_loss: 0.1127 - val_accuracy: 0.9674\n",
      "Epoch 4/50\n",
      "860/860 [==============================] - 1s 2ms/step - loss: 0.1642 - accuracy: 0.9503 - val_loss: 0.0995 - val_accuracy: 0.9710\n",
      "Epoch 5/50\n",
      "860/860 [==============================] - 1s 2ms/step - loss: 0.1443 - accuracy: 0.9551 - val_loss: 0.0919 - val_accuracy: 0.9726\n",
      "Epoch 6/50\n",
      "860/860 [==============================] - 1s 2ms/step - loss: 0.1288 - accuracy: 0.9593 - val_loss: 0.0855 - val_accuracy: 0.9756\n",
      "Epoch 7/50\n",
      "860/860 [==============================] - 1s 2ms/step - loss: 0.1160 - accuracy: 0.9647 - val_loss: 0.0806 - val_accuracy: 0.9758\n",
      "Epoch 8/50\n",
      "860/860 [==============================] - 2s 2ms/step - loss: 0.1080 - accuracy: 0.9659 - val_loss: 0.0740 - val_accuracy: 0.9774\n",
      "Epoch 9/50\n",
      "860/860 [==============================] - 1s 2ms/step - loss: 0.1035 - accuracy: 0.9680 - val_loss: 0.0730 - val_accuracy: 0.9786\n",
      "Epoch 10/50\n",
      "860/860 [==============================] - 1s 2ms/step - loss: 0.0928 - accuracy: 0.9706 - val_loss: 0.0677 - val_accuracy: 0.9804\n",
      "Epoch 11/50\n",
      "860/860 [==============================] - 1s 2ms/step - loss: 0.0886 - accuracy: 0.9714 - val_loss: 0.0721 - val_accuracy: 0.9796\n",
      "Epoch 12/50\n",
      "860/860 [==============================] - 1s 2ms/step - loss: 0.0845 - accuracy: 0.9734 - val_loss: 0.0718 - val_accuracy: 0.9792\n",
      "Epoch 13/50\n",
      "860/860 [==============================] - 2s 2ms/step - loss: 0.0791 - accuracy: 0.9752 - val_loss: 0.0689 - val_accuracy: 0.9808\n",
      "Epoch 14/50\n",
      "860/860 [==============================] - 2s 2ms/step - loss: 0.0767 - accuracy: 0.9759 - val_loss: 0.0674 - val_accuracy: 0.9818\n",
      "Epoch 15/50\n",
      "860/860 [==============================] - 2s 2ms/step - loss: 0.0708 - accuracy: 0.9773 - val_loss: 0.0650 - val_accuracy: 0.9802\n",
      "Epoch 16/50\n",
      "860/860 [==============================] - 1s 2ms/step - loss: 0.0688 - accuracy: 0.9787 - val_loss: 0.0642 - val_accuracy: 0.9824\n",
      "Epoch 17/50\n",
      "860/860 [==============================] - 1s 2ms/step - loss: 0.0673 - accuracy: 0.9779 - val_loss: 0.0643 - val_accuracy: 0.9824\n",
      "Epoch 18/50\n",
      "860/860 [==============================] - 1s 2ms/step - loss: 0.0613 - accuracy: 0.9795 - val_loss: 0.0618 - val_accuracy: 0.9830\n",
      "Epoch 19/50\n",
      "860/860 [==============================] - 1s 2ms/step - loss: 0.0617 - accuracy: 0.9799 - val_loss: 0.0624 - val_accuracy: 0.9830\n",
      "Epoch 20/50\n",
      "860/860 [==============================] - 2s 2ms/step - loss: 0.0564 - accuracy: 0.9809 - val_loss: 0.0632 - val_accuracy: 0.9828\n",
      "Epoch 21/50\n",
      "860/860 [==============================] - 1s 2ms/step - loss: 0.0589 - accuracy: 0.9798 - val_loss: 0.0610 - val_accuracy: 0.9828\n",
      "Epoch 22/50\n",
      "860/860 [==============================] - 1s 2ms/step - loss: 0.0577 - accuracy: 0.9810 - val_loss: 0.0614 - val_accuracy: 0.9830\n",
      "Epoch 23/50\n",
      "860/860 [==============================] - 1s 2ms/step - loss: 0.0569 - accuracy: 0.9815 - val_loss: 0.0631 - val_accuracy: 0.9822\n",
      "Epoch 24/50\n",
      "860/860 [==============================] - 1s 2ms/step - loss: 0.0545 - accuracy: 0.9822 - val_loss: 0.0636 - val_accuracy: 0.9834\n",
      "Epoch 25/50\n",
      "860/860 [==============================] - 1s 2ms/step - loss: 0.0526 - accuracy: 0.9821 - val_loss: 0.0588 - val_accuracy: 0.9826\n",
      "Epoch 26/50\n",
      "860/860 [==============================] - 1s 2ms/step - loss: 0.0502 - accuracy: 0.9833 - val_loss: 0.0612 - val_accuracy: 0.9834\n",
      "Epoch 27/50\n",
      "860/860 [==============================] - 1s 2ms/step - loss: 0.0491 - accuracy: 0.9837 - val_loss: 0.0613 - val_accuracy: 0.9840\n",
      "Epoch 28/50\n",
      "860/860 [==============================] - 1s 2ms/step - loss: 0.0469 - accuracy: 0.9841 - val_loss: 0.0636 - val_accuracy: 0.9836\n",
      "Epoch 29/50\n",
      "860/860 [==============================] - 1s 2ms/step - loss: 0.0439 - accuracy: 0.9854 - val_loss: 0.0608 - val_accuracy: 0.9830\n",
      "Epoch 30/50\n",
      "860/860 [==============================] - 1s 2ms/step - loss: 0.0437 - accuracy: 0.9848 - val_loss: 0.0614 - val_accuracy: 0.9840\n",
      "Epoch 31/50\n",
      "860/860 [==============================] - 1s 2ms/step - loss: 0.0388 - accuracy: 0.9868 - val_loss: 0.0603 - val_accuracy: 0.9834\n",
      "Epoch 32/50\n",
      "860/860 [==============================] - 2s 2ms/step - loss: 0.0436 - accuracy: 0.9856 - val_loss: 0.0627 - val_accuracy: 0.9832\n",
      "Epoch 33/50\n",
      "860/860 [==============================] - 1s 2ms/step - loss: 0.0426 - accuracy: 0.9857 - val_loss: 0.0617 - val_accuracy: 0.9836\n",
      "Epoch 34/50\n",
      "860/860 [==============================] - 1s 2ms/step - loss: 0.0398 - accuracy: 0.9867 - val_loss: 0.0631 - val_accuracy: 0.9832\n",
      "Epoch 35/50\n",
      "860/860 [==============================] - 1s 2ms/step - loss: 0.0391 - accuracy: 0.9869 - val_loss: 0.0593 - val_accuracy: 0.9844\n",
      "Epoch 00035: early stopping\n"
     ]
    }
   ],
   "source": [
    "'''\n",
    "Define the optimizer\n",
    "'''\n",
    "optimizer = keras.optimizers.SGD(learning_rate=0.1)\n",
    "\n",
    "\n",
    "'''\n",
    "Compile the model\n",
    "'''\n",
    "model.compile(loss=\"sparse_categorical_crossentropy\",\n",
    "              optimizer=optimizer,\n",
    "              metrics=[\"accuracy\"])\n",
    "\n",
    "\n",
    "\n",
    "'''\n",
    "Create the early stopping callback function.\n",
    "'''\n",
    "early_stopping_cb = keras.callbacks.EarlyStopping(monitor='val_loss',\n",
    "                                  min_delta=0, \n",
    "                                  patience=10, \n",
    "                                  verbose=1, \n",
    "                                  mode='auto',\n",
    "                                  restore_best_weights=False)\n",
    "\n",
    "'''\n",
    "Set the epochs and mini batch size\n",
    "'''\n",
    "no_of_epochs = 50\n",
    "size_of_mini_batch = 64\n",
    "\n",
    "\n",
    "'''\n",
    "Train the model\n",
    "'''\n",
    "history = model.fit(X_train, y_train, \n",
    "                    batch_size=size_of_mini_batch, \n",
    "                    epochs=no_of_epochs,\n",
    "                    verbose=1,\n",
    "                    validation_data=(X_valid, y_valid),\n",
    "                    callbacks=[early_stopping_cb])"
   ]
  },
  {
   "cell_type": "markdown",
   "metadata": {},
   "source": [
    "### History Object"
   ]
  },
  {
   "cell_type": "code",
   "execution_count": 35,
   "metadata": {},
   "outputs": [
    {
     "name": "stdout",
     "output_type": "stream",
     "text": [
      "Training Parameters:  {'verbose': 1, 'epochs': 50, 'steps': 860}\n",
      "\n",
      "List of Epochs:  [0, 1, 2, 3, 4, 5, 6, 7, 8, 9, 10, 11, 12, 13, 14, 15, 16, 17, 18, 19, 20, 21, 22, 23, 24, 25, 26, 27, 28, 29, 30, 31, 32, 33, 34]\n",
      "\n",
      "Evaluation Metrics:  dict_keys(['loss', 'accuracy', 'val_loss', 'val_accuracy'])\n"
     ]
    }
   ],
   "source": [
    "print(\"Training Parameters: \", history.params)\n",
    "print(\"\\nList of Epochs: \", history.epoch)\n",
    "print(\"\\nEvaluation Metrics: \", history.history.keys())"
   ]
  },
  {
   "cell_type": "markdown",
   "metadata": {},
   "source": [
    "### Evaluate the Model"
   ]
  },
  {
   "cell_type": "code",
   "execution_count": 36,
   "metadata": {},
   "outputs": [
    {
     "name": "stdout",
     "output_type": "stream",
     "text": [
      "Epochs:  35\n",
      "\n",
      "Test Data: Loss & Accuracy:  [0.05755094066262245, 0.983299970626831]\n",
      "\n",
      "Train Accuracy:  0.9980909090909091\n",
      "\n",
      "Test Accuracy:  0.9833\n",
      "\n",
      "Test Confusion Matrix:\n",
      "[[ 973    0    0    0    0    3    1    1    2    0]\n",
      " [   0 1124    3    1    0    1    3    1    2    0]\n",
      " [   3    0 1014    4    2    0    1    5    3    0]\n",
      " [   1    0    3  997    0    1    0    4    3    1]\n",
      " [   2    0    1    0  960    0    4    4    0   11]\n",
      " [   2    0    0    7    0  875    3    0    4    1]\n",
      " [   6    2    0    1    2    4  941    0    2    0]\n",
      " [   2    4    7    0    0    0    0 1012    1    2]\n",
      " [   6    0    1    3    3    1    0    3  953    4]\n",
      " [   4    2    0    3    8    3    0    5    0  984]]\n",
      "\n",
      "Classification Report:\n",
      "              precision    recall  f1-score   support\n",
      "\n",
      "           0       0.97      0.99      0.98       980\n",
      "           1       0.99      0.99      0.99      1135\n",
      "           2       0.99      0.98      0.98      1032\n",
      "           3       0.98      0.99      0.98      1010\n",
      "           4       0.98      0.98      0.98       982\n",
      "           5       0.99      0.98      0.98       892\n",
      "           6       0.99      0.98      0.98       958\n",
      "           7       0.98      0.98      0.98      1028\n",
      "           8       0.98      0.98      0.98       974\n",
      "           9       0.98      0.98      0.98      1009\n",
      "\n",
      "    accuracy                           0.98     10000\n",
      "   macro avg       0.98      0.98      0.98     10000\n",
      "weighted avg       0.98      0.98      0.98     10000\n",
      "\n"
     ]
    }
   ],
   "source": [
    "numOfEpochs = len(history.history['loss'])\n",
    "print(\"Epochs: \", numOfEpochs)\n",
    "\n",
    "print(\"\\nTest Data: Loss & Accuracy: \", model.evaluate(X_test, y_test, verbose=0))\n",
    "\n",
    "# model.predict() method return 10 probabilities per class for each instance (Dimension Nx10)\n",
    "y_test_predicted = model.predict(X_test)\n",
    "y_test_predicted = np.argmax(y_test_predicted, axis=1) # get the label/index of the highest probability class\n",
    "\n",
    "\n",
    "y_train_predicted = model.predict(X_train)\n",
    "y_train_predicted = np.argmax(y_train_predicted, axis=1) # get the label/index of the highest probability class\n",
    "\n",
    "train_accuracy = np.mean(y_train_predicted == y_train)\n",
    "print(\"\\nTrain Accuracy: \", train_accuracy)\n",
    "\n",
    "test_accuracy = np.mean(y_test_predicted == y_test)\n",
    "print(\"\\nTest Accuracy: \", test_accuracy)\n",
    "\n",
    "print(\"\\nTest Confusion Matrix:\")\n",
    "print(confusion_matrix(y_test, y_test_predicted))\n",
    "\n",
    "print(\"\\nClassification Report:\")\n",
    "print(classification_report(y_test, y_test_predicted))"
   ]
  },
  {
   "cell_type": "markdown",
   "metadata": {},
   "source": [
    "### Plot Learning Curve"
   ]
  },
  {
   "cell_type": "code",
   "execution_count": 37,
   "metadata": {},
   "outputs": [
    {
     "data": {
      "image/png": "[encoded data removed]",
      "text/plain": [
       "<Figure size 1296x432 with 2 Axes>"
      ]
     },
     "metadata": {
      "needs_background": "light"
     },
     "output_type": "display_data"
    }
   ],
   "source": [
    "plt.figure(figsize=(18,6))\n",
    "\n",
    "plt.subplot(121)\n",
    "plt.plot(range(1,numOfEpochs+1),history.history['val_accuracy'],label='validation')\n",
    "plt.plot(range(1,numOfEpochs+1),history.history['accuracy'],label='training')\n",
    "plt.legend(loc=0)\n",
    "plt.xlabel('Epochs')\n",
    "plt.ylabel('Accuracy')\n",
    "plt.xlim([1,numOfEpochs])\n",
    "plt.grid(True)\n",
    "plt.title(\"Model Accuracy\")\n",
    "\n",
    "plt.subplot(122)\n",
    "plt.plot(range(1,numOfEpochs+1),history.history['val_loss'],label='validation')\n",
    "plt.plot(range(1,numOfEpochs+1),history.history['loss'],label='training')\n",
    "plt.legend(loc=0)\n",
    "plt.xlabel('Epochs')\n",
    "plt.ylabel('Loss')\n",
    "plt.xlim([1,numOfEpochs])\n",
    "plt.grid(True)\n",
    "plt.title(\"Model Loss\")\n",
    "\n",
    "plt.show()"
   ]
  },
  {
   "cell_type": "markdown",
   "metadata": {},
   "source": [
    "## Experiment 8\n",
    "\n",
    "### Build the MLP Model: kernel_initializer = random_normal, activation = relu, Hidden layer 1: rate=0.5, Hidden layer 2: rate=0.1 "
   ]
  },
  {
   "cell_type": "code",
   "execution_count": 38,
   "metadata": {},
   "outputs": [
    {
     "name": "stdout",
     "output_type": "stream",
     "text": [
      "Model: \"MLP_Multiclass_Classifier\"\n",
      "_________________________________________________________________\n",
      "Layer (type)                 Output Shape              Param #   \n",
      "=================================================================\n",
      "flatten (Flatten)            (None, 784)               0         \n",
      "_________________________________________________________________\n",
      "dense (Dense)                (None, 300)               235500    \n",
      "_________________________________________________________________\n",
      "dropout (Dropout)            (None, 300)               0         \n",
      "_________________________________________________________________\n",
      "dense_1 (Dense)              (None, 100)               30100     \n",
      "_________________________________________________________________\n",
      "dropout_1 (Dropout)          (None, 100)               0         \n",
      "_________________________________________________________________\n",
      "dense_2 (Dense)              (None, 10)                1010      \n",
      "=================================================================\n",
      "Total params: 266,610\n",
      "Trainable params: 266,610\n",
      "Non-trainable params: 0\n",
      "_________________________________________________________________\n",
      "Wall time: 32 ms\n"
     ]
    }
   ],
   "source": [
    "%%time\n",
    "\n",
    "'''\n",
    "Delete the TensorFlow graph before creating a new model, otherwise memory overflow will occur.\n",
    "'''\n",
    "keras.backend.clear_session()\n",
    "\n",
    "'''\n",
    "To reproduce the same result by the model in each iteration, we use fixed seeds for random number generation. \n",
    "'''\n",
    "np.random.seed(42)\n",
    "tf.random.set_seed(42)\n",
    "\n",
    "\n",
    "'''\n",
    "Set the values for weight initializer and activation function\n",
    "'''\n",
    "kernel_initializer = 'random_normal'\n",
    "activation = 'relu'\n",
    "number_of_classes = 10\n",
    "\n",
    "\n",
    "'''\n",
    "Create a Sequential model composed of a single stack of layers connected sequentially. \n",
    "- Add the layers one by one.\n",
    "- Apply Dropout regularization\n",
    "'''\n",
    "model = keras.models.Sequential(name=\"MLP_Multiclass_Classifier\")\n",
    "model.add(keras.layers.Flatten(input_shape=[28, 28]))\n",
    "model.add(keras.layers.Dense(units=300, kernel_initializer=kernel_initializer, activation=activation, \n",
    "                             bias_initializer=\"zeros\"))\n",
    "model.add(keras.layers.Dropout(rate=0.5)) # add if needed\n",
    "model.add(keras.layers.Dense(units=100, kernel_initializer=kernel_initializer, activation=activation,\n",
    "                            bias_initializer=\"zeros\"))\n",
    "model.add(keras.layers.Dropout(rate=0.1)) # add if needed\n",
    "model.add(keras.layers.Dense(units=number_of_classes, kernel_initializer=kernel_initializer, \n",
    "                             activation=\"softmax\"))\n",
    "model.summary()"
   ]
  },
  {
   "cell_type": "markdown",
   "metadata": {},
   "source": [
    "### Train the MLP Model: SGD learning_rate = 0.5"
   ]
  },
  {
   "cell_type": "code",
   "execution_count": 39,
   "metadata": {
    "scrolled": false
   },
   "outputs": [
    {
     "name": "stdout",
     "output_type": "stream",
     "text": [
      "Epoch 1/50\n",
      "860/860 [==============================] - 2s 2ms/step - loss: 0.6664 - accuracy: 0.7824 - val_loss: 0.1416 - val_accuracy: 0.9586\n",
      "Epoch 2/50\n",
      "860/860 [==============================] - 2s 2ms/step - loss: 0.2137 - accuracy: 0.9352 - val_loss: 0.2756 - val_accuracy: 0.9252\n",
      "Epoch 3/50\n",
      "860/860 [==============================] - 1s 2ms/step - loss: 0.1766 - accuracy: 0.9464 - val_loss: 0.0857 - val_accuracy: 0.9736\n",
      "Epoch 4/50\n",
      "860/860 [==============================] - 1s 2ms/step - loss: 0.1486 - accuracy: 0.9546 - val_loss: 0.1259 - val_accuracy: 0.9586\n",
      "Epoch 5/50\n",
      "860/860 [==============================] - 2s 2ms/step - loss: 0.1340 - accuracy: 0.9589 - val_loss: 0.0824 - val_accuracy: 0.9752\n",
      "Epoch 6/50\n",
      "860/860 [==============================] - 1s 2ms/step - loss: 0.1272 - accuracy: 0.9618 - val_loss: 0.0807 - val_accuracy: 0.9788\n",
      "Epoch 7/50\n",
      "860/860 [==============================] - 1s 2ms/step - loss: 0.1158 - accuracy: 0.9653 - val_loss: 0.0874 - val_accuracy: 0.9768\n",
      "Epoch 8/50\n",
      "860/860 [==============================] - 2s 2ms/step - loss: 0.1071 - accuracy: 0.9675 - val_loss: 0.0778 - val_accuracy: 0.9766\n",
      "Epoch 9/50\n",
      "860/860 [==============================] - 2s 2ms/step - loss: 0.1054 - accuracy: 0.9666 - val_loss: 0.1203 - val_accuracy: 0.9662\n",
      "Epoch 10/50\n",
      "860/860 [==============================] - 2s 2ms/step - loss: 0.1028 - accuracy: 0.9682 - val_loss: 0.0726 - val_accuracy: 0.9782\n",
      "Epoch 11/50\n",
      "860/860 [==============================] - 2s 2ms/step - loss: 0.0935 - accuracy: 0.9704 - val_loss: 0.0749 - val_accuracy: 0.9782\n",
      "Epoch 12/50\n",
      "860/860 [==============================] - 2s 2ms/step - loss: 0.0857 - accuracy: 0.9726 - val_loss: 0.1224 - val_accuracy: 0.9678\n",
      "Epoch 13/50\n",
      "860/860 [==============================] - 2s 2ms/step - loss: 0.0887 - accuracy: 0.9712 - val_loss: 0.0674 - val_accuracy: 0.9792\n",
      "Epoch 14/50\n",
      "860/860 [==============================] - 2s 2ms/step - loss: 0.0843 - accuracy: 0.9739 - val_loss: 0.0683 - val_accuracy: 0.9812\n",
      "Epoch 15/50\n",
      "860/860 [==============================] - 2s 2ms/step - loss: 0.0817 - accuracy: 0.9748 - val_loss: 0.0598 - val_accuracy: 0.9830\n",
      "Epoch 16/50\n",
      "860/860 [==============================] - 2s 2ms/step - loss: 0.0747 - accuracy: 0.9760 - val_loss: 0.0641 - val_accuracy: 0.9818\n",
      "Epoch 17/50\n",
      "860/860 [==============================] - 1s 2ms/step - loss: 0.0779 - accuracy: 0.9759 - val_loss: 0.0705 - val_accuracy: 0.9820\n",
      "Epoch 18/50\n",
      "860/860 [==============================] - 1s 2ms/step - loss: 0.0761 - accuracy: 0.9771 - val_loss: 0.0672 - val_accuracy: 0.9826\n",
      "Epoch 19/50\n",
      "860/860 [==============================] - 1s 2ms/step - loss: 0.0751 - accuracy: 0.9770 - val_loss: 0.0632 - val_accuracy: 0.9834\n",
      "Epoch 20/50\n",
      "860/860 [==============================] - 1s 2ms/step - loss: 0.0727 - accuracy: 0.9778 - val_loss: 0.0693 - val_accuracy: 0.9826\n",
      "Epoch 21/50\n",
      "860/860 [==============================] - 1s 2ms/step - loss: 0.0688 - accuracy: 0.9784 - val_loss: 0.0648 - val_accuracy: 0.9820\n",
      "Epoch 22/50\n",
      "860/860 [==============================] - 2s 2ms/step - loss: 0.0682 - accuracy: 0.9787 - val_loss: 0.0716 - val_accuracy: 0.9796\n",
      "Epoch 23/50\n",
      "860/860 [==============================] - 2s 2ms/step - loss: 0.0694 - accuracy: 0.9779 - val_loss: 0.0807 - val_accuracy: 0.9784\n",
      "Epoch 24/50\n",
      "860/860 [==============================] - 1s 2ms/step - loss: 0.0674 - accuracy: 0.9789 - val_loss: 0.0679 - val_accuracy: 0.9830\n",
      "Epoch 25/50\n",
      "860/860 [==============================] - 1s 2ms/step - loss: 0.0640 - accuracy: 0.9798 - val_loss: 0.0661 - val_accuracy: 0.9832\n",
      "Epoch 00025: early stopping\n"
     ]
    }
   ],
   "source": [
    "'''\n",
    "Define the optimizer\n",
    "'''\n",
    "optimizer = keras.optimizers.SGD(learning_rate=0.5)\n",
    "\n",
    "\n",
    "'''\n",
    "Compile the model\n",
    "'''\n",
    "model.compile(loss=\"sparse_categorical_crossentropy\",\n",
    "              optimizer=optimizer,\n",
    "              metrics=[\"accuracy\"])\n",
    "\n",
    "\n",
    "\n",
    "'''\n",
    "Create the early stopping callback function.\n",
    "'''\n",
    "early_stopping_cb = keras.callbacks.EarlyStopping(monitor='val_loss',\n",
    "                                  min_delta=0, \n",
    "                                  patience=10, \n",
    "                                  verbose=1, \n",
    "                                  mode='auto',\n",
    "                                  restore_best_weights=False)\n",
    "\n",
    "'''\n",
    "Set the epochs and mini batch size\n",
    "'''\n",
    "no_of_epochs = 50\n",
    "size_of_mini_batch = 64\n",
    "\n",
    "\n",
    "'''\n",
    "Train the model\n",
    "'''\n",
    "history = model.fit(X_train, y_train, \n",
    "                    batch_size=size_of_mini_batch, \n",
    "                    epochs=no_of_epochs,\n",
    "                    verbose=1,\n",
    "                    validation_data=(X_valid, y_valid),\n",
    "                    callbacks=[early_stopping_cb])"
   ]
  },
  {
   "cell_type": "markdown",
   "metadata": {},
   "source": [
    "### History Object"
   ]
  },
  {
   "cell_type": "code",
   "execution_count": 40,
   "metadata": {
    "scrolled": true
   },
   "outputs": [
    {
     "name": "stdout",
     "output_type": "stream",
     "text": [
      "Training Parameters:  {'verbose': 1, 'epochs': 50, 'steps': 860}\n",
      "\n",
      "List of Epochs:  [0, 1, 2, 3, 4, 5, 6, 7, 8, 9, 10, 11, 12, 13, 14, 15, 16, 17, 18, 19, 20, 21, 22, 23, 24]\n",
      "\n",
      "Evaluation Metrics:  dict_keys(['loss', 'accuracy', 'val_loss', 'val_accuracy'])\n"
     ]
    }
   ],
   "source": [
    "print(\"Training Parameters: \", history.params)\n",
    "print(\"\\nList of Epochs: \", history.epoch)\n",
    "print(\"\\nEvaluation Metrics: \", history.history.keys())"
   ]
  },
  {
   "cell_type": "markdown",
   "metadata": {},
   "source": [
    "### Evaluate the Model"
   ]
  },
  {
   "cell_type": "code",
   "execution_count": 41,
   "metadata": {},
   "outputs": [
    {
     "name": "stdout",
     "output_type": "stream",
     "text": [
      "Epochs:  25\n",
      "\n",
      "Test Data: Loss & Accuracy:  [0.06553743034601212, 0.9811000227928162]\n",
      "\n",
      "Train Accuracy:  0.9945090909090909\n",
      "\n",
      "Test Accuracy:  0.9811\n",
      "\n",
      "Test Confusion Matrix:\n",
      "[[ 971    1    0    1    1    0    3    1    2    0]\n",
      " [   0 1128    1    0    0    1    2    1    2    0]\n",
      " [   1    1 1015    0    4    0    2    4    4    1]\n",
      " [   0    0    9  982    0    4    0    4    7    4]\n",
      " [   0    1    1    0  961    0    6    1    1   11]\n",
      " [   2    0    0    7    1  872    2    1    5    2]\n",
      " [   3    3    0    1    3    8  937    0    3    0]\n",
      " [   1    5    6    1    1    0    0 1004    5    5]\n",
      " [   2    0    1    3    2    1    2    2  959    2]\n",
      " [   4    2    0    3    7    4    1    3    3  982]]\n",
      "\n",
      "Classification Report:\n",
      "              precision    recall  f1-score   support\n",
      "\n",
      "           0       0.99      0.99      0.99       980\n",
      "           1       0.99      0.99      0.99      1135\n",
      "           2       0.98      0.98      0.98      1032\n",
      "           3       0.98      0.97      0.98      1010\n",
      "           4       0.98      0.98      0.98       982\n",
      "           5       0.98      0.98      0.98       892\n",
      "           6       0.98      0.98      0.98       958\n",
      "           7       0.98      0.98      0.98      1028\n",
      "           8       0.97      0.98      0.98       974\n",
      "           9       0.98      0.97      0.97      1009\n",
      "\n",
      "    accuracy                           0.98     10000\n",
      "   macro avg       0.98      0.98      0.98     10000\n",
      "weighted avg       0.98      0.98      0.98     10000\n",
      "\n"
     ]
    }
   ],
   "source": [
    "numOfEpochs = len(history.history['loss'])\n",
    "print(\"Epochs: \", numOfEpochs)\n",
    "\n",
    "print(\"\\nTest Data: Loss & Accuracy: \", model.evaluate(X_test, y_test, verbose=0))\n",
    "\n",
    "# model.predict() method return 10 probabilities per class for each instance (Dimension Nx10)\n",
    "y_test_predicted = model.predict(X_test)\n",
    "y_test_predicted = np.argmax(y_test_predicted, axis=1) # get the label/index of the highest probability class\n",
    "\n",
    "\n",
    "y_train_predicted = model.predict(X_train)\n",
    "y_train_predicted = np.argmax(y_train_predicted, axis=1) # get the label/index of the highest probability class\n",
    "\n",
    "train_accuracy = np.mean(y_train_predicted == y_train)\n",
    "print(\"\\nTrain Accuracy: \", train_accuracy)\n",
    "\n",
    "test_accuracy = np.mean(y_test_predicted == y_test)\n",
    "print(\"\\nTest Accuracy: \", test_accuracy)\n",
    "\n",
    "print(\"\\nTest Confusion Matrix:\")\n",
    "print(confusion_matrix(y_test, y_test_predicted))\n",
    "\n",
    "print(\"\\nClassification Report:\")\n",
    "print(classification_report(y_test, y_test_predicted))"
   ]
  },
  {
   "cell_type": "markdown",
   "metadata": {},
   "source": [
    "### Plot Learning Curve"
   ]
  },
  {
   "cell_type": "code",
   "execution_count": 42,
   "metadata": {},
   "outputs": [
    {
     "data": {
      "image/png": "[encoded data removed]",
      "text/plain": [
       "<Figure size 1296x432 with 2 Axes>"
      ]
     },
     "metadata": {
      "needs_background": "light"
     },
     "output_type": "display_data"
    }
   ],
   "source": [
    "plt.figure(figsize=(18,6))\n",
    "\n",
    "plt.subplot(121)\n",
    "plt.plot(range(1,numOfEpochs+1),history.history['val_accuracy'],label='validation')\n",
    "plt.plot(range(1,numOfEpochs+1),history.history['accuracy'],label='training')\n",
    "plt.legend(loc=0)\n",
    "plt.xlabel('Epochs')\n",
    "plt.ylabel('Accuracy')\n",
    "plt.xlim([1,numOfEpochs])\n",
    "plt.grid(True)\n",
    "plt.title(\"Model Accuracy\")\n",
    "\n",
    "plt.subplot(122)\n",
    "plt.plot(range(1,numOfEpochs+1),history.history['val_loss'],label='validation')\n",
    "plt.plot(range(1,numOfEpochs+1),history.history['loss'],label='training')\n",
    "plt.legend(loc=0)\n",
    "plt.xlabel('Epochs')\n",
    "plt.ylabel('Loss')\n",
    "plt.xlim([1,numOfEpochs])\n",
    "plt.grid(True)\n",
    "plt.title(\"Model Loss\")\n",
    "\n",
    "plt.show()"
   ]
  },
  {
   "cell_type": "markdown",
   "metadata": {},
   "source": [
    "## Experiment 9\n",
    "\n",
    "### Build the MLP Model: kernel_initializer = random_normal, activation = relu, 10 hidden layers each 100 neurons"
   ]
  },
  {
   "cell_type": "code",
   "execution_count": 43,
   "metadata": {},
   "outputs": [
    {
     "name": "stdout",
     "output_type": "stream",
     "text": [
      "Model: \"MLP_Multiclass_Classifier\"\n",
      "_________________________________________________________________\n",
      "Layer (type)                 Output Shape              Param #   \n",
      "=================================================================\n",
      "flatten (Flatten)            (None, 784)               0         \n",
      "_________________________________________________________________\n",
      "dense (Dense)                (None, 100)               78500     \n",
      "_________________________________________________________________\n",
      "dense_1 (Dense)              (None, 100)               10100     \n",
      "_________________________________________________________________\n",
      "dense_2 (Dense)              (None, 100)               10100     \n",
      "_________________________________________________________________\n",
      "dense_3 (Dense)              (None, 100)               10100     \n",
      "_________________________________________________________________\n",
      "dense_4 (Dense)              (None, 100)               10100     \n",
      "_________________________________________________________________\n",
      "dense_5 (Dense)              (None, 100)               10100     \n",
      "_________________________________________________________________\n",
      "dense_6 (Dense)              (None, 100)               10100     \n",
      "_________________________________________________________________\n",
      "dense_7 (Dense)              (None, 100)               10100     \n",
      "_________________________________________________________________\n",
      "dense_8 (Dense)              (None, 100)               10100     \n",
      "_________________________________________________________________\n",
      "dense_9 (Dense)              (None, 100)               10100     \n",
      "_________________________________________________________________\n",
      "dense_10 (Dense)             (None, 10)                1010      \n",
      "=================================================================\n",
      "Total params: 170,410\n",
      "Trainable params: 170,410\n",
      "Non-trainable params: 0\n",
      "_________________________________________________________________\n",
      "Wall time: 81.8 ms\n"
     ]
    }
   ],
   "source": [
    "%%time\n",
    "\n",
    "'''\n",
    "Delete the TensorFlow graph before creating a new model, otherwise memory overflow will occur.\n",
    "'''\n",
    "keras.backend.clear_session()\n",
    "\n",
    "'''\n",
    "To reproduce the same result by the model in each iteration, we use fixed seeds for random number generation. \n",
    "'''\n",
    "np.random.seed(42)\n",
    "tf.random.set_seed(42)\n",
    "\n",
    "\n",
    "'''\n",
    "Set the values for weight initializer and activation function\n",
    "'''\n",
    "kernel_initializer = 'random_normal'\n",
    "activation = 'relu'\n",
    "number_of_classes = 10\n",
    "\n",
    "\n",
    "'''\n",
    "Create a Sequential model composed of a single stack of layers connected sequentially. \n",
    "- Add the layers one by one.\n",
    "- Apply Dropout regularization\n",
    "'''\n",
    "model = keras.models.Sequential(name=\"MLP_Multiclass_Classifier\")\n",
    "model.add(keras.layers.Flatten(input_shape=[28, 28]))\n",
    "model.add(keras.layers.Dense(units=100, kernel_initializer=kernel_initializer, activation=activation, \n",
    "                             bias_initializer=\"zeros\"))\n",
    "model.add(keras.layers.Dense(units=100, kernel_initializer=kernel_initializer, activation=activation, \n",
    "                             bias_initializer=\"zeros\"))\n",
    "model.add(keras.layers.Dense(units=100, kernel_initializer=kernel_initializer, activation=activation, \n",
    "                             bias_initializer=\"zeros\"))\n",
    "model.add(keras.layers.Dense(units=100, kernel_initializer=kernel_initializer, activation=activation, \n",
    "                             bias_initializer=\"zeros\"))\n",
    "model.add(keras.layers.Dense(units=100, kernel_initializer=kernel_initializer, activation=activation, \n",
    "                             bias_initializer=\"zeros\"))\n",
    "model.add(keras.layers.Dense(units=100, kernel_initializer=kernel_initializer, activation=activation, \n",
    "                             bias_initializer=\"zeros\"))\n",
    "model.add(keras.layers.Dense(units=100, kernel_initializer=kernel_initializer, activation=activation, \n",
    "                             bias_initializer=\"zeros\"))\n",
    "model.add(keras.layers.Dense(units=100, kernel_initializer=kernel_initializer, activation=activation, \n",
    "                             bias_initializer=\"zeros\"))\n",
    "model.add(keras.layers.Dense(units=100, kernel_initializer=kernel_initializer, activation=activation, \n",
    "                             bias_initializer=\"zeros\"))\n",
    "model.add(keras.layers.Dense(units=100, kernel_initializer=kernel_initializer, activation=activation, \n",
    "                             bias_initializer=\"zeros\"))\n",
    "model.add(keras.layers.Dense(units=number_of_classes, kernel_initializer=kernel_initializer, \n",
    "                             activation=\"softmax\"))\n",
    "model.summary()"
   ]
  },
  {
   "cell_type": "markdown",
   "metadata": {},
   "source": [
    "### Train the MLP Model: SGD learning_rate = 0.1"
   ]
  },
  {
   "cell_type": "code",
   "execution_count": 44,
   "metadata": {},
   "outputs": [
    {
     "name": "stdout",
     "output_type": "stream",
     "text": [
      "Epoch 1/50\n",
      "860/860 [==============================] - 2s 2ms/step - loss: 2.3018 - accuracy: 0.1115 - val_loss: 2.3013 - val_accuracy: 0.1126\n",
      "Epoch 2/50\n",
      "860/860 [==============================] - 2s 2ms/step - loss: 2.3011 - accuracy: 0.1158 - val_loss: 2.3006 - val_accuracy: 0.1126\n",
      "Epoch 3/50\n",
      "860/860 [==============================] - 1s 2ms/step - loss: 2.3011 - accuracy: 0.1157 - val_loss: 2.3011 - val_accuracy: 0.1126\n",
      "Epoch 4/50\n",
      "860/860 [==============================] - 1s 2ms/step - loss: 2.3014 - accuracy: 0.1133 - val_loss: 2.3012 - val_accuracy: 0.1126\n",
      "Epoch 5/50\n",
      "860/860 [==============================] - 1s 1ms/step - loss: 2.3015 - accuracy: 0.1134 - val_loss: 2.3023 - val_accuracy: 0.1126\n",
      "Epoch 6/50\n",
      "860/860 [==============================] - 1s 2ms/step - loss: 2.3016 - accuracy: 0.1135 - val_loss: 2.3013 - val_accuracy: 0.1126\n",
      "Epoch 7/50\n",
      "860/860 [==============================] - 1s 2ms/step - loss: 2.3015 - accuracy: 0.1111 - val_loss: 2.3012 - val_accuracy: 0.1126\n",
      "Epoch 8/50\n",
      "860/860 [==============================] - 1s 2ms/step - loss: 2.3016 - accuracy: 0.1124 - val_loss: 2.3009 - val_accuracy: 0.1126\n",
      "Epoch 9/50\n",
      "860/860 [==============================] - 1s 2ms/step - loss: 2.3016 - accuracy: 0.1128 - val_loss: 2.3018 - val_accuracy: 0.1126\n",
      "Epoch 10/50\n",
      "860/860 [==============================] - 1s 2ms/step - loss: 2.3018 - accuracy: 0.1105 - val_loss: 2.3011 - val_accuracy: 0.1126\n",
      "Epoch 11/50\n",
      "860/860 [==============================] - 1s 2ms/step - loss: 2.3016 - accuracy: 0.1117 - val_loss: 2.3010 - val_accuracy: 0.1126\n",
      "Epoch 12/50\n",
      "860/860 [==============================] - 1s 2ms/step - loss: 2.3015 - accuracy: 0.1119 - val_loss: 2.3014 - val_accuracy: 0.1126\n",
      "Epoch 00012: early stopping\n"
     ]
    }
   ],
   "source": [
    "'''\n",
    "Define the optimizer\n",
    "'''\n",
    "optimizer = keras.optimizers.SGD(learning_rate=0.1)\n",
    "\n",
    "\n",
    "'''\n",
    "Compile the model\n",
    "'''\n",
    "model.compile(loss=\"sparse_categorical_crossentropy\",\n",
    "              optimizer=optimizer,\n",
    "              metrics=[\"accuracy\"])\n",
    "\n",
    "\n",
    "\n",
    "'''\n",
    "Create the early stopping callback function.\n",
    "'''\n",
    "early_stopping_cb = keras.callbacks.EarlyStopping(monitor='val_loss',\n",
    "                                  min_delta=0, \n",
    "                                  patience=10, \n",
    "                                  verbose=1, \n",
    "                                  mode='auto',\n",
    "                                  restore_best_weights=False)\n",
    "\n",
    "'''\n",
    "Set the epochs and mini batch size\n",
    "'''\n",
    "no_of_epochs = 50\n",
    "size_of_mini_batch = 64\n",
    "\n",
    "\n",
    "'''\n",
    "Train the model\n",
    "'''\n",
    "history = model.fit(X_train, y_train, \n",
    "                    batch_size=size_of_mini_batch, \n",
    "                    epochs=no_of_epochs,\n",
    "                    verbose=1,\n",
    "                    validation_data=(X_valid, y_valid),\n",
    "                    callbacks=[early_stopping_cb])"
   ]
  },
  {
   "cell_type": "markdown",
   "metadata": {},
   "source": [
    "### History Object"
   ]
  },
  {
   "cell_type": "code",
   "execution_count": 45,
   "metadata": {},
   "outputs": [
    {
     "name": "stdout",
     "output_type": "stream",
     "text": [
      "Training Parameters:  {'verbose': 1, 'epochs': 50, 'steps': 860}\n",
      "\n",
      "List of Epochs:  [0, 1, 2, 3, 4, 5, 6, 7, 8, 9, 10, 11]\n",
      "\n",
      "Evaluation Metrics:  dict_keys(['loss', 'accuracy', 'val_loss', 'val_accuracy'])\n"
     ]
    }
   ],
   "source": [
    "print(\"Training Parameters: \", history.params)\n",
    "print(\"\\nList of Epochs: \", history.epoch)\n",
    "print(\"\\nEvaluation Metrics: \", history.history.keys())"
   ]
  },
  {
   "cell_type": "markdown",
   "metadata": {},
   "source": [
    "### Evaluate the Model"
   ]
  },
  {
   "cell_type": "code",
   "execution_count": 46,
   "metadata": {},
   "outputs": [
    {
     "name": "stdout",
     "output_type": "stream",
     "text": [
      "Epochs:  12\n",
      "\n",
      "Test Data: Loss & Accuracy:  [2.3012092113494873, 0.11349999904632568]\n",
      "\n",
      "Train Accuracy:  0.11234545454545454\n",
      "\n",
      "Test Accuracy:  0.1135\n",
      "\n",
      "Test Confusion Matrix:\n",
      "[[   0  980    0    0    0    0    0    0    0    0]\n",
      " [   0 1135    0    0    0    0    0    0    0    0]\n",
      " [   0 1032    0    0    0    0    0    0    0    0]\n",
      " [   0 1010    0    0    0    0    0    0    0    0]\n",
      " [   0  982    0    0    0    0    0    0    0    0]\n",
      " [   0  892    0    0    0    0    0    0    0    0]\n",
      " [   0  958    0    0    0    0    0    0    0    0]\n",
      " [   0 1028    0    0    0    0    0    0    0    0]\n",
      " [   0  974    0    0    0    0    0    0    0    0]\n",
      " [   0 1009    0    0    0    0    0    0    0    0]]\n",
      "\n",
      "Classification Report:\n",
      "              precision    recall  f1-score   support\n",
      "\n",
      "           0       0.00      0.00      0.00       980\n",
      "           1       0.11      1.00      0.20      1135\n",
      "           2       0.00      0.00      0.00      1032\n",
      "           3       0.00      0.00      0.00      1010\n",
      "           4       0.00      0.00      0.00       982\n",
      "           5       0.00      0.00      0.00       892\n",
      "           6       0.00      0.00      0.00       958\n",
      "           7       0.00      0.00      0.00      1028\n",
      "           8       0.00      0.00      0.00       974\n",
      "           9       0.00      0.00      0.00      1009\n",
      "\n",
      "    accuracy                           0.11     10000\n",
      "   macro avg       0.01      0.10      0.02     10000\n",
      "weighted avg       0.01      0.11      0.02     10000\n",
      "\n"
     ]
    }
   ],
   "source": [
    "numOfEpochs = len(history.history['loss'])\n",
    "print(\"Epochs: \", numOfEpochs)\n",
    "\n",
    "print(\"\\nTest Data: Loss & Accuracy: \", model.evaluate(X_test, y_test, verbose=0))\n",
    "\n",
    "# model.predict() method return 10 probabilities per class for each instance (Dimension Nx10)\n",
    "y_test_predicted = model.predict(X_test)\n",
    "y_test_predicted = np.argmax(y_test_predicted, axis=1) # get the label/index of the highest probability class\n",
    "\n",
    "\n",
    "y_train_predicted = model.predict(X_train)\n",
    "y_train_predicted = np.argmax(y_train_predicted, axis=1) # get the label/index of the highest probability class\n",
    "\n",
    "train_accuracy = np.mean(y_train_predicted == y_train)\n",
    "print(\"\\nTrain Accuracy: \", train_accuracy)\n",
    "\n",
    "test_accuracy = np.mean(y_test_predicted == y_test)\n",
    "print(\"\\nTest Accuracy: \", test_accuracy)\n",
    "\n",
    "print(\"\\nTest Confusion Matrix:\")\n",
    "print(confusion_matrix(y_test, y_test_predicted))\n",
    "\n",
    "print(\"\\nClassification Report:\")\n",
    "print(classification_report(y_test, y_test_predicted))"
   ]
  },
  {
   "cell_type": "markdown",
   "metadata": {},
   "source": [
    "### Plot Learning Curve"
   ]
  },
  {
   "cell_type": "code",
   "execution_count": 47,
   "metadata": {},
   "outputs": [
    {
     "data": {
      "image/png": "[encoded data removed]",
      "text/plain": [
       "<Figure size 1296x432 with 2 Axes>"
      ]
     },
     "metadata": {
      "needs_background": "light"
     },
     "output_type": "display_data"
    }
   ],
   "source": [
    "plt.figure(figsize=(18,6))\n",
    "\n",
    "plt.subplot(121)\n",
    "plt.plot(range(1,numOfEpochs+1),history.history['val_accuracy'],label='validation')\n",
    "plt.plot(range(1,numOfEpochs+1),history.history['accuracy'],label='training')\n",
    "plt.legend(loc=0)\n",
    "plt.xlabel('Epochs')\n",
    "plt.ylabel('Accuracy')\n",
    "plt.xlim([1,numOfEpochs])\n",
    "plt.grid(True)\n",
    "plt.title(\"Model Accuracy\")\n",
    "\n",
    "plt.subplot(122)\n",
    "plt.plot(range(1,numOfEpochs+1),history.history['val_loss'],label='validation')\n",
    "plt.plot(range(1,numOfEpochs+1),history.history['loss'],label='training')\n",
    "plt.legend(loc=0)\n",
    "plt.xlabel('Epochs')\n",
    "plt.ylabel('Loss')\n",
    "plt.xlim([1,numOfEpochs])\n",
    "plt.grid(True)\n",
    "plt.title(\"Model Loss\")\n",
    "\n",
    "plt.show()"
   ]
  },
  {
   "cell_type": "markdown",
   "metadata": {},
   "source": [
    "## Experiment 10\n",
    "\n",
    "### Build the MLP Model: kernel_initializer = random_normal, activation = relu, 20 hidden layers each 100 neurons"
   ]
  },
  {
   "cell_type": "code",
   "execution_count": 48,
   "metadata": {},
   "outputs": [
    {
     "name": "stdout",
     "output_type": "stream",
     "text": [
      "Model: \"MLP_Multiclass_Classifier\"\n",
      "_________________________________________________________________\n",
      "Layer (type)                 Output Shape              Param #   \n",
      "=================================================================\n",
      "flatten (Flatten)            (None, 784)               0         \n",
      "_________________________________________________________________\n",
      "dense (Dense)                (None, 100)               78500     \n",
      "_________________________________________________________________\n",
      "dense_1 (Dense)              (None, 100)               10100     \n",
      "_________________________________________________________________\n",
      "dense_2 (Dense)              (None, 100)               10100     \n",
      "_________________________________________________________________\n",
      "dense_3 (Dense)              (None, 100)               10100     \n",
      "_________________________________________________________________\n",
      "dense_4 (Dense)              (None, 100)               10100     \n",
      "_________________________________________________________________\n",
      "dense_5 (Dense)              (None, 100)               10100     \n",
      "_________________________________________________________________\n",
      "dense_6 (Dense)              (None, 100)               10100     \n",
      "_________________________________________________________________\n",
      "dense_7 (Dense)              (None, 100)               10100     \n",
      "_________________________________________________________________\n",
      "dense_8 (Dense)              (None, 100)               10100     \n",
      "_________________________________________________________________\n",
      "dense_9 (Dense)              (None, 100)               10100     \n",
      "_________________________________________________________________\n",
      "dense_10 (Dense)             (None, 100)               10100     \n",
      "_________________________________________________________________\n",
      "dense_11 (Dense)             (None, 100)               10100     \n",
      "_________________________________________________________________\n",
      "dense_12 (Dense)             (None, 100)               10100     \n",
      "_________________________________________________________________\n",
      "dense_13 (Dense)             (None, 100)               10100     \n",
      "_________________________________________________________________\n",
      "dense_14 (Dense)             (None, 100)               10100     \n",
      "_________________________________________________________________\n",
      "dense_15 (Dense)             (None, 100)               10100     \n",
      "_________________________________________________________________\n",
      "dense_16 (Dense)             (None, 100)               10100     \n",
      "_________________________________________________________________\n",
      "dense_17 (Dense)             (None, 100)               10100     \n",
      "_________________________________________________________________\n",
      "dense_18 (Dense)             (None, 100)               10100     \n",
      "_________________________________________________________________\n",
      "dense_19 (Dense)             (None, 100)               10100     \n",
      "_________________________________________________________________\n",
      "dense_20 (Dense)             (None, 10)                1010      \n",
      "=================================================================\n",
      "Total params: 271,410\n",
      "Trainable params: 271,410\n",
      "Non-trainable params: 0\n",
      "_________________________________________________________________\n",
      "Wall time: 177 ms\n"
     ]
    }
   ],
   "source": [
    "%%time\n",
    "\n",
    "'''\n",
    "Delete the TensorFlow graph before creating a new model, otherwise memory overflow will occur.\n",
    "'''\n",
    "keras.backend.clear_session()\n",
    "\n",
    "'''\n",
    "To reproduce the same result by the model in each iteration, we use fixed seeds for random number generation. \n",
    "'''\n",
    "np.random.seed(42)\n",
    "tf.random.set_seed(42)\n",
    "\n",
    "\n",
    "'''\n",
    "Set the values for weight initializer and activation function\n",
    "'''\n",
    "kernel_initializer = 'random_normal'\n",
    "activation = 'relu'\n",
    "number_of_classes = 10\n",
    "\n",
    "\n",
    "'''\n",
    "Create a Sequential model composed of a single stack of layers connected sequentially. \n",
    "- Add the layers one by one.\n",
    "- Apply Dropout regularization\n",
    "'''\n",
    "model = keras.models.Sequential(name=\"MLP_Multiclass_Classifier\")\n",
    "model.add(keras.layers.Flatten(input_shape=[28, 28]))\n",
    "model.add(keras.layers.Dense(units=100, kernel_initializer=kernel_initializer, activation=activation, \n",
    "                             bias_initializer=\"zeros\"))\n",
    "model.add(keras.layers.Dense(units=100, kernel_initializer=kernel_initializer, activation=activation, \n",
    "                             bias_initializer=\"zeros\"))\n",
    "model.add(keras.layers.Dense(units=100, kernel_initializer=kernel_initializer, activation=activation, \n",
    "                             bias_initializer=\"zeros\"))\n",
    "model.add(keras.layers.Dense(units=100, kernel_initializer=kernel_initializer, activation=activation, \n",
    "                             bias_initializer=\"zeros\"))\n",
    "model.add(keras.layers.Dense(units=100, kernel_initializer=kernel_initializer, activation=activation, \n",
    "                             bias_initializer=\"zeros\"))\n",
    "model.add(keras.layers.Dense(units=100, kernel_initializer=kernel_initializer, activation=activation, \n",
    "                             bias_initializer=\"zeros\"))\n",
    "model.add(keras.layers.Dense(units=100, kernel_initializer=kernel_initializer, activation=activation, \n",
    "                             bias_initializer=\"zeros\"))\n",
    "model.add(keras.layers.Dense(units=100, kernel_initializer=kernel_initializer, activation=activation, \n",
    "                             bias_initializer=\"zeros\"))\n",
    "model.add(keras.layers.Dense(units=100, kernel_initializer=kernel_initializer, activation=activation, \n",
    "                             bias_initializer=\"zeros\"))\n",
    "model.add(keras.layers.Dense(units=100, kernel_initializer=kernel_initializer, activation=activation, \n",
    "                             bias_initializer=\"zeros\"))\n",
    "model.add(keras.layers.Dense(units=100, kernel_initializer=kernel_initializer, activation=activation, \n",
    "                             bias_initializer=\"zeros\"))\n",
    "model.add(keras.layers.Dense(units=100, kernel_initializer=kernel_initializer, activation=activation, \n",
    "                             bias_initializer=\"zeros\"))\n",
    "model.add(keras.layers.Dense(units=100, kernel_initializer=kernel_initializer, activation=activation, \n",
    "                             bias_initializer=\"zeros\"))\n",
    "model.add(keras.layers.Dense(units=100, kernel_initializer=kernel_initializer, activation=activation, \n",
    "                             bias_initializer=\"zeros\"))\n",
    "model.add(keras.layers.Dense(units=100, kernel_initializer=kernel_initializer, activation=activation, \n",
    "                             bias_initializer=\"zeros\"))\n",
    "model.add(keras.layers.Dense(units=100, kernel_initializer=kernel_initializer, activation=activation, \n",
    "                             bias_initializer=\"zeros\"))\n",
    "model.add(keras.layers.Dense(units=100, kernel_initializer=kernel_initializer, activation=activation, \n",
    "                             bias_initializer=\"zeros\"))\n",
    "model.add(keras.layers.Dense(units=100, kernel_initializer=kernel_initializer, activation=activation, \n",
    "                             bias_initializer=\"zeros\"))\n",
    "model.add(keras.layers.Dense(units=100, kernel_initializer=kernel_initializer, activation=activation, \n",
    "                             bias_initializer=\"zeros\"))\n",
    "model.add(keras.layers.Dense(units=100, kernel_initializer=kernel_initializer, activation=activation, \n",
    "                             bias_initializer=\"zeros\"))\n",
    "model.add(keras.layers.Dense(units=number_of_classes, kernel_initializer=kernel_initializer, \n",
    "                             activation=\"softmax\"))\n",
    "model.summary()"
   ]
  },
  {
   "cell_type": "markdown",
   "metadata": {},
   "source": [
    "### Train the MLP Model: SGD learning_rate = 0.1"
   ]
  },
  {
   "cell_type": "code",
   "execution_count": 49,
   "metadata": {},
   "outputs": [
    {
     "name": "stdout",
     "output_type": "stream",
     "text": [
      "Epoch 1/50\n",
      "860/860 [==============================] - 3s 3ms/step - loss: 2.3018 - accuracy: 0.1109 - val_loss: 2.3013 - val_accuracy: 0.1126\n",
      "Epoch 2/50\n",
      "860/860 [==============================] - 2s 2ms/step - loss: 2.3011 - accuracy: 0.1158 - val_loss: 2.3006 - val_accuracy: 0.1126\n",
      "Epoch 3/50\n",
      "860/860 [==============================] - 2s 2ms/step - loss: 2.3011 - accuracy: 0.1157 - val_loss: 2.3011 - val_accuracy: 0.1126\n",
      "Epoch 4/50\n",
      "860/860 [==============================] - 2s 2ms/step - loss: 2.3014 - accuracy: 0.1133 - val_loss: 2.3012 - val_accuracy: 0.1126\n",
      "Epoch 5/50\n",
      "860/860 [==============================] - 2s 2ms/step - loss: 2.3015 - accuracy: 0.1134 - val_loss: 2.3023 - val_accuracy: 0.1126\n",
      "Epoch 6/50\n",
      "860/860 [==============================] - 2s 2ms/step - loss: 2.3016 - accuracy: 0.1135 - val_loss: 2.3013 - val_accuracy: 0.1126\n",
      "Epoch 7/50\n",
      "860/860 [==============================] - 2s 3ms/step - loss: 2.3015 - accuracy: 0.1111 - val_loss: 2.3011 - val_accuracy: 0.1126\n",
      "Epoch 8/50\n",
      "860/860 [==============================] - 2s 2ms/step - loss: 2.3016 - accuracy: 0.1124 - val_loss: 2.3009 - val_accuracy: 0.1126\n",
      "Epoch 9/50\n",
      "860/860 [==============================] - 2s 2ms/step - loss: 2.3016 - accuracy: 0.1128 - val_loss: 2.3018 - val_accuracy: 0.1126\n",
      "Epoch 10/50\n",
      "860/860 [==============================] - 2s 3ms/step - loss: 2.3018 - accuracy: 0.1104 - val_loss: 2.3011 - val_accuracy: 0.1126\n",
      "Epoch 11/50\n",
      "860/860 [==============================] - 2s 3ms/step - loss: 2.3016 - accuracy: 0.1117 - val_loss: 2.3010 - val_accuracy: 0.1126\n",
      "Epoch 12/50\n",
      "860/860 [==============================] - 2s 2ms/step - loss: 2.3015 - accuracy: 0.1119 - val_loss: 2.3014 - val_accuracy: 0.1126\n",
      "Epoch 00012: early stopping\n"
     ]
    }
   ],
   "source": [
    "'''\n",
    "Define the optimizer\n",
    "'''\n",
    "optimizer = keras.optimizers.SGD(learning_rate=0.1)\n",
    "\n",
    "\n",
    "'''\n",
    "Compile the model\n",
    "'''\n",
    "model.compile(loss=\"sparse_categorical_crossentropy\",\n",
    "              optimizer=optimizer,\n",
    "              metrics=[\"accuracy\"])\n",
    "\n",
    "\n",
    "\n",
    "'''\n",
    "Create the early stopping callback function.\n",
    "'''\n",
    "early_stopping_cb = keras.callbacks.EarlyStopping(monitor='val_loss',\n",
    "                                  min_delta=0, \n",
    "                                  patience=10, \n",
    "                                  verbose=1, \n",
    "                                  mode='auto',\n",
    "                                  restore_best_weights=False)\n",
    "\n",
    "'''\n",
    "Set the epochs and mini batch size\n",
    "'''\n",
    "no_of_epochs = 50\n",
    "size_of_mini_batch = 64\n",
    "\n",
    "\n",
    "'''\n",
    "Train the model\n",
    "'''\n",
    "history = model.fit(X_train, y_train, \n",
    "                    batch_size=size_of_mini_batch, \n",
    "                    epochs=no_of_epochs,\n",
    "                    verbose=1,\n",
    "                    validation_data=(X_valid, y_valid),\n",
    "                    callbacks=[early_stopping_cb])"
   ]
  },
  {
   "cell_type": "markdown",
   "metadata": {},
   "source": [
    "### History Object"
   ]
  },
  {
   "cell_type": "code",
   "execution_count": 50,
   "metadata": {},
   "outputs": [
    {
     "name": "stdout",
     "output_type": "stream",
     "text": [
      "Training Parameters:  {'verbose': 1, 'epochs': 50, 'steps': 860}\n",
      "\n",
      "List of Epochs:  [0, 1, 2, 3, 4, 5, 6, 7, 8, 9, 10, 11]\n",
      "\n",
      "Evaluation Metrics:  dict_keys(['loss', 'accuracy', 'val_loss', 'val_accuracy'])\n"
     ]
    }
   ],
   "source": [
    "print(\"Training Parameters: \", history.params)\n",
    "print(\"\\nList of Epochs: \", history.epoch)\n",
    "print(\"\\nEvaluation Metrics: \", history.history.keys())"
   ]
  },
  {
   "cell_type": "markdown",
   "metadata": {},
   "source": [
    "### Evaluate the Model"
   ]
  },
  {
   "cell_type": "code",
   "execution_count": 51,
   "metadata": {},
   "outputs": [
    {
     "name": "stdout",
     "output_type": "stream",
     "text": [
      "Epochs:  12\n",
      "\n",
      "Test Data: Loss & Accuracy:  [2.30120849609375, 0.11349999904632568]\n",
      "\n",
      "Train Accuracy:  0.11234545454545454\n",
      "\n",
      "Test Accuracy:  0.1135\n",
      "\n",
      "Test Confusion Matrix:\n",
      "[[   0  980    0    0    0    0    0    0    0    0]\n",
      " [   0 1135    0    0    0    0    0    0    0    0]\n",
      " [   0 1032    0    0    0    0    0    0    0    0]\n",
      " [   0 1010    0    0    0    0    0    0    0    0]\n",
      " [   0  982    0    0    0    0    0    0    0    0]\n",
      " [   0  892    0    0    0    0    0    0    0    0]\n",
      " [   0  958    0    0    0    0    0    0    0    0]\n",
      " [   0 1028    0    0    0    0    0    0    0    0]\n",
      " [   0  974    0    0    0    0    0    0    0    0]\n",
      " [   0 1009    0    0    0    0    0    0    0    0]]\n",
      "\n",
      "Classification Report:\n",
      "              precision    recall  f1-score   support\n",
      "\n",
      "           0       0.00      0.00      0.00       980\n",
      "           1       0.11      1.00      0.20      1135\n",
      "           2       0.00      0.00      0.00      1032\n",
      "           3       0.00      0.00      0.00      1010\n",
      "           4       0.00      0.00      0.00       982\n",
      "           5       0.00      0.00      0.00       892\n",
      "           6       0.00      0.00      0.00       958\n",
      "           7       0.00      0.00      0.00      1028\n",
      "           8       0.00      0.00      0.00       974\n",
      "           9       0.00      0.00      0.00      1009\n",
      "\n",
      "    accuracy                           0.11     10000\n",
      "   macro avg       0.01      0.10      0.02     10000\n",
      "weighted avg       0.01      0.11      0.02     10000\n",
      "\n"
     ]
    }
   ],
   "source": [
    "numOfEpochs = len(history.history['loss'])\n",
    "print(\"Epochs: \", numOfEpochs)\n",
    "\n",
    "print(\"\\nTest Data: Loss & Accuracy: \", model.evaluate(X_test, y_test, verbose=0))\n",
    "\n",
    "# model.predict() method return 10 probabilities per class for each instance (Dimension Nx10)\n",
    "y_test_predicted = model.predict(X_test)\n",
    "y_test_predicted = np.argmax(y_test_predicted, axis=1) # get the label/index of the highest probability class\n",
    "\n",
    "\n",
    "y_train_predicted = model.predict(X_train)\n",
    "y_train_predicted = np.argmax(y_train_predicted, axis=1) # get the label/index of the highest probability class\n",
    "\n",
    "train_accuracy = np.mean(y_train_predicted == y_train)\n",
    "print(\"\\nTrain Accuracy: \", train_accuracy)\n",
    "\n",
    "test_accuracy = np.mean(y_test_predicted == y_test)\n",
    "print(\"\\nTest Accuracy: \", test_accuracy)\n",
    "\n",
    "print(\"\\nTest Confusion Matrix:\")\n",
    "print(confusion_matrix(y_test, y_test_predicted))\n",
    "\n",
    "print(\"\\nClassification Report:\")\n",
    "print(classification_report(y_test, y_test_predicted))"
   ]
  },
  {
   "cell_type": "markdown",
   "metadata": {},
   "source": [
    "### Plot Learning Curve"
   ]
  },
  {
   "cell_type": "code",
   "execution_count": 52,
   "metadata": {},
   "outputs": [
    {
     "data": {
      "image/png": "[encoded data removed]",
      "text/plain": [
       "<Figure size 1296x432 with 2 Axes>"
      ]
     },
     "metadata": {
      "needs_background": "light"
     },
     "output_type": "display_data"
    }
   ],
   "source": [
    "plt.figure(figsize=(18,6))\n",
    "\n",
    "plt.subplot(121)\n",
    "plt.plot(range(1,numOfEpochs+1),history.history['val_accuracy'],label='validation')\n",
    "plt.plot(range(1,numOfEpochs+1),history.history['accuracy'],label='training')\n",
    "plt.legend(loc=0)\n",
    "plt.xlabel('Epochs')\n",
    "plt.ylabel('Accuracy')\n",
    "plt.xlim([1,numOfEpochs])\n",
    "plt.grid(True)\n",
    "plt.title(\"Model Accuracy\")\n",
    "\n",
    "plt.subplot(122)\n",
    "plt.plot(range(1,numOfEpochs+1),history.history['val_loss'],label='validation')\n",
    "plt.plot(range(1,numOfEpochs+1),history.history['loss'],label='training')\n",
    "plt.legend(loc=0)\n",
    "plt.xlabel('Epochs')\n",
    "plt.ylabel('Loss')\n",
    "plt.xlim([1,numOfEpochs])\n",
    "plt.grid(True)\n",
    "plt.title(\"Model Loss\")\n",
    "\n",
    "plt.show()"
   ]
  },
  {
   "cell_type": "markdown",
   "metadata": {},
   "source": [
    "### Q-1) Among experiments 1 to 5, which experiment performed the best (based ontest accuracy & epochs)? Explain why."
   ]
  },
  {
   "cell_type": "markdown",
   "metadata": {},
   "source": [
    "Experiment 5."
   ]
  },
  {
   "cell_type": "markdown",
   "metadata": {},
   "source": [
    "### Q-2) Among experiments 1 to 5, which experiment performed the worst (based on test accuracy)? Explain why."
   ]
  },
  {
   "cell_type": "markdown",
   "metadata": {},
   "source": [
    "Experiment 2."
   ]
  },
  {
   "cell_type": "markdown",
   "metadata": {},
   "source": [
    "### Q-3) Compare experiment 6 with experiment 7 and determine which model experiences less overfitting. Explain why. To answer this question, use the train accuracy, test accuracy, and learning curves of these two experiments. In your answer show these measures."
   ]
  },
  {
   "cell_type": "markdown",
   "metadata": {},
   "source": [
    "Experiment 7."
   ]
  },
  {
   "cell_type": "markdown",
   "metadata": {},
   "source": [
    "### Q-4) Compare experiment 7 with experiment 8. Explain the change in the numberof epochs in experiment 8. If it increased, explain why. If it decreased, explain why."
   ]
  },
  {
   "cell_type": "markdown",
   "metadata": {},
   "source": []
  },
  {
   "cell_type": "markdown",
   "metadata": {},
   "source": [
    "### Q-5) Compare experiment 8 with experiment 9. Show the accuracy learning curves of these two models. Explain the difference. Which model performed poorly? Explain why."
   ]
  },
  {
   "cell_type": "markdown",
   "metadata": {},
   "source": []
  },
  {
   "cell_type": "markdown",
   "metadata": {},
   "source": [
    "### Q-6) Compare experiment 9 with experiment 10. Which model performed poorly? Explain why."
   ]
  },
  {
   "cell_type": "markdown",
   "metadata": {},
   "source": []
  }
 ],
 "metadata": {
  "kernelspec": {
   "display_name": "Python 3 (ipykernel)",
   "language": "python",
   "name": "python3"
  },
  "language_info": {
   "codemirror_mode": {
    "name": "ipython",
    "version": 3
   },
   "file_extension": ".py",
   "mimetype": "text/x-python",
   "name": "python",
   "nbconvert_exporter": "python",
   "pygments_lexer": "ipython3",
   "version": "3.9.12"
  }
 },
 "nbformat": 4,
 "nbformat_minor": 4
}

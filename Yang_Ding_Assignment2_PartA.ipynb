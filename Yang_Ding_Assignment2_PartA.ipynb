{
 "cells": [
  {
   "cell_type": "markdown",
   "metadata": {},
   "source": [
    "# ENGR 891: Programming Assignment #2\n",
    "## Part A: \n",
    "### Pre-processing"
   ]
  },
  {
   "cell_type": "markdown",
   "metadata": {},
   "source": [
    "### Import the packages"
   ]
  },
  {
   "cell_type": "code",
   "execution_count": 1,
   "metadata": {},
   "outputs": [],
   "source": [
    "import pandas as pd\n",
    "import numpy as np\n",
    "import xlrd\n",
    "import warnings\n",
    "import matplotlib.pyplot as plt\n",
    "\n",
    "from sklearn.model_selection import train_test_split, GridSearchCV, learning_curve\n",
    "from sklearn.linear_model import SGDRegressor, LinearRegression\n",
    "from sklearn.metrics import mean_squared_error, r2_score\n",
    "from sklearn.pipeline import Pipeline, make_pipeline\n",
    "from sklearn.preprocessing import PolynomialFeatures, StandardScaler"
   ]
  },
  {
   "cell_type": "markdown",
   "metadata": {},
   "source": [
    "### Load the data"
   ]
  },
  {
   "cell_type": "code",
   "execution_count": 2,
   "metadata": {},
   "outputs": [
    {
     "data": {
      "text/html": [
       "<div>\n",
       "<style scoped>\n",
       "    .dataframe tbody tr th:only-of-type {\n",
       "        vertical-align: middle;\n",
       "    }\n",
       "\n",
       "    .dataframe tbody tr th {\n",
       "        vertical-align: top;\n",
       "    }\n",
       "\n",
       "    .dataframe thead th {\n",
       "        text-align: right;\n",
       "    }\n",
       "</style>\n",
       "<table border=\"1\" class=\"dataframe\">\n",
       "  <thead>\n",
       "    <tr style=\"text-align: right;\">\n",
       "      <th></th>\n",
       "      <th>X1</th>\n",
       "      <th>X2</th>\n",
       "      <th>X3</th>\n",
       "      <th>X4</th>\n",
       "      <th>X5</th>\n",
       "      <th>X6</th>\n",
       "      <th>X7</th>\n",
       "      <th>X8</th>\n",
       "      <th>Y1</th>\n",
       "      <th>Y2</th>\n",
       "    </tr>\n",
       "  </thead>\n",
       "  <tbody>\n",
       "    <tr>\n",
       "      <th>0</th>\n",
       "      <td>0.98</td>\n",
       "      <td>514.5</td>\n",
       "      <td>294.0</td>\n",
       "      <td>110.25</td>\n",
       "      <td>7.0</td>\n",
       "      <td>2</td>\n",
       "      <td>0.0</td>\n",
       "      <td>0</td>\n",
       "      <td>15.55</td>\n",
       "      <td>21.33</td>\n",
       "    </tr>\n",
       "    <tr>\n",
       "      <th>1</th>\n",
       "      <td>0.98</td>\n",
       "      <td>514.5</td>\n",
       "      <td>294.0</td>\n",
       "      <td>110.25</td>\n",
       "      <td>7.0</td>\n",
       "      <td>3</td>\n",
       "      <td>0.0</td>\n",
       "      <td>0</td>\n",
       "      <td>15.55</td>\n",
       "      <td>21.33</td>\n",
       "    </tr>\n",
       "    <tr>\n",
       "      <th>2</th>\n",
       "      <td>0.98</td>\n",
       "      <td>514.5</td>\n",
       "      <td>294.0</td>\n",
       "      <td>110.25</td>\n",
       "      <td>7.0</td>\n",
       "      <td>4</td>\n",
       "      <td>0.0</td>\n",
       "      <td>0</td>\n",
       "      <td>15.55</td>\n",
       "      <td>21.33</td>\n",
       "    </tr>\n",
       "    <tr>\n",
       "      <th>3</th>\n",
       "      <td>0.98</td>\n",
       "      <td>514.5</td>\n",
       "      <td>294.0</td>\n",
       "      <td>110.25</td>\n",
       "      <td>7.0</td>\n",
       "      <td>5</td>\n",
       "      <td>0.0</td>\n",
       "      <td>0</td>\n",
       "      <td>15.55</td>\n",
       "      <td>21.33</td>\n",
       "    </tr>\n",
       "    <tr>\n",
       "      <th>4</th>\n",
       "      <td>0.90</td>\n",
       "      <td>563.5</td>\n",
       "      <td>318.5</td>\n",
       "      <td>122.50</td>\n",
       "      <td>7.0</td>\n",
       "      <td>2</td>\n",
       "      <td>0.0</td>\n",
       "      <td>0</td>\n",
       "      <td>20.84</td>\n",
       "      <td>28.28</td>\n",
       "    </tr>\n",
       "    <tr>\n",
       "      <th>...</th>\n",
       "      <td>...</td>\n",
       "      <td>...</td>\n",
       "      <td>...</td>\n",
       "      <td>...</td>\n",
       "      <td>...</td>\n",
       "      <td>...</td>\n",
       "      <td>...</td>\n",
       "      <td>...</td>\n",
       "      <td>...</td>\n",
       "      <td>...</td>\n",
       "    </tr>\n",
       "    <tr>\n",
       "      <th>763</th>\n",
       "      <td>0.64</td>\n",
       "      <td>784.0</td>\n",
       "      <td>343.0</td>\n",
       "      <td>220.50</td>\n",
       "      <td>3.5</td>\n",
       "      <td>5</td>\n",
       "      <td>0.4</td>\n",
       "      <td>5</td>\n",
       "      <td>17.88</td>\n",
       "      <td>21.40</td>\n",
       "    </tr>\n",
       "    <tr>\n",
       "      <th>764</th>\n",
       "      <td>0.62</td>\n",
       "      <td>808.5</td>\n",
       "      <td>367.5</td>\n",
       "      <td>220.50</td>\n",
       "      <td>3.5</td>\n",
       "      <td>2</td>\n",
       "      <td>0.4</td>\n",
       "      <td>5</td>\n",
       "      <td>16.54</td>\n",
       "      <td>16.88</td>\n",
       "    </tr>\n",
       "    <tr>\n",
       "      <th>765</th>\n",
       "      <td>0.62</td>\n",
       "      <td>808.5</td>\n",
       "      <td>367.5</td>\n",
       "      <td>220.50</td>\n",
       "      <td>3.5</td>\n",
       "      <td>3</td>\n",
       "      <td>0.4</td>\n",
       "      <td>5</td>\n",
       "      <td>16.44</td>\n",
       "      <td>17.11</td>\n",
       "    </tr>\n",
       "    <tr>\n",
       "      <th>766</th>\n",
       "      <td>0.62</td>\n",
       "      <td>808.5</td>\n",
       "      <td>367.5</td>\n",
       "      <td>220.50</td>\n",
       "      <td>3.5</td>\n",
       "      <td>4</td>\n",
       "      <td>0.4</td>\n",
       "      <td>5</td>\n",
       "      <td>16.48</td>\n",
       "      <td>16.61</td>\n",
       "    </tr>\n",
       "    <tr>\n",
       "      <th>767</th>\n",
       "      <td>0.62</td>\n",
       "      <td>808.5</td>\n",
       "      <td>367.5</td>\n",
       "      <td>220.50</td>\n",
       "      <td>3.5</td>\n",
       "      <td>5</td>\n",
       "      <td>0.4</td>\n",
       "      <td>5</td>\n",
       "      <td>16.64</td>\n",
       "      <td>16.03</td>\n",
       "    </tr>\n",
       "  </tbody>\n",
       "</table>\n",
       "<p>768 rows × 10 columns</p>\n",
       "</div>"
      ],
      "text/plain": [
       "       X1     X2     X3      X4   X5  X6   X7  X8     Y1     Y2\n",
       "0    0.98  514.5  294.0  110.25  7.0   2  0.0   0  15.55  21.33\n",
       "1    0.98  514.5  294.0  110.25  7.0   3  0.0   0  15.55  21.33\n",
       "2    0.98  514.5  294.0  110.25  7.0   4  0.0   0  15.55  21.33\n",
       "3    0.98  514.5  294.0  110.25  7.0   5  0.0   0  15.55  21.33\n",
       "4    0.90  563.5  318.5  122.50  7.0   2  0.0   0  20.84  28.28\n",
       "..    ...    ...    ...     ...  ...  ..  ...  ..    ...    ...\n",
       "763  0.64  784.0  343.0  220.50  3.5   5  0.4   5  17.88  21.40\n",
       "764  0.62  808.5  367.5  220.50  3.5   2  0.4   5  16.54  16.88\n",
       "765  0.62  808.5  367.5  220.50  3.5   3  0.4   5  16.44  17.11\n",
       "766  0.62  808.5  367.5  220.50  3.5   4  0.4   5  16.48  16.61\n",
       "767  0.62  808.5  367.5  220.50  3.5   5  0.4   5  16.64  16.03\n",
       "\n",
       "[768 rows x 10 columns]"
      ]
     },
     "execution_count": 2,
     "metadata": {},
     "output_type": "execute_result"
    }
   ],
   "source": [
    "# Load the CSV file as a pandas data frame object\n",
    "df = pd.read_excel('EnergyEfficiency.xlsx', header = 0)\n",
    "df"
   ]
  },
  {
   "cell_type": "markdown",
   "metadata": {},
   "source": [
    "### Check if there is a NAN value in data set"
   ]
  },
  {
   "cell_type": "code",
   "execution_count": 3,
   "metadata": {},
   "outputs": [
    {
     "data": {
      "text/plain": [
       "False"
      ]
     },
     "execution_count": 3,
     "metadata": {},
     "output_type": "execute_result"
    }
   ],
   "source": [
    "# Check if there is a NAN in data set, clean the data if it is True\n",
    "df.isna().values.any()"
   ]
  },
  {
   "cell_type": "markdown",
   "metadata": {},
   "source": [
    "### Create a separate feature set (Data Matrix X) and target (1D Array y)"
   ]
  },
  {
   "cell_type": "code",
   "execution_count": 4,
   "metadata": {
    "scrolled": false
   },
   "outputs": [
    {
     "name": "stdout",
     "output_type": "stream",
     "text": [
      "<bound method NDFrame.astype of        X1     X2     X3      X4   X5  X6   X7  X8\n",
      "0    0.98  514.5  294.0  110.25  7.0   2  0.0   0\n",
      "1    0.98  514.5  294.0  110.25  7.0   3  0.0   0\n",
      "2    0.98  514.5  294.0  110.25  7.0   4  0.0   0\n",
      "3    0.98  514.5  294.0  110.25  7.0   5  0.0   0\n",
      "4    0.90  563.5  318.5  122.50  7.0   2  0.0   0\n",
      "..    ...    ...    ...     ...  ...  ..  ...  ..\n",
      "763  0.64  784.0  343.0  220.50  3.5   5  0.4   5\n",
      "764  0.62  808.5  367.5  220.50  3.5   2  0.4   5\n",
      "765  0.62  808.5  367.5  220.50  3.5   3  0.4   5\n",
      "766  0.62  808.5  367.5  220.50  3.5   4  0.4   5\n",
      "767  0.62  808.5  367.5  220.50  3.5   5  0.4   5\n",
      "\n",
      "[768 rows x 8 columns]>\n",
      "<bound method NDFrame.astype of 0      15.55\n",
      "1      15.55\n",
      "2      15.55\n",
      "3      15.55\n",
      "4      20.84\n",
      "       ...  \n",
      "763    17.88\n",
      "764    16.54\n",
      "765    16.44\n",
      "766    16.48\n",
      "767    16.64\n",
      "Name: Y1, Length: 768, dtype: float64>\n"
     ]
    }
   ],
   "source": [
    "# Create a data frame object for the features and another data frame object for the target\n",
    "X = df.drop(columns=['Y1','Y2'])  # Data frame containing all features excluding the target & id \n",
    "y = df['Y1'] # Data frame containing the target \n",
    "print(X.astype)\n",
    "print(y.astype)\n",
    "X = np.asarray(X) # Data Matrix containing all features excluding the target\n",
    "y = np.asarray(y) # 1D target array"
   ]
  },
  {
   "cell_type": "markdown",
   "metadata": {},
   "source": [
    "### Feature Selection: using pearson correlation"
   ]
  },
  {
   "cell_type": "code",
   "execution_count": 5,
   "metadata": {},
   "outputs": [
    {
     "name": "stdout",
     "output_type": "stream",
     "text": [
      "Most Correlated Features:\n",
      "\n",
      "Y1    1.000000\n",
      "Y2    0.975862\n",
      "X5    0.889430\n",
      "X4    0.861828\n",
      "X2    0.658120\n",
      "X1    0.622272\n",
      "X3    0.455671\n",
      "X7    0.269842\n",
      "X8    0.087368\n",
      "X6    0.002587\n",
      "Name: Y1, dtype: float64\n"
     ]
    }
   ],
   "source": [
    "# Variable Correlations with the target \n",
    "most_correlated = df.corr().abs()['Y1'].sort_values(ascending=False) # the absolute value\n",
    "# Maintain the top 10 most correlation features with target\n",
    "most_correlated = most_correlated[:10]\n",
    "print(\"Most Correlated Features:\\n\")\n",
    "print(most_correlated)"
   ]
  },
  {
   "cell_type": "markdown",
   "metadata": {},
   "source": [
    "## Find the optimal features : The most correlated 6 features as below provides the minimum test MSE and max test R^2 variance score"
   ]
  },
  {
   "cell_type": "code",
   "execution_count": 6,
   "metadata": {},
   "outputs": [],
   "source": [
    "# Case 1 has the most correlated 2,3,4,5,6,7,8 features test accuracy = ....\n",
    "df_case1 = df[['X5','X4','X2','X1','X3','X7']]"
   ]
  },
  {
   "cell_type": "markdown",
   "metadata": {},
   "source": [
    "### Convert the above data frame objects to NumPy array"
   ]
  },
  {
   "cell_type": "code",
   "execution_count": 7,
   "metadata": {},
   "outputs": [],
   "source": [
    "# Convert the above data frame objects to NumPy array\n",
    "X = np.asarray(df_case1) "
   ]
  },
  {
   "cell_type": "markdown",
   "metadata": {},
   "source": [
    "### check the shape of X and y"
   ]
  },
  {
   "cell_type": "code",
   "execution_count": 8,
   "metadata": {},
   "outputs": [
    {
     "name": "stdout",
     "output_type": "stream",
     "text": [
      "Data Matrix (X) Shape:  (768, 6)\n",
      "Label Array (y) Shape:  (768,)\n",
      "\n",
      "Data Matrix (X) Type:  float64\n",
      "Label Array (y) Type:  float64\n"
     ]
    }
   ],
   "source": [
    "print(\"Data Matrix (X) Shape: \", X.shape)\n",
    "print(\"Label Array (y) Shape: \", y.shape)\n",
    "\n",
    "print(\"\\nData Matrix (X) Type: \", X.dtype)\n",
    "print(\"Label Array (y) Type: \", y.dtype)"
   ]
  },
  {
   "cell_type": "markdown",
   "metadata": {},
   "source": [
    "### Partition the data in training & test subsets (80% - 20%)"
   ]
  },
  {
   "cell_type": "code",
   "execution_count": 9,
   "metadata": {},
   "outputs": [],
   "source": [
    "# Partition the dataset into training & test subsets: 80% training & 20% test \n",
    "X_train, X_test, y_train, y_test = train_test_split(X, y, test_size=0.2, random_state=42)"
   ]
  },
  {
   "cell_type": "markdown",
   "metadata": {},
   "source": [
    "### Model Selection: hyperparameter tuning"
   ]
  },
  {
   "cell_type": "code",
   "execution_count": 10,
   "metadata": {},
   "outputs": [
    {
     "name": "stdout",
     "output_type": "stream",
     "text": [
      "Fitting 3 folds for each of 1200 candidates, totalling 3600 fits\n"
     ]
    },
    {
     "name": "stderr",
     "output_type": "stream",
     "text": [
      "[Parallel(n_jobs=-1)]: Using backend LokyBackend with 8 concurrent workers.\n",
      "[Parallel(n_jobs=-1)]: Done  34 tasks      | elapsed:    1.9s\n",
      "[Parallel(n_jobs=-1)]: Done 1170 tasks      | elapsed:   10.8s\n",
      "[Parallel(n_jobs=-1)]: Done 1530 tasks      | elapsed:   25.7s\n",
      "[Parallel(n_jobs=-1)]: Done 1880 tasks      | elapsed:  1.0min\n",
      "[Parallel(n_jobs=-1)]: Done 2330 tasks      | elapsed:  2.4min\n",
      "[Parallel(n_jobs=-1)]: Done 2880 tasks      | elapsed:  5.8min\n",
      "[Parallel(n_jobs=-1)]: Done 3530 tasks      | elapsed: 15.7min\n",
      "[Parallel(n_jobs=-1)]: Done 3600 out of 3600 | elapsed: 16.9min finished\n"
     ]
    },
    {
     "name": "stdout",
     "output_type": "stream",
     "text": [
      "Best Score (negative mean squared error): -4.109479\n",
      "Optimal Hyperparameter Values:  {'poly__degree': 8, 'sgd__alpha': 0.001, 'sgd__eta0': 0.001, 'sgd__l1_ratio': 0.5, 'sgd__max_iter': 500}\n",
      "\n",
      "\n",
      "CPU times: user 10.4 s, sys: 549 ms, total: 10.9 s\n",
      "Wall time: 16min 55s\n"
     ]
    }
   ],
   "source": [
    "%%time\n",
    "warnings.filterwarnings('ignore')\n",
    "\n",
    "# Create a Pipeline object\n",
    "sgd_pipeline = Pipeline([\n",
    "        # Bias should be excluded because by default SGDRegressor adds bias via the\"fit_intercept\" parameter\n",
    "        ('poly', PolynomialFeatures(include_bias=False)), \n",
    "        ('scaler', StandardScaler()),\n",
    "        ('sgd', SGDRegressor(penalty='elasticnet')),\n",
    "    ])\n",
    "\n",
    "# Create a dictionary object with hyperparameters as keys and lists of corresponding values\n",
    "param_grid = {'poly__degree': [1, 2, 3, 4, 5, 6, 7, 8, 9, 10],\n",
    "              'sgd__alpha': [0.1, 0.01, 0.001, 0.0001], \n",
    "              'sgd__l1_ratio': [1, 0.7, 0.5, 0.2, 0], 'sgd__max_iter':[500, 1000],\n",
    "              'sgd__eta0': [0.01, 0.001, 0.0001]}\n",
    "\n",
    "# Create a GridSearchCV object and perform hyperparameter tuning\n",
    "sgd = GridSearchCV(sgd_pipeline, param_grid, scoring='neg_mean_squared_error', cv=3, verbose=1, n_jobs=-1)\n",
    "\n",
    "# The model is trained with optimal hyperparameters, thus its the optimal model\n",
    "sgd.fit(X_train, y_train)\n",
    "\n",
    "# Get the optimal hyperparameters\n",
    "params_optimal_sgd = sgd.best_params_\n",
    "\n",
    "print(\"Best Score (negative mean squared error): %f\" % sgd.best_score_)\n",
    "print(\"Optimal Hyperparameter Values: \", params_optimal_sgd)\n",
    "print(\"\\n\")"
   ]
  },
  {
   "cell_type": "markdown",
   "metadata": {},
   "source": [
    "### Model Evaluation: evaluation based on training and test data"
   ]
  },
  {
   "cell_type": "code",
   "execution_count": 11,
   "metadata": {},
   "outputs": [
    {
     "name": "stdout",
     "output_type": "stream",
     "text": [
      "Train: Mean squared error: 3.52\n",
      "Train: Coefficient of determination r^2 variance score [1 is perfect prediction]: 0.97\n",
      "\n",
      "Test: Mean squared error: 3.48\n",
      "Test: Coefficient of determination r^2 variance score [1 is perfect prediction]: 0.97\n"
     ]
    }
   ],
   "source": [
    "# Training data: Make prediction \n",
    "y_train_predicted_sgd = sgd.predict(X_train)\n",
    "\n",
    "print(\"Train: Mean squared error: %.2f\"\n",
    "      % mean_squared_error(y_train, y_train_predicted_sgd))\n",
    "\n",
    "# Training data: Explained variance score: 1 is perfect prediction\n",
    "print(\"Train: Coefficient of determination r^2 variance score [1 is perfect prediction]: %.2f\" \n",
    "      % r2_score(y_train, y_train_predicted_sgd))\n",
    "\n",
    "# Test data: Make prediction \n",
    "y_test_predicted = sgd.predict(X_test)\n",
    "\n",
    "print(\"\\nTest: Mean squared error: %.2f\"\n",
    "      % mean_squared_error(y_test, y_test_predicted))\n",
    "\n",
    "# Training data: Explained variance score: 1 is perfect prediction\n",
    "print(\"Test: Coefficient of determination r^2 variance score [1 is perfect prediction]: %.2f\" \n",
    "      % r2_score(y_test, y_test_predicted))"
   ]
  },
  {
   "cell_type": "markdown",
   "metadata": {},
   "source": [
    "### Create a learning curve (negative MSE vs train/validation data) using the optimal model"
   ]
  },
  {
   "cell_type": "code",
   "execution_count": 12,
   "metadata": {
    "scrolled": false
   },
   "outputs": [
    {
     "name": "stdout",
     "output_type": "stream",
     "text": [
      "No. of Original Features:  6\n",
      "No. of Augmented Features:  3002\n"
     ]
    },
    {
     "data": {
      "image/png": "[encoded data removed]",
      "text/plain": [
       "<Figure size 720x432 with 1 Axes>"
      ]
     },
     "metadata": {
      "needs_background": "light"
     },
     "output_type": "display_data"
    }
   ],
   "source": [
    "# Variable that speficies the degree of the polynomial to be added to the feature vector\n",
    "poly_degree = 8\n",
    "\n",
    "\n",
    "# Add polynomial and bias term with the feature vector using the sklearn PolynomialFeatures class\n",
    "poly_features = PolynomialFeatures(degree=poly_degree, include_bias=False)\n",
    "X_train_poly = poly_features.fit_transform(X_train)\n",
    "\n",
    "print(\"No. of Original Features: \", X_train.shape[1])\n",
    "print(\"No. of Augmented Features: \", X_train_poly.shape[1])\n",
    "\n",
    "\n",
    "scaler = StandardScaler().fit(X_train_poly)\n",
    "X_train_poly_standardized = scaler.transform(X_train_poly)\n",
    "\n",
    "\n",
    "\n",
    "train_sizes, train_scores, val_scores = learning_curve(LinearRegression(), X_train_poly_standardized, y_train, cv=5, \n",
    "                                                        scoring='neg_mean_squared_error', \n",
    "                                                        train_sizes=np.linspace(0.01, 1.0, 50))\n",
    "                                                                                                                                                                                                       \n",
    "                                                        \n",
    "# Create means and standard deviations of training set scores\n",
    "train_mean = np.mean(train_scores, axis=1)\n",
    "train_std = np.std(train_scores, axis=1)\n",
    "\n",
    "# Create means and standard deviations of validation set scores\n",
    "val_mean = np.mean(val_scores, axis=1)\n",
    "val_std = np.std(val_scores, axis=1)\n",
    "\n",
    "\n",
    "plt.figure(figsize=(10, 6))\n",
    "plt.plot(train_sizes, train_mean, \"r-+\", linewidth=3, label=\"Training Score\")\n",
    "plt.plot(train_sizes, val_mean, \"b-\", linewidth=2, label=\"Cross-validation Score\")\n",
    "plt.legend(loc=\"best\", fontsize=14)   \n",
    "plt.xlabel(\"Training set size\", fontsize=14) \n",
    "plt.ylabel(\"Negative MSE\", fontsize=14) \n",
    "plt.title(\"Learning Curve: Polynomial Degree = %d\" % poly_degree)\n",
    "plt.show()"
   ]
  },
  {
   "cell_type": "markdown",
   "metadata": {},
   "source": [
    "### Q-1) What does the learning curve tell you? Is your model underfitting or overfitting? Does it have high/low bias and high/low variance? Justify your answer."
   ]
  },
  {
   "cell_type": "markdown",
   "metadata": {},
   "source": [
    "First, let’s look at the performance on the training data: The performance on the training data is near to perfect as it has close to 0.0 for the entire training set range. \n",
    "\n",
    "Then, look at the performance of the model on the validation data. When the model is trained on a few training instances, it is incapable of generalizing properly. However, we used high polynomial degree = **8** so it reduced the validation error close to 0 at the beginning. But it experiences huge validation error when the number of instances increase to roughly **20 to 40**. There might be a brief **overfitting (high variance)** here, hence a huge gap occurred that shows large MSE. Then as the model is shown more training examples, it learns and thus the validation error **quickly** goes down. Finally, the error ends up at ~0.0 for both train and validation data.\n",
    "\n",
    "The learning curve illustrates that the model is well optimized at polynomial degree of 8 with low bias and low variance. Neither overfitting (high variance) or underfitting (high bias) here. The MSE for both training and validation data is close to 0 which shows a good model overall. \n"
   ]
  }
 ],
 "metadata": {
  "kernelspec": {
   "display_name": "Python 3 (ipykernel)",
   "language": "python",
   "name": "python3"
  },
  "language_info": {
   "codemirror_mode": {
    "name": "ipython",
    "version": 3
   },
   "file_extension": ".py",
   "mimetype": "text/x-python",
   "name": "python",
   "nbconvert_exporter": "python",
   "pygments_lexer": "ipython3",
   "version": "3.9.12"
  }
 },
 "nbformat": 4,
 "nbformat_minor": 4
}
